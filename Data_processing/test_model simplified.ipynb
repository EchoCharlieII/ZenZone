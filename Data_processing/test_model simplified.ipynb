{
 "cells": [
  {
   "attachments": {},
   "cell_type": "markdown",
   "metadata": {},
   "source": [
    "# Test Model"
   ]
  },
  {
   "cell_type": "code",
   "execution_count": 2,
   "metadata": {},
   "outputs": [],
   "source": [
    "import pandas as pd\n",
    "from pandas import read_parquet\n",
    "\n",
    "import geopandas as gpd\n",
    "from shapely import wkt\n",
    "\n",
    "from shapely.geometry import Point\n",
    "\n",
    "import matplotlib.pyplot as plt\n",
    "\n",
    "from sklearn.ensemble import RandomForestRegressor\n",
    "\n",
    "import ast"
   ]
  },
  {
   "cell_type": "code",
   "execution_count": 35,
   "metadata": {},
   "outputs": [],
   "source": [
    "df = pd.read_parquet(\"data_for_model\")"
   ]
  },
  {
   "cell_type": "code",
   "execution_count": 36,
   "metadata": {},
   "outputs": [
    {
     "data": {
      "text/html": [
       "<div>\n",
       "<style scoped>\n",
       "    .dataframe tbody tr th:only-of-type {\n",
       "        vertical-align: middle;\n",
       "    }\n",
       "\n",
       "    .dataframe tbody tr th {\n",
       "        vertical-align: top;\n",
       "    }\n",
       "\n",
       "    .dataframe thead th {\n",
       "        text-align: right;\n",
       "    }\n",
       "</style>\n",
       "<table border=\"1\" class=\"dataframe\">\n",
       "  <thead>\n",
       "    <tr style=\"text-align: right;\">\n",
       "      <th></th>\n",
       "      <th>datetime</th>\n",
       "      <th>station id</th>\n",
       "      <th>bike_busyness</th>\n",
       "      <th>Taxi_Zone_ID</th>\n",
       "      <th>taxi_busyness</th>\n",
       "      <th>SegmentID</th>\n",
       "      <th>volume_busyness</th>\n",
       "    </tr>\n",
       "  </thead>\n",
       "  <tbody>\n",
       "    <tr>\n",
       "      <th>0</th>\n",
       "      <td>2018-10-14 15:15:00</td>\n",
       "      <td>3472</td>\n",
       "      <td>0.182482</td>\n",
       "      <td>68</td>\n",
       "      <td>0.210904</td>\n",
       "      <td>24244</td>\n",
       "      <td>0.011254</td>\n",
       "    </tr>\n",
       "    <tr>\n",
       "      <th>1</th>\n",
       "      <td>2018-10-14 15:15:00</td>\n",
       "      <td>3472</td>\n",
       "      <td>0.182482</td>\n",
       "      <td>68</td>\n",
       "      <td>0.210904</td>\n",
       "      <td>-31883</td>\n",
       "      <td>0.009149</td>\n",
       "    </tr>\n",
       "    <tr>\n",
       "      <th>2</th>\n",
       "      <td>2018-10-14 15:15:00</td>\n",
       "      <td>3472</td>\n",
       "      <td>0.182482</td>\n",
       "      <td>68</td>\n",
       "      <td>0.210904</td>\n",
       "      <td>24244</td>\n",
       "      <td>0.011254</td>\n",
       "    </tr>\n",
       "    <tr>\n",
       "      <th>3</th>\n",
       "      <td>2018-10-14 15:15:00</td>\n",
       "      <td>3472</td>\n",
       "      <td>0.182482</td>\n",
       "      <td>68</td>\n",
       "      <td>0.210904</td>\n",
       "      <td>-31883</td>\n",
       "      <td>0.009149</td>\n",
       "    </tr>\n",
       "    <tr>\n",
       "      <th>4</th>\n",
       "      <td>2018-10-14 15:15:00</td>\n",
       "      <td>3472</td>\n",
       "      <td>0.182482</td>\n",
       "      <td>68</td>\n",
       "      <td>0.210904</td>\n",
       "      <td>24244</td>\n",
       "      <td>0.011254</td>\n",
       "    </tr>\n",
       "  </tbody>\n",
       "</table>\n",
       "</div>"
      ],
      "text/plain": [
       "             datetime  station id  bike_busyness  Taxi_Zone_ID  taxi_busyness  \\\n",
       "0 2018-10-14 15:15:00        3472       0.182482            68       0.210904   \n",
       "1 2018-10-14 15:15:00        3472       0.182482            68       0.210904   \n",
       "2 2018-10-14 15:15:00        3472       0.182482            68       0.210904   \n",
       "3 2018-10-14 15:15:00        3472       0.182482            68       0.210904   \n",
       "4 2018-10-14 15:15:00        3472       0.182482            68       0.210904   \n",
       "\n",
       "   SegmentID  volume_busyness  \n",
       "0      24244         0.011254  \n",
       "1     -31883         0.009149  \n",
       "2      24244         0.011254  \n",
       "3     -31883         0.009149  \n",
       "4      24244         0.011254  "
      ]
     },
     "execution_count": 36,
     "metadata": {},
     "output_type": "execute_result"
    }
   ],
   "source": [
    "df.head()"
   ]
  },
  {
   "cell_type": "code",
   "execution_count": 37,
   "metadata": {},
   "outputs": [
    {
     "data": {
      "text/plain": [
       "\"\\ndf = df.rename(columns={\\n    'busyness_x': 'bike_busyness',\\n    'busyness_y': 'taxi_busyness',\\n    'busyness': 'volume_busyness'\\n})\\n\""
      ]
     },
     "execution_count": 37,
     "metadata": {},
     "output_type": "execute_result"
    }
   ],
   "source": [
    "df['average_busyness'] = df[['bike_busyness', 'taxi_busyness', 'volume_busyness']].mean(axis=1)\n",
    "\n",
    "\"\"\"\n",
    "df = df.rename(columns={\n",
    "    'busyness_x': 'bike_busyness',\n",
    "    'busyness_y': 'taxi_busyness',\n",
    "    'busyness': 'volume_busyness'\n",
    "})\n",
    "\"\"\""
   ]
  },
  {
   "attachments": {},
   "cell_type": "markdown",
   "metadata": {},
   "source": [
    "## Factor for street \"highway\""
   ]
  },
  {
   "cell_type": "code",
   "execution_count": 24,
   "metadata": {},
   "outputs": [],
   "source": [
    "def safe_loads(row):\n",
    "    try:\n",
    "        return wkt.loads(row)\n",
    "    except Exception:\n",
    "        print(f\"Error parsing row: {row}\")\n",
    "        return None  # or some other value"
   ]
  },
  {
   "cell_type": "code",
   "execution_count": 25,
   "metadata": {},
   "outputs": [],
   "source": [
    "street_zones = pd.read_parquet(\"street_zones_simplified.parquet\")"
   ]
  },
  {
   "cell_type": "code",
   "execution_count": 26,
   "metadata": {},
   "outputs": [],
   "source": [
    "street_zones['geometry'] = street_zones['geometry'].apply(safe_loads)\n",
    "street_zones['geometry'] = gpd.GeoSeries(street_zones['geometry'])"
   ]
  },
  {
   "cell_type": "code",
   "execution_count": 27,
   "metadata": {},
   "outputs": [
    {
     "data": {
      "text/plain": [
       "<geopandas.array.GeometryDtype at 0x170307bd0>"
      ]
     },
     "execution_count": 27,
     "metadata": {},
     "output_type": "execute_result"
    }
   ],
   "source": [
    "street_zones['geometry'].dtype"
   ]
  },
  {
   "cell_type": "code",
   "execution_count": 28,
   "metadata": {},
   "outputs": [
    {
     "data": {
      "text/html": [
       "<div>\n",
       "<style scoped>\n",
       "    .dataframe tbody tr th:only-of-type {\n",
       "        vertical-align: middle;\n",
       "    }\n",
       "\n",
       "    .dataframe tbody tr th {\n",
       "        vertical-align: top;\n",
       "    }\n",
       "\n",
       "    .dataframe thead th {\n",
       "        text-align: right;\n",
       "    }\n",
       "</style>\n",
       "<table border=\"1\" class=\"dataframe\">\n",
       "  <thead>\n",
       "    <tr style=\"text-align: right;\">\n",
       "      <th></th>\n",
       "      <th>highway</th>\n",
       "      <th>geometry</th>\n",
       "      <th>index_right</th>\n",
       "      <th>Taxi_Zone_ID</th>\n",
       "    </tr>\n",
       "  </thead>\n",
       "  <tbody>\n",
       "    <tr>\n",
       "      <th>49464</th>\n",
       "      <td>path</td>\n",
       "      <td>LINESTRING (-73.99998 40.70762, -73.99960 40.7...</td>\n",
       "      <td>210.0</td>\n",
       "      <td>209.0</td>\n",
       "    </tr>\n",
       "    <tr>\n",
       "      <th>87088</th>\n",
       "      <td>footway</td>\n",
       "      <td>LINESTRING (-74.00009 40.70774, -74.00010 40.7...</td>\n",
       "      <td>210.0</td>\n",
       "      <td>209.0</td>\n",
       "    </tr>\n",
       "    <tr>\n",
       "      <th>5423</th>\n",
       "      <td>motorway_link</td>\n",
       "      <td>LINESTRING (-74.00017 40.70857, -74.00015 40.7...</td>\n",
       "      <td>210.0</td>\n",
       "      <td>209.0</td>\n",
       "    </tr>\n",
       "    <tr>\n",
       "      <th>5423</th>\n",
       "      <td>motorway_link</td>\n",
       "      <td>LINESTRING (-74.00017 40.70857, -74.00015 40.7...</td>\n",
       "      <td>41.0</td>\n",
       "      <td>45.0</td>\n",
       "    </tr>\n",
       "    <tr>\n",
       "      <th>7755</th>\n",
       "      <td>motorway</td>\n",
       "      <td>LINESTRING (-73.99685 40.70903, -73.99742 40.7...</td>\n",
       "      <td>210.0</td>\n",
       "      <td>209.0</td>\n",
       "    </tr>\n",
       "  </tbody>\n",
       "</table>\n",
       "</div>"
      ],
      "text/plain": [
       "             highway                                           geometry  \\\n",
       "49464           path  LINESTRING (-73.99998 40.70762, -73.99960 40.7...   \n",
       "87088        footway  LINESTRING (-74.00009 40.70774, -74.00010 40.7...   \n",
       "5423   motorway_link  LINESTRING (-74.00017 40.70857, -74.00015 40.7...   \n",
       "5423   motorway_link  LINESTRING (-74.00017 40.70857, -74.00015 40.7...   \n",
       "7755        motorway  LINESTRING (-73.99685 40.70903, -73.99742 40.7...   \n",
       "\n",
       "       index_right  Taxi_Zone_ID  \n",
       "49464        210.0         209.0  \n",
       "87088        210.0         209.0  \n",
       "5423         210.0         209.0  \n",
       "5423          41.0          45.0  \n",
       "7755         210.0         209.0  "
      ]
     },
     "execution_count": 28,
     "metadata": {},
     "output_type": "execute_result"
    }
   ],
   "source": [
    "street_zones.head()"
   ]
  },
  {
   "cell_type": "code",
   "execution_count": 29,
   "metadata": {},
   "outputs": [],
   "source": [
    "street_zones = street_zones.drop('index_right', axis=1)"
   ]
  },
  {
   "cell_type": "code",
   "execution_count": 30,
   "metadata": {},
   "outputs": [
    {
     "data": {
      "text/plain": [
       "array(['path', 'footway', 'motorway_link', 'motorway', 'cycleway',\n",
       "       'trunk', 'primary', 'steps', 'residential', 'secondary', 'service',\n",
       "       'pedestrian', 'unclassified', 'primary_link', 'living_street',\n",
       "       'construction', 'elevator', 'trunk_link', 'secondary_link',\n",
       "       'tertiary', 'corridor', 'tertiary_link', 'track', 'bridleway',\n",
       "       'proposed'], dtype=object)"
      ]
     },
     "execution_count": 30,
     "metadata": {},
     "output_type": "execute_result"
    }
   ],
   "source": [
    "street_zones[\"highway\"].unique()"
   ]
  },
  {
   "cell_type": "code",
   "execution_count": 42,
   "metadata": {},
   "outputs": [],
   "source": [
    "# Factor based on path description (https://wiki.openstreetmap.org/wiki/Key:highway)\n",
    "highway_factor = {\n",
    "    'path': 0.6,\n",
    "    'bridleway': 0.4,\n",
    "    'footway': 0.6, \n",
    "    'cycleway': 0.6, \n",
    "    'secondary': 1, \n",
    "    'residential': 0.6, \n",
    "    'primary':1.3, \n",
    "    'tertiary':0.8, \n",
    "    'service':0.4, \n",
    "    'trunk':1.4, \n",
    "    'unclassified': 0.6, \n",
    "    'pedestrian': 0.6, \n",
    "    'tertiary_link': 0.8, \n",
    "    'living_street': 0.4, \n",
    "    'secondary_link':1, \n",
    "    'primary_link': 1.3, \n",
    "    'trunk_link': 1.4,\n",
    "    'motorway': 1,\n",
    "    'motorway_link': 1,\n",
    "    'steps': 0.4,\n",
    "    'track': 0.6,\n",
    "    'elevator': 0.6,\n",
    "    'construction': 1.2,\n",
    "    'corridor': 0.8,\n",
    "    'proposed': 0.8,\n",
    "    }"
   ]
  },
  {
   "cell_type": "code",
   "execution_count": 43,
   "metadata": {},
   "outputs": [],
   "source": [
    "highway_types = list(highway_factor.keys())"
   ]
  },
  {
   "cell_type": "code",
   "execution_count": 44,
   "metadata": {},
   "outputs": [
    {
     "name": "stdout",
     "output_type": "stream",
     "text": [
      "             highway                                           geometry  \\\n",
      "49464           path  LINESTRING (-73.99998 40.70762, -73.99960 40.7...   \n",
      "87088        footway  LINESTRING (-74.00009 40.70774, -74.00010 40.7...   \n",
      "5423   motorway_link  LINESTRING (-74.00017 40.70857, -74.00015 40.7...   \n",
      "5423   motorway_link  LINESTRING (-74.00017 40.70857, -74.00015 40.7...   \n",
      "7755        motorway  LINESTRING (-73.99685 40.70903, -73.99742 40.7...   \n",
      "\n",
      "       Taxi_Zone_ID  highway_factor  \n",
      "49464         209.0             0.6  \n",
      "87088         209.0             0.6  \n",
      "5423          209.0             1.0  \n",
      "5423           45.0             1.0  \n",
      "7755          209.0             1.0  \n"
     ]
    }
   ],
   "source": [
    "def find_and_average(row):\n",
    "    highway_values = row['highway']\n",
    "    if highway_values.startswith('['):  # if the value is a list\n",
    "        highway_values = ast.literal_eval(highway_values)\n",
    "    else:  # if the value is a single string\n",
    "        highway_values = [highway_values]\n",
    "    vals = [highway_factor[k] for k in highway_values if k in highway_types]\n",
    "    return sum(vals) / len(vals) if vals else None\n",
    "\n",
    "street_zones['highway_factor'] = street_zones.apply(find_and_average, axis=1)\n",
    "\n",
    "print(street_zones.head())"
   ]
  },
  {
   "cell_type": "code",
   "execution_count": 45,
   "metadata": {},
   "outputs": [
    {
     "data": {
      "text/plain": [
       "array([0.6, 1. , 1.4, 1.3, 0.4, 1.2, 0.8, nan])"
      ]
     },
     "execution_count": 45,
     "metadata": {},
     "output_type": "execute_result"
    }
   ],
   "source": [
    "street_zones[\"highway_factor\"].unique()"
   ]
  },
  {
   "attachments": {},
   "cell_type": "markdown",
   "metadata": {},
   "source": []
  },
  {
   "cell_type": "code",
   "execution_count": 46,
   "metadata": {},
   "outputs": [
    {
     "data": {
      "text/html": [
       "<div>\n",
       "<style scoped>\n",
       "    .dataframe tbody tr th:only-of-type {\n",
       "        vertical-align: middle;\n",
       "    }\n",
       "\n",
       "    .dataframe tbody tr th {\n",
       "        vertical-align: top;\n",
       "    }\n",
       "\n",
       "    .dataframe thead th {\n",
       "        text-align: right;\n",
       "    }\n",
       "</style>\n",
       "<table border=\"1\" class=\"dataframe\">\n",
       "  <thead>\n",
       "    <tr style=\"text-align: right;\">\n",
       "      <th></th>\n",
       "      <th>highway</th>\n",
       "      <th>geometry</th>\n",
       "      <th>Taxi_Zone_ID</th>\n",
       "      <th>highway_factor</th>\n",
       "    </tr>\n",
       "  </thead>\n",
       "  <tbody>\n",
       "    <tr>\n",
       "      <th>31120</th>\n",
       "      <td>corridor</td>\n",
       "      <td>LINESTRING (-73.97798 40.75836, -73.97810 40.7...</td>\n",
       "      <td>161.0</td>\n",
       "      <td>NaN</td>\n",
       "    </tr>\n",
       "    <tr>\n",
       "      <th>31124</th>\n",
       "      <td>corridor</td>\n",
       "      <td>LINESTRING (-73.97788 40.75850, -73.97775 40.7...</td>\n",
       "      <td>161.0</td>\n",
       "      <td>NaN</td>\n",
       "    </tr>\n",
       "    <tr>\n",
       "      <th>86299</th>\n",
       "      <td>proposed</td>\n",
       "      <td>LINESTRING (-73.93459 40.80998, -73.93445 40.8...</td>\n",
       "      <td>74.0</td>\n",
       "      <td>NaN</td>\n",
       "    </tr>\n",
       "    <tr>\n",
       "      <th>82561</th>\n",
       "      <td>proposed</td>\n",
       "      <td>LINESTRING (-73.92976 40.84809, -73.92976 40.8...</td>\n",
       "      <td>120.0</td>\n",
       "      <td>NaN</td>\n",
       "    </tr>\n",
       "    <tr>\n",
       "      <th>82561</th>\n",
       "      <td>proposed</td>\n",
       "      <td>LINESTRING (-73.92976 40.84809, -73.92976 40.8...</td>\n",
       "      <td>243.0</td>\n",
       "      <td>NaN</td>\n",
       "    </tr>\n",
       "  </tbody>\n",
       "</table>\n",
       "</div>"
      ],
      "text/plain": [
       "        highway                                           geometry  \\\n",
       "31120  corridor  LINESTRING (-73.97798 40.75836, -73.97810 40.7...   \n",
       "31124  corridor  LINESTRING (-73.97788 40.75850, -73.97775 40.7...   \n",
       "86299  proposed  LINESTRING (-73.93459 40.80998, -73.93445 40.8...   \n",
       "82561  proposed  LINESTRING (-73.92976 40.84809, -73.92976 40.8...   \n",
       "82561  proposed  LINESTRING (-73.92976 40.84809, -73.92976 40.8...   \n",
       "\n",
       "       Taxi_Zone_ID  highway_factor  \n",
       "31120         161.0             NaN  \n",
       "31124         161.0             NaN  \n",
       "86299          74.0             NaN  \n",
       "82561         120.0             NaN  \n",
       "82561         243.0             NaN  "
      ]
     },
     "execution_count": 46,
     "metadata": {},
     "output_type": "execute_result"
    }
   ],
   "source": [
    "street_zones[street_zones['highway_factor'].isna()]"
   ]
  },
  {
   "cell_type": "code",
   "execution_count": 57,
   "metadata": {},
   "outputs": [],
   "source": [
    "street_zones['geometry'] = street_zones['geometry'].astype(str)\n",
    "street_zones.to_parquet('street_zones_factor.parquet', engine='pyarrow')"
   ]
  },
  {
   "attachments": {},
   "cell_type": "markdown",
   "metadata": {},
   "source": [
    "### Mapping\n",
    "\n",
    "A function that creates from prediction table a street edge table\n",
    "<br>\n",
    "<br>\n",
    "Input: table with [taxi_zone] and [busyness_index]<br>\n",
    "Output: table with street and adjusted busyness_index"
   ]
  },
  {
   "cell_type": "code",
   "execution_count": 59,
   "metadata": {},
   "outputs": [
    {
     "ename": "KeyError",
     "evalue": "\"['busyness'] not in index\"",
     "output_type": "error",
     "traceback": [
      "\u001b[0;31m---------------------------------------------------------------------------\u001b[0m",
      "\u001b[0;31mKeyError\u001b[0m                                  Traceback (most recent call last)",
      "Cell \u001b[0;32mIn[59], line 22\u001b[0m\n\u001b[1;32m     17\u001b[0m     \u001b[39mreturn\u001b[39;00m output_df\n\u001b[1;32m     20\u001b[0m street_zones \u001b[39m=\u001b[39m pd\u001b[39m.\u001b[39mread_parquet(\u001b[39m\"\u001b[39m\u001b[39mstreet_zones_factor.parquet\u001b[39m\u001b[39m\"\u001b[39m)\n\u001b[0;32m---> 22\u001b[0m new_result \u001b[39m=\u001b[39m get_streets(df, street_zones)\n",
      "Cell \u001b[0;32mIn[59], line 12\u001b[0m, in \u001b[0;36mget_streets\u001b[0;34m(df, street_zones)\u001b[0m\n\u001b[1;32m      2\u001b[0m \u001b[39m\u001b[39m\u001b[39m\"\"\"\u001b[39;00m\n\u001b[1;32m      3\u001b[0m \u001b[39mInput: table with [taxi_zone] and [busyness_index]\u001b[39;00m\n\u001b[1;32m      4\u001b[0m \u001b[39m    df = result of prediction\u001b[39;00m\n\u001b[0;32m   (...)\u001b[0m\n\u001b[1;32m      7\u001b[0m \u001b[39mOutput: table with street and adjusted busyness_index\u001b[39;00m\n\u001b[1;32m      8\u001b[0m \u001b[39m\"\"\"\u001b[39;00m\n\u001b[1;32m     11\u001b[0m \u001b[39m# Perform the join.\u001b[39;00m\n\u001b[0;32m---> 12\u001b[0m output_df \u001b[39m=\u001b[39m street_zones\u001b[39m.\u001b[39mmerge(df[[\u001b[39m'\u001b[39;49m\u001b[39mTaxi_Zone_ID\u001b[39;49m\u001b[39m'\u001b[39;49m, \u001b[39m'\u001b[39;49m\u001b[39mbusyness\u001b[39;49m\u001b[39m'\u001b[39;49m]], on\u001b[39m=\u001b[39m\u001b[39m'\u001b[39m\u001b[39mTaxi_Zone_ID\u001b[39m\u001b[39m'\u001b[39m, how\u001b[39m=\u001b[39m\u001b[39m'\u001b[39m\u001b[39mleft\u001b[39m\u001b[39m'\u001b[39m)\n\u001b[1;32m     14\u001b[0m \u001b[39m# Adjust busyness by the highway factor.\u001b[39;00m\n\u001b[1;32m     15\u001b[0m output_df[\u001b[39m'\u001b[39m\u001b[39mstreet_busyness\u001b[39m\u001b[39m'\u001b[39m] \u001b[39m=\u001b[39m \u001b[39m1\u001b[39m \u001b[39m-\u001b[39m (\u001b[39m1\u001b[39m \u001b[39m-\u001b[39m output_df[\u001b[39m'\u001b[39m\u001b[39mbusyness\u001b[39m\u001b[39m'\u001b[39m]) \u001b[39m*\u001b[39m output_df[\u001b[39m'\u001b[39m\u001b[39mhighway_factor\u001b[39m\u001b[39m'\u001b[39m]\n",
      "File \u001b[0;32m~/opt/anaconda3/envs/ox/lib/python3.11/site-packages/pandas/core/frame.py:3767\u001b[0m, in \u001b[0;36mDataFrame.__getitem__\u001b[0;34m(self, key)\u001b[0m\n\u001b[1;32m   3765\u001b[0m     \u001b[39mif\u001b[39;00m is_iterator(key):\n\u001b[1;32m   3766\u001b[0m         key \u001b[39m=\u001b[39m \u001b[39mlist\u001b[39m(key)\n\u001b[0;32m-> 3767\u001b[0m     indexer \u001b[39m=\u001b[39m \u001b[39mself\u001b[39;49m\u001b[39m.\u001b[39;49mcolumns\u001b[39m.\u001b[39;49m_get_indexer_strict(key, \u001b[39m\"\u001b[39;49m\u001b[39mcolumns\u001b[39;49m\u001b[39m\"\u001b[39;49m)[\u001b[39m1\u001b[39m]\n\u001b[1;32m   3769\u001b[0m \u001b[39m# take() does not accept boolean indexers\u001b[39;00m\n\u001b[1;32m   3770\u001b[0m \u001b[39mif\u001b[39;00m \u001b[39mgetattr\u001b[39m(indexer, \u001b[39m\"\u001b[39m\u001b[39mdtype\u001b[39m\u001b[39m\"\u001b[39m, \u001b[39mNone\u001b[39;00m) \u001b[39m==\u001b[39m \u001b[39mbool\u001b[39m:\n",
      "File \u001b[0;32m~/opt/anaconda3/envs/ox/lib/python3.11/site-packages/pandas/core/indexes/base.py:5876\u001b[0m, in \u001b[0;36mIndex._get_indexer_strict\u001b[0;34m(self, key, axis_name)\u001b[0m\n\u001b[1;32m   5873\u001b[0m \u001b[39melse\u001b[39;00m:\n\u001b[1;32m   5874\u001b[0m     keyarr, indexer, new_indexer \u001b[39m=\u001b[39m \u001b[39mself\u001b[39m\u001b[39m.\u001b[39m_reindex_non_unique(keyarr)\n\u001b[0;32m-> 5876\u001b[0m \u001b[39mself\u001b[39;49m\u001b[39m.\u001b[39;49m_raise_if_missing(keyarr, indexer, axis_name)\n\u001b[1;32m   5878\u001b[0m keyarr \u001b[39m=\u001b[39m \u001b[39mself\u001b[39m\u001b[39m.\u001b[39mtake(indexer)\n\u001b[1;32m   5879\u001b[0m \u001b[39mif\u001b[39;00m \u001b[39misinstance\u001b[39m(key, Index):\n\u001b[1;32m   5880\u001b[0m     \u001b[39m# GH 42790 - Preserve name from an Index\u001b[39;00m\n",
      "File \u001b[0;32m~/opt/anaconda3/envs/ox/lib/python3.11/site-packages/pandas/core/indexes/base.py:5938\u001b[0m, in \u001b[0;36mIndex._raise_if_missing\u001b[0;34m(self, key, indexer, axis_name)\u001b[0m\n\u001b[1;32m   5935\u001b[0m     \u001b[39mraise\u001b[39;00m \u001b[39mKeyError\u001b[39;00m(\u001b[39mf\u001b[39m\u001b[39m\"\u001b[39m\u001b[39mNone of [\u001b[39m\u001b[39m{\u001b[39;00mkey\u001b[39m}\u001b[39;00m\u001b[39m] are in the [\u001b[39m\u001b[39m{\u001b[39;00maxis_name\u001b[39m}\u001b[39;00m\u001b[39m]\u001b[39m\u001b[39m\"\u001b[39m)\n\u001b[1;32m   5937\u001b[0m not_found \u001b[39m=\u001b[39m \u001b[39mlist\u001b[39m(ensure_index(key)[missing_mask\u001b[39m.\u001b[39mnonzero()[\u001b[39m0\u001b[39m]]\u001b[39m.\u001b[39munique())\n\u001b[0;32m-> 5938\u001b[0m \u001b[39mraise\u001b[39;00m \u001b[39mKeyError\u001b[39;00m(\u001b[39mf\u001b[39m\u001b[39m\"\u001b[39m\u001b[39m{\u001b[39;00mnot_found\u001b[39m}\u001b[39;00m\u001b[39m not in index\u001b[39m\u001b[39m\"\u001b[39m)\n",
      "\u001b[0;31mKeyError\u001b[0m: \"['busyness'] not in index\""
     ]
    }
   ],
   "source": [
    "def get_streets(df, street_zones):\n",
    "    \"\"\"\n",
    "    Input: table with [taxi_zone] and [busyness_index]\n",
    "        df = result of prediction\n",
    "        street_zones = mapping table from \n",
    "\n",
    "    Output: table with street and adjusted busyness_index\n",
    "    \"\"\"\n",
    "\n",
    "\n",
    "    # Perform the join.\n",
    "    output_df = street_zones.merge(df[['Taxi_Zone_ID', 'busyness']], on='Taxi_Zone_ID', how='left')\n",
    "\n",
    "    # Adjust busyness by the highway factor.\n",
    "    output_df['street_busyness'] = 1 - (1 - output_df['busyness']) * output_df['highway_factor']\n",
    "\n",
    "    return output_df\n",
    "\n",
    "\n",
    "street_zones = pd.read_parquet(\"street_zones_factor.parquet\")\n",
    "\n",
    "new_result = get_streets(df, street_zones)"
   ]
  },
  {
   "cell_type": "code",
   "execution_count": null,
   "metadata": {},
   "outputs": [
    {
     "data": {
      "text/plain": [
       "(37914, 6)"
      ]
     },
     "execution_count": 3,
     "metadata": {},
     "output_type": "execute_result"
    }
   ],
   "source": [
    "simplified_predict = pd.read_csv(\"predict_test.csv\")\n",
    "simplified_predict.shape"
   ]
  }
 ],
 "metadata": {
  "kernelspec": {
   "display_name": "ox",
   "language": "python",
   "name": "python3"
  },
  "language_info": {
   "codemirror_mode": {
    "name": "ipython",
    "version": 3
   },
   "file_extension": ".py",
   "mimetype": "text/x-python",
   "name": "python",
   "nbconvert_exporter": "python",
   "pygments_lexer": "ipython3",
   "version": "3.11.4"
  },
  "orig_nbformat": 4
 },
 "nbformat": 4,
 "nbformat_minor": 2
}

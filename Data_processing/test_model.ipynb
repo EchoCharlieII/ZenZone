{
 "cells": [
  {
   "attachments": {},
   "cell_type": "markdown",
   "metadata": {},
   "source": [
    "# Test Model"
   ]
  },
  {
   "cell_type": "code",
   "execution_count": 34,
   "metadata": {},
   "outputs": [],
   "source": [
    "import pandas as pd\n",
    "from pandas import read_parquet\n",
    "\n",
    "import geopandas as gpd\n",
    "from shapely import wkt\n",
    "\n",
    "from shapely.geometry import Point\n",
    "\n",
    "import matplotlib.pyplot as plt\n",
    "\n",
    "from sklearn.ensemble import RandomForestRegressor\n",
    "\n",
    "import ast"
   ]
  },
  {
   "cell_type": "code",
   "execution_count": 35,
   "metadata": {},
   "outputs": [],
   "source": [
    "df = pd.read_parquet(\"data_for_model\")"
   ]
  },
  {
   "cell_type": "code",
   "execution_count": 36,
   "metadata": {},
   "outputs": [
    {
     "data": {
      "text/html": [
       "<div>\n",
       "<style scoped>\n",
       "    .dataframe tbody tr th:only-of-type {\n",
       "        vertical-align: middle;\n",
       "    }\n",
       "\n",
       "    .dataframe tbody tr th {\n",
       "        vertical-align: top;\n",
       "    }\n",
       "\n",
       "    .dataframe thead th {\n",
       "        text-align: right;\n",
       "    }\n",
       "</style>\n",
       "<table border=\"1\" class=\"dataframe\">\n",
       "  <thead>\n",
       "    <tr style=\"text-align: right;\">\n",
       "      <th></th>\n",
       "      <th>datetime</th>\n",
       "      <th>station id</th>\n",
       "      <th>bike_busyness</th>\n",
       "      <th>Taxi_Zone_ID</th>\n",
       "      <th>taxi_busyness</th>\n",
       "      <th>SegmentID</th>\n",
       "      <th>volume_busyness</th>\n",
       "    </tr>\n",
       "  </thead>\n",
       "  <tbody>\n",
       "    <tr>\n",
       "      <th>0</th>\n",
       "      <td>2018-10-14 15:15:00</td>\n",
       "      <td>3472</td>\n",
       "      <td>0.182482</td>\n",
       "      <td>68</td>\n",
       "      <td>0.210904</td>\n",
       "      <td>24244</td>\n",
       "      <td>0.011254</td>\n",
       "    </tr>\n",
       "    <tr>\n",
       "      <th>1</th>\n",
       "      <td>2018-10-14 15:15:00</td>\n",
       "      <td>3472</td>\n",
       "      <td>0.182482</td>\n",
       "      <td>68</td>\n",
       "      <td>0.210904</td>\n",
       "      <td>-31883</td>\n",
       "      <td>0.009149</td>\n",
       "    </tr>\n",
       "    <tr>\n",
       "      <th>2</th>\n",
       "      <td>2018-10-14 15:15:00</td>\n",
       "      <td>3472</td>\n",
       "      <td>0.182482</td>\n",
       "      <td>68</td>\n",
       "      <td>0.210904</td>\n",
       "      <td>24244</td>\n",
       "      <td>0.011254</td>\n",
       "    </tr>\n",
       "    <tr>\n",
       "      <th>3</th>\n",
       "      <td>2018-10-14 15:15:00</td>\n",
       "      <td>3472</td>\n",
       "      <td>0.182482</td>\n",
       "      <td>68</td>\n",
       "      <td>0.210904</td>\n",
       "      <td>-31883</td>\n",
       "      <td>0.009149</td>\n",
       "    </tr>\n",
       "    <tr>\n",
       "      <th>4</th>\n",
       "      <td>2018-10-14 15:15:00</td>\n",
       "      <td>3472</td>\n",
       "      <td>0.182482</td>\n",
       "      <td>68</td>\n",
       "      <td>0.210904</td>\n",
       "      <td>24244</td>\n",
       "      <td>0.011254</td>\n",
       "    </tr>\n",
       "  </tbody>\n",
       "</table>\n",
       "</div>"
      ],
      "text/plain": [
       "             datetime  station id  bike_busyness  Taxi_Zone_ID  taxi_busyness  \\\n",
       "0 2018-10-14 15:15:00        3472       0.182482            68       0.210904   \n",
       "1 2018-10-14 15:15:00        3472       0.182482            68       0.210904   \n",
       "2 2018-10-14 15:15:00        3472       0.182482            68       0.210904   \n",
       "3 2018-10-14 15:15:00        3472       0.182482            68       0.210904   \n",
       "4 2018-10-14 15:15:00        3472       0.182482            68       0.210904   \n",
       "\n",
       "   SegmentID  volume_busyness  \n",
       "0      24244         0.011254  \n",
       "1     -31883         0.009149  \n",
       "2      24244         0.011254  \n",
       "3     -31883         0.009149  \n",
       "4      24244         0.011254  "
      ]
     },
     "execution_count": 36,
     "metadata": {},
     "output_type": "execute_result"
    }
   ],
   "source": [
    "df.head()"
   ]
  },
  {
   "cell_type": "code",
   "execution_count": 37,
   "metadata": {},
   "outputs": [
    {
     "data": {
      "text/plain": [
       "\"\\ndf = df.rename(columns={\\n    'busyness_x': 'bike_busyness',\\n    'busyness_y': 'taxi_busyness',\\n    'busyness': 'volume_busyness'\\n})\\n\""
      ]
     },
     "execution_count": 37,
     "metadata": {},
     "output_type": "execute_result"
    }
   ],
   "source": [
    "df['average_busyness'] = df[['bike_busyness', 'taxi_busyness', 'volume_busyness']].mean(axis=1)\n",
    "\n",
    "\"\"\"\n",
    "df = df.rename(columns={\n",
    "    'busyness_x': 'bike_busyness',\n",
    "    'busyness_y': 'taxi_busyness',\n",
    "    'busyness': 'volume_busyness'\n",
    "})\n",
    "\"\"\""
   ]
  },
  {
   "cell_type": "code",
   "execution_count": 38,
   "metadata": {},
   "outputs": [
    {
     "data": {
      "text/html": [
       "<div>\n",
       "<style scoped>\n",
       "    .dataframe tbody tr th:only-of-type {\n",
       "        vertical-align: middle;\n",
       "    }\n",
       "\n",
       "    .dataframe tbody tr th {\n",
       "        vertical-align: top;\n",
       "    }\n",
       "\n",
       "    .dataframe thead th {\n",
       "        text-align: right;\n",
       "    }\n",
       "</style>\n",
       "<table border=\"1\" class=\"dataframe\">\n",
       "  <thead>\n",
       "    <tr style=\"text-align: right;\">\n",
       "      <th></th>\n",
       "      <th>datetime</th>\n",
       "      <th>station id</th>\n",
       "      <th>bike_busyness</th>\n",
       "      <th>Taxi_Zone_ID</th>\n",
       "      <th>taxi_busyness</th>\n",
       "      <th>SegmentID</th>\n",
       "      <th>volume_busyness</th>\n",
       "      <th>average_busyness</th>\n",
       "      <th>weekday</th>\n",
       "      <th>month</th>\n",
       "      <th>time_of_day</th>\n",
       "      <th>time_of_week</th>\n",
       "    </tr>\n",
       "  </thead>\n",
       "  <tbody>\n",
       "    <tr>\n",
       "      <th>0</th>\n",
       "      <td>2018-10-14 15:15:00</td>\n",
       "      <td>3472</td>\n",
       "      <td>0.182482</td>\n",
       "      <td>68</td>\n",
       "      <td>0.210904</td>\n",
       "      <td>24244</td>\n",
       "      <td>0.011254</td>\n",
       "      <td>0.134880</td>\n",
       "      <td>6</td>\n",
       "      <td>10</td>\n",
       "      <td>61.0</td>\n",
       "      <td>637.0</td>\n",
       "    </tr>\n",
       "    <tr>\n",
       "      <th>1</th>\n",
       "      <td>2018-10-14 15:15:00</td>\n",
       "      <td>3472</td>\n",
       "      <td>0.182482</td>\n",
       "      <td>68</td>\n",
       "      <td>0.210904</td>\n",
       "      <td>-31883</td>\n",
       "      <td>0.009149</td>\n",
       "      <td>0.134178</td>\n",
       "      <td>6</td>\n",
       "      <td>10</td>\n",
       "      <td>61.0</td>\n",
       "      <td>637.0</td>\n",
       "    </tr>\n",
       "    <tr>\n",
       "      <th>2</th>\n",
       "      <td>2018-10-14 15:15:00</td>\n",
       "      <td>3472</td>\n",
       "      <td>0.182482</td>\n",
       "      <td>68</td>\n",
       "      <td>0.210904</td>\n",
       "      <td>24244</td>\n",
       "      <td>0.011254</td>\n",
       "      <td>0.134880</td>\n",
       "      <td>6</td>\n",
       "      <td>10</td>\n",
       "      <td>61.0</td>\n",
       "      <td>637.0</td>\n",
       "    </tr>\n",
       "    <tr>\n",
       "      <th>3</th>\n",
       "      <td>2018-10-14 15:15:00</td>\n",
       "      <td>3472</td>\n",
       "      <td>0.182482</td>\n",
       "      <td>68</td>\n",
       "      <td>0.210904</td>\n",
       "      <td>-31883</td>\n",
       "      <td>0.009149</td>\n",
       "      <td>0.134178</td>\n",
       "      <td>6</td>\n",
       "      <td>10</td>\n",
       "      <td>61.0</td>\n",
       "      <td>637.0</td>\n",
       "    </tr>\n",
       "    <tr>\n",
       "      <th>4</th>\n",
       "      <td>2018-10-14 15:15:00</td>\n",
       "      <td>3472</td>\n",
       "      <td>0.182482</td>\n",
       "      <td>68</td>\n",
       "      <td>0.210904</td>\n",
       "      <td>24244</td>\n",
       "      <td>0.011254</td>\n",
       "      <td>0.134880</td>\n",
       "      <td>6</td>\n",
       "      <td>10</td>\n",
       "      <td>61.0</td>\n",
       "      <td>637.0</td>\n",
       "    </tr>\n",
       "  </tbody>\n",
       "</table>\n",
       "</div>"
      ],
      "text/plain": [
       "             datetime  station id  bike_busyness  Taxi_Zone_ID  taxi_busyness  \\\n",
       "0 2018-10-14 15:15:00        3472       0.182482            68       0.210904   \n",
       "1 2018-10-14 15:15:00        3472       0.182482            68       0.210904   \n",
       "2 2018-10-14 15:15:00        3472       0.182482            68       0.210904   \n",
       "3 2018-10-14 15:15:00        3472       0.182482            68       0.210904   \n",
       "4 2018-10-14 15:15:00        3472       0.182482            68       0.210904   \n",
       "\n",
       "   SegmentID  volume_busyness  average_busyness  weekday  month  time_of_day  \\\n",
       "0      24244         0.011254          0.134880        6     10         61.0   \n",
       "1     -31883         0.009149          0.134178        6     10         61.0   \n",
       "2      24244         0.011254          0.134880        6     10         61.0   \n",
       "3     -31883         0.009149          0.134178        6     10         61.0   \n",
       "4      24244         0.011254          0.134880        6     10         61.0   \n",
       "\n",
       "   time_of_week  \n",
       "0         637.0  \n",
       "1         637.0  \n",
       "2         637.0  \n",
       "3         637.0  \n",
       "4         637.0  "
      ]
     },
     "execution_count": 38,
     "metadata": {},
     "output_type": "execute_result"
    }
   ],
   "source": [
    "# Trasnform datetime\n",
    "def transform_datetime(df):\n",
    "    df['datetime'] = pd.to_datetime(df['datetime'])\n",
    "\n",
    "    # Create a new column 'weekday' that is the day of the week (0=Monday, 6=Sunday)\n",
    "    df['weekday'] = df['datetime'].dt.weekday\n",
    "    df['month'] = df['datetime'].dt.month\n",
    "\n",
    "    # Create a new column 'minute_of_day' that is the minute of the day in steps of 15 min\n",
    "    df['time_of_day'] = (df['datetime'].dt.hour * 60 + df['datetime'].dt.minute) / 15\n",
    "\n",
    "    df['time_of_week'] = (df['datetime'].dt.hour * 60 + df['datetime'].dt.minute) / 15 + 96 * df['weekday']\n",
    "    return df\n",
    "\n",
    "df = transform_datetime(df)\n",
    "df.head()"
   ]
  },
  {
   "cell_type": "code",
   "execution_count": 39,
   "metadata": {},
   "outputs": [
    {
     "ename": "KeyboardInterrupt",
     "evalue": "",
     "output_type": "error",
     "traceback": [
      "\u001b[0;31m---------------------------------------------------------------------------\u001b[0m",
      "\u001b[0;31mKeyboardInterrupt\u001b[0m                         Traceback (most recent call last)",
      "Cell \u001b[0;32mIn[39], line 11\u001b[0m\n\u001b[1;32m      9\u001b[0m plt\u001b[39m.\u001b[39mtitle(\u001b[39m'\u001b[39m\u001b[39mPlot of busyness against time_of_day\u001b[39m\u001b[39m'\u001b[39m)\n\u001b[1;32m     10\u001b[0m plt\u001b[39m.\u001b[39mgrid(\u001b[39mTrue\u001b[39;00m)\n\u001b[0;32m---> 11\u001b[0m plt\u001b[39m.\u001b[39;49mshow()\n",
      "File \u001b[0;32m~/opt/anaconda3/envs/ox/lib/python3.11/site-packages/matplotlib/pyplot.py:446\u001b[0m, in \u001b[0;36mshow\u001b[0;34m(*args, **kwargs)\u001b[0m\n\u001b[1;32m    402\u001b[0m \u001b[39m\u001b[39m\u001b[39m\"\"\"\u001b[39;00m\n\u001b[1;32m    403\u001b[0m \u001b[39mDisplay all open figures.\u001b[39;00m\n\u001b[1;32m    404\u001b[0m \n\u001b[0;32m   (...)\u001b[0m\n\u001b[1;32m    443\u001b[0m \u001b[39mexplicitly there.\u001b[39;00m\n\u001b[1;32m    444\u001b[0m \u001b[39m\"\"\"\u001b[39;00m\n\u001b[1;32m    445\u001b[0m _warn_if_gui_out_of_main_thread()\n\u001b[0;32m--> 446\u001b[0m \u001b[39mreturn\u001b[39;00m _get_backend_mod()\u001b[39m.\u001b[39;49mshow(\u001b[39m*\u001b[39;49margs, \u001b[39m*\u001b[39;49m\u001b[39m*\u001b[39;49mkwargs)\n",
      "File \u001b[0;32m~/opt/anaconda3/envs/ox/lib/python3.11/site-packages/matplotlib_inline/backend_inline.py:90\u001b[0m, in \u001b[0;36mshow\u001b[0;34m(close, block)\u001b[0m\n\u001b[1;32m     88\u001b[0m \u001b[39mtry\u001b[39;00m:\n\u001b[1;32m     89\u001b[0m     \u001b[39mfor\u001b[39;00m figure_manager \u001b[39min\u001b[39;00m Gcf\u001b[39m.\u001b[39mget_all_fig_managers():\n\u001b[0;32m---> 90\u001b[0m         display(\n\u001b[1;32m     91\u001b[0m             figure_manager\u001b[39m.\u001b[39;49mcanvas\u001b[39m.\u001b[39;49mfigure,\n\u001b[1;32m     92\u001b[0m             metadata\u001b[39m=\u001b[39;49m_fetch_figure_metadata(figure_manager\u001b[39m.\u001b[39;49mcanvas\u001b[39m.\u001b[39;49mfigure)\n\u001b[1;32m     93\u001b[0m         )\n\u001b[1;32m     94\u001b[0m \u001b[39mfinally\u001b[39;00m:\n\u001b[1;32m     95\u001b[0m     show\u001b[39m.\u001b[39m_to_draw \u001b[39m=\u001b[39m []\n",
      "File \u001b[0;32m~/opt/anaconda3/envs/ox/lib/python3.11/site-packages/IPython/core/display_functions.py:298\u001b[0m, in \u001b[0;36mdisplay\u001b[0;34m(include, exclude, metadata, transient, display_id, raw, clear, *objs, **kwargs)\u001b[0m\n\u001b[1;32m    296\u001b[0m     publish_display_data(data\u001b[39m=\u001b[39mobj, metadata\u001b[39m=\u001b[39mmetadata, \u001b[39m*\u001b[39m\u001b[39m*\u001b[39mkwargs)\n\u001b[1;32m    297\u001b[0m \u001b[39melse\u001b[39;00m:\n\u001b[0;32m--> 298\u001b[0m     format_dict, md_dict \u001b[39m=\u001b[39m \u001b[39mformat\u001b[39;49m(obj, include\u001b[39m=\u001b[39;49minclude, exclude\u001b[39m=\u001b[39;49mexclude)\n\u001b[1;32m    299\u001b[0m     \u001b[39mif\u001b[39;00m \u001b[39mnot\u001b[39;00m format_dict:\n\u001b[1;32m    300\u001b[0m         \u001b[39m# nothing to display (e.g. _ipython_display_ took over)\u001b[39;00m\n\u001b[1;32m    301\u001b[0m         \u001b[39mcontinue\u001b[39;00m\n",
      "File \u001b[0;32m~/opt/anaconda3/envs/ox/lib/python3.11/site-packages/IPython/core/formatters.py:179\u001b[0m, in \u001b[0;36mDisplayFormatter.format\u001b[0;34m(self, obj, include, exclude)\u001b[0m\n\u001b[1;32m    177\u001b[0m md \u001b[39m=\u001b[39m \u001b[39mNone\u001b[39;00m\n\u001b[1;32m    178\u001b[0m \u001b[39mtry\u001b[39;00m:\n\u001b[0;32m--> 179\u001b[0m     data \u001b[39m=\u001b[39m formatter(obj)\n\u001b[1;32m    180\u001b[0m \u001b[39mexcept\u001b[39;00m:\n\u001b[1;32m    181\u001b[0m     \u001b[39m# FIXME: log the exception\u001b[39;00m\n\u001b[1;32m    182\u001b[0m     \u001b[39mraise\u001b[39;00m\n",
      "File \u001b[0;32m~/opt/anaconda3/envs/ox/lib/python3.11/site-packages/decorator.py:232\u001b[0m, in \u001b[0;36mdecorate.<locals>.fun\u001b[0;34m(*args, **kw)\u001b[0m\n\u001b[1;32m    230\u001b[0m \u001b[39mif\u001b[39;00m \u001b[39mnot\u001b[39;00m kwsyntax:\n\u001b[1;32m    231\u001b[0m     args, kw \u001b[39m=\u001b[39m fix(args, kw, sig)\n\u001b[0;32m--> 232\u001b[0m \u001b[39mreturn\u001b[39;00m caller(func, \u001b[39m*\u001b[39;49m(extras \u001b[39m+\u001b[39;49m args), \u001b[39m*\u001b[39;49m\u001b[39m*\u001b[39;49mkw)\n",
      "File \u001b[0;32m~/opt/anaconda3/envs/ox/lib/python3.11/site-packages/IPython/core/formatters.py:223\u001b[0m, in \u001b[0;36mcatch_format_error\u001b[0;34m(method, self, *args, **kwargs)\u001b[0m\n\u001b[1;32m    221\u001b[0m \u001b[39m\u001b[39m\u001b[39m\"\"\"show traceback on failed format call\"\"\"\u001b[39;00m\n\u001b[1;32m    222\u001b[0m \u001b[39mtry\u001b[39;00m:\n\u001b[0;32m--> 223\u001b[0m     r \u001b[39m=\u001b[39m method(\u001b[39mself\u001b[39;49m, \u001b[39m*\u001b[39;49margs, \u001b[39m*\u001b[39;49m\u001b[39m*\u001b[39;49mkwargs)\n\u001b[1;32m    224\u001b[0m \u001b[39mexcept\u001b[39;00m \u001b[39mNotImplementedError\u001b[39;00m:\n\u001b[1;32m    225\u001b[0m     \u001b[39m# don't warn on NotImplementedErrors\u001b[39;00m\n\u001b[1;32m    226\u001b[0m     \u001b[39mreturn\u001b[39;00m \u001b[39mself\u001b[39m\u001b[39m.\u001b[39m_check_return(\u001b[39mNone\u001b[39;00m, args[\u001b[39m0\u001b[39m])\n",
      "File \u001b[0;32m~/opt/anaconda3/envs/ox/lib/python3.11/site-packages/IPython/core/formatters.py:340\u001b[0m, in \u001b[0;36mBaseFormatter.__call__\u001b[0;34m(self, obj)\u001b[0m\n\u001b[1;32m    338\u001b[0m     \u001b[39mpass\u001b[39;00m\n\u001b[1;32m    339\u001b[0m \u001b[39melse\u001b[39;00m:\n\u001b[0;32m--> 340\u001b[0m     \u001b[39mreturn\u001b[39;00m printer(obj)\n\u001b[1;32m    341\u001b[0m \u001b[39m# Finally look for special method names\u001b[39;00m\n\u001b[1;32m    342\u001b[0m method \u001b[39m=\u001b[39m get_real_method(obj, \u001b[39mself\u001b[39m\u001b[39m.\u001b[39mprint_method)\n",
      "File \u001b[0;32m~/opt/anaconda3/envs/ox/lib/python3.11/site-packages/IPython/core/pylabtools.py:152\u001b[0m, in \u001b[0;36mprint_figure\u001b[0;34m(fig, fmt, bbox_inches, base64, **kwargs)\u001b[0m\n\u001b[1;32m    149\u001b[0m     \u001b[39mfrom\u001b[39;00m \u001b[39mmatplotlib\u001b[39;00m\u001b[39m.\u001b[39;00m\u001b[39mbackend_bases\u001b[39;00m \u001b[39mimport\u001b[39;00m FigureCanvasBase\n\u001b[1;32m    150\u001b[0m     FigureCanvasBase(fig)\n\u001b[0;32m--> 152\u001b[0m fig\u001b[39m.\u001b[39;49mcanvas\u001b[39m.\u001b[39;49mprint_figure(bytes_io, \u001b[39m*\u001b[39;49m\u001b[39m*\u001b[39;49mkw)\n\u001b[1;32m    153\u001b[0m data \u001b[39m=\u001b[39m bytes_io\u001b[39m.\u001b[39mgetvalue()\n\u001b[1;32m    154\u001b[0m \u001b[39mif\u001b[39;00m fmt \u001b[39m==\u001b[39m \u001b[39m'\u001b[39m\u001b[39msvg\u001b[39m\u001b[39m'\u001b[39m:\n",
      "File \u001b[0;32m~/opt/anaconda3/envs/ox/lib/python3.11/site-packages/matplotlib/backend_bases.py:2366\u001b[0m, in \u001b[0;36mFigureCanvasBase.print_figure\u001b[0;34m(self, filename, dpi, facecolor, edgecolor, orientation, format, bbox_inches, pad_inches, bbox_extra_artists, backend, **kwargs)\u001b[0m\n\u001b[1;32m   2362\u001b[0m \u001b[39mtry\u001b[39;00m:\n\u001b[1;32m   2363\u001b[0m     \u001b[39m# _get_renderer may change the figure dpi (as vector formats\u001b[39;00m\n\u001b[1;32m   2364\u001b[0m     \u001b[39m# force the figure dpi to 72), so we need to set it again here.\u001b[39;00m\n\u001b[1;32m   2365\u001b[0m     \u001b[39mwith\u001b[39;00m cbook\u001b[39m.\u001b[39m_setattr_cm(\u001b[39mself\u001b[39m\u001b[39m.\u001b[39mfigure, dpi\u001b[39m=\u001b[39mdpi):\n\u001b[0;32m-> 2366\u001b[0m         result \u001b[39m=\u001b[39m print_method(\n\u001b[1;32m   2367\u001b[0m             filename,\n\u001b[1;32m   2368\u001b[0m             facecolor\u001b[39m=\u001b[39;49mfacecolor,\n\u001b[1;32m   2369\u001b[0m             edgecolor\u001b[39m=\u001b[39;49medgecolor,\n\u001b[1;32m   2370\u001b[0m             orientation\u001b[39m=\u001b[39;49morientation,\n\u001b[1;32m   2371\u001b[0m             bbox_inches_restore\u001b[39m=\u001b[39;49m_bbox_inches_restore,\n\u001b[1;32m   2372\u001b[0m             \u001b[39m*\u001b[39;49m\u001b[39m*\u001b[39;49mkwargs)\n\u001b[1;32m   2373\u001b[0m \u001b[39mfinally\u001b[39;00m:\n\u001b[1;32m   2374\u001b[0m     \u001b[39mif\u001b[39;00m bbox_inches \u001b[39mand\u001b[39;00m restore_bbox:\n",
      "File \u001b[0;32m~/opt/anaconda3/envs/ox/lib/python3.11/site-packages/matplotlib/backend_bases.py:2232\u001b[0m, in \u001b[0;36mFigureCanvasBase._switch_canvas_and_return_print_method.<locals>.<lambda>\u001b[0;34m(*args, **kwargs)\u001b[0m\n\u001b[1;32m   2228\u001b[0m     optional_kws \u001b[39m=\u001b[39m {  \u001b[39m# Passed by print_figure for other renderers.\u001b[39;00m\n\u001b[1;32m   2229\u001b[0m         \u001b[39m\"\u001b[39m\u001b[39mdpi\u001b[39m\u001b[39m\"\u001b[39m, \u001b[39m\"\u001b[39m\u001b[39mfacecolor\u001b[39m\u001b[39m\"\u001b[39m, \u001b[39m\"\u001b[39m\u001b[39medgecolor\u001b[39m\u001b[39m\"\u001b[39m, \u001b[39m\"\u001b[39m\u001b[39morientation\u001b[39m\u001b[39m\"\u001b[39m,\n\u001b[1;32m   2230\u001b[0m         \u001b[39m\"\u001b[39m\u001b[39mbbox_inches_restore\u001b[39m\u001b[39m\"\u001b[39m}\n\u001b[1;32m   2231\u001b[0m     skip \u001b[39m=\u001b[39m optional_kws \u001b[39m-\u001b[39m {\u001b[39m*\u001b[39minspect\u001b[39m.\u001b[39msignature(meth)\u001b[39m.\u001b[39mparameters}\n\u001b[0;32m-> 2232\u001b[0m     print_method \u001b[39m=\u001b[39m functools\u001b[39m.\u001b[39mwraps(meth)(\u001b[39mlambda\u001b[39;00m \u001b[39m*\u001b[39margs, \u001b[39m*\u001b[39m\u001b[39m*\u001b[39mkwargs: meth(\n\u001b[1;32m   2233\u001b[0m         \u001b[39m*\u001b[39;49margs, \u001b[39m*\u001b[39;49m\u001b[39m*\u001b[39;49m{k: v \u001b[39mfor\u001b[39;49;00m k, v \u001b[39min\u001b[39;49;00m kwargs\u001b[39m.\u001b[39;49mitems() \u001b[39mif\u001b[39;49;00m k \u001b[39mnot\u001b[39;49;00m \u001b[39min\u001b[39;49;00m skip}))\n\u001b[1;32m   2234\u001b[0m \u001b[39melse\u001b[39;00m:  \u001b[39m# Let third-parties do as they see fit.\u001b[39;00m\n\u001b[1;32m   2235\u001b[0m     print_method \u001b[39m=\u001b[39m meth\n",
      "File \u001b[0;32m~/opt/anaconda3/envs/ox/lib/python3.11/site-packages/matplotlib/backends/backend_agg.py:509\u001b[0m, in \u001b[0;36mFigureCanvasAgg.print_png\u001b[0;34m(self, filename_or_obj, metadata, pil_kwargs)\u001b[0m\n\u001b[1;32m    462\u001b[0m \u001b[39mdef\u001b[39;00m \u001b[39mprint_png\u001b[39m(\u001b[39mself\u001b[39m, filename_or_obj, \u001b[39m*\u001b[39m, metadata\u001b[39m=\u001b[39m\u001b[39mNone\u001b[39;00m, pil_kwargs\u001b[39m=\u001b[39m\u001b[39mNone\u001b[39;00m):\n\u001b[1;32m    463\u001b[0m \u001b[39m    \u001b[39m\u001b[39m\"\"\"\u001b[39;00m\n\u001b[1;32m    464\u001b[0m \u001b[39m    Write the figure to a PNG file.\u001b[39;00m\n\u001b[1;32m    465\u001b[0m \n\u001b[0;32m   (...)\u001b[0m\n\u001b[1;32m    507\u001b[0m \u001b[39m        *metadata*, including the default 'Software' key.\u001b[39;00m\n\u001b[1;32m    508\u001b[0m \u001b[39m    \"\"\"\u001b[39;00m\n\u001b[0;32m--> 509\u001b[0m     \u001b[39mself\u001b[39;49m\u001b[39m.\u001b[39;49m_print_pil(filename_or_obj, \u001b[39m\"\u001b[39;49m\u001b[39mpng\u001b[39;49m\u001b[39m\"\u001b[39;49m, pil_kwargs, metadata)\n",
      "File \u001b[0;32m~/opt/anaconda3/envs/ox/lib/python3.11/site-packages/matplotlib/backends/backend_agg.py:457\u001b[0m, in \u001b[0;36mFigureCanvasAgg._print_pil\u001b[0;34m(self, filename_or_obj, fmt, pil_kwargs, metadata)\u001b[0m\n\u001b[1;32m    452\u001b[0m \u001b[39mdef\u001b[39;00m \u001b[39m_print_pil\u001b[39m(\u001b[39mself\u001b[39m, filename_or_obj, fmt, pil_kwargs, metadata\u001b[39m=\u001b[39m\u001b[39mNone\u001b[39;00m):\n\u001b[1;32m    453\u001b[0m \u001b[39m    \u001b[39m\u001b[39m\"\"\"\u001b[39;00m\n\u001b[1;32m    454\u001b[0m \u001b[39m    Draw the canvas, then save it using `.image.imsave` (to which\u001b[39;00m\n\u001b[1;32m    455\u001b[0m \u001b[39m    *pil_kwargs* and *metadata* are forwarded).\u001b[39;00m\n\u001b[1;32m    456\u001b[0m \u001b[39m    \"\"\"\u001b[39;00m\n\u001b[0;32m--> 457\u001b[0m     FigureCanvasAgg\u001b[39m.\u001b[39;49mdraw(\u001b[39mself\u001b[39;49m)\n\u001b[1;32m    458\u001b[0m     mpl\u001b[39m.\u001b[39mimage\u001b[39m.\u001b[39mimsave(\n\u001b[1;32m    459\u001b[0m         filename_or_obj, \u001b[39mself\u001b[39m\u001b[39m.\u001b[39mbuffer_rgba(), \u001b[39mformat\u001b[39m\u001b[39m=\u001b[39mfmt, origin\u001b[39m=\u001b[39m\u001b[39m\"\u001b[39m\u001b[39mupper\u001b[39m\u001b[39m\"\u001b[39m,\n\u001b[1;32m    460\u001b[0m         dpi\u001b[39m=\u001b[39m\u001b[39mself\u001b[39m\u001b[39m.\u001b[39mfigure\u001b[39m.\u001b[39mdpi, metadata\u001b[39m=\u001b[39mmetadata, pil_kwargs\u001b[39m=\u001b[39mpil_kwargs)\n",
      "File \u001b[0;32m~/opt/anaconda3/envs/ox/lib/python3.11/site-packages/matplotlib/backends/backend_agg.py:400\u001b[0m, in \u001b[0;36mFigureCanvasAgg.draw\u001b[0;34m(self)\u001b[0m\n\u001b[1;32m    396\u001b[0m \u001b[39m# Acquire a lock on the shared font cache.\u001b[39;00m\n\u001b[1;32m    397\u001b[0m \u001b[39mwith\u001b[39;00m RendererAgg\u001b[39m.\u001b[39mlock, \\\n\u001b[1;32m    398\u001b[0m      (\u001b[39mself\u001b[39m\u001b[39m.\u001b[39mtoolbar\u001b[39m.\u001b[39m_wait_cursor_for_draw_cm() \u001b[39mif\u001b[39;00m \u001b[39mself\u001b[39m\u001b[39m.\u001b[39mtoolbar\n\u001b[1;32m    399\u001b[0m       \u001b[39melse\u001b[39;00m nullcontext()):\n\u001b[0;32m--> 400\u001b[0m     \u001b[39mself\u001b[39;49m\u001b[39m.\u001b[39;49mfigure\u001b[39m.\u001b[39;49mdraw(\u001b[39mself\u001b[39;49m\u001b[39m.\u001b[39;49mrenderer)\n\u001b[1;32m    401\u001b[0m     \u001b[39m# A GUI class may be need to update a window using this draw, so\u001b[39;00m\n\u001b[1;32m    402\u001b[0m     \u001b[39m# don't forget to call the superclass.\u001b[39;00m\n\u001b[1;32m    403\u001b[0m     \u001b[39msuper\u001b[39m()\u001b[39m.\u001b[39mdraw()\n",
      "File \u001b[0;32m~/opt/anaconda3/envs/ox/lib/python3.11/site-packages/matplotlib/artist.py:95\u001b[0m, in \u001b[0;36m_finalize_rasterization.<locals>.draw_wrapper\u001b[0;34m(artist, renderer, *args, **kwargs)\u001b[0m\n\u001b[1;32m     93\u001b[0m \u001b[39m@wraps\u001b[39m(draw)\n\u001b[1;32m     94\u001b[0m \u001b[39mdef\u001b[39;00m \u001b[39mdraw_wrapper\u001b[39m(artist, renderer, \u001b[39m*\u001b[39margs, \u001b[39m*\u001b[39m\u001b[39m*\u001b[39mkwargs):\n\u001b[0;32m---> 95\u001b[0m     result \u001b[39m=\u001b[39m draw(artist, renderer, \u001b[39m*\u001b[39;49margs, \u001b[39m*\u001b[39;49m\u001b[39m*\u001b[39;49mkwargs)\n\u001b[1;32m     96\u001b[0m     \u001b[39mif\u001b[39;00m renderer\u001b[39m.\u001b[39m_rasterizing:\n\u001b[1;32m     97\u001b[0m         renderer\u001b[39m.\u001b[39mstop_rasterizing()\n",
      "File \u001b[0;32m~/opt/anaconda3/envs/ox/lib/python3.11/site-packages/matplotlib/artist.py:72\u001b[0m, in \u001b[0;36mallow_rasterization.<locals>.draw_wrapper\u001b[0;34m(artist, renderer)\u001b[0m\n\u001b[1;32m     69\u001b[0m     \u001b[39mif\u001b[39;00m artist\u001b[39m.\u001b[39mget_agg_filter() \u001b[39mis\u001b[39;00m \u001b[39mnot\u001b[39;00m \u001b[39mNone\u001b[39;00m:\n\u001b[1;32m     70\u001b[0m         renderer\u001b[39m.\u001b[39mstart_filter()\n\u001b[0;32m---> 72\u001b[0m     \u001b[39mreturn\u001b[39;00m draw(artist, renderer)\n\u001b[1;32m     73\u001b[0m \u001b[39mfinally\u001b[39;00m:\n\u001b[1;32m     74\u001b[0m     \u001b[39mif\u001b[39;00m artist\u001b[39m.\u001b[39mget_agg_filter() \u001b[39mis\u001b[39;00m \u001b[39mnot\u001b[39;00m \u001b[39mNone\u001b[39;00m:\n",
      "File \u001b[0;32m~/opt/anaconda3/envs/ox/lib/python3.11/site-packages/matplotlib/figure.py:3140\u001b[0m, in \u001b[0;36mFigure.draw\u001b[0;34m(self, renderer)\u001b[0m\n\u001b[1;32m   3137\u001b[0m         \u001b[39m# ValueError can occur when resizing a window.\u001b[39;00m\n\u001b[1;32m   3139\u001b[0m \u001b[39mself\u001b[39m\u001b[39m.\u001b[39mpatch\u001b[39m.\u001b[39mdraw(renderer)\n\u001b[0;32m-> 3140\u001b[0m mimage\u001b[39m.\u001b[39;49m_draw_list_compositing_images(\n\u001b[1;32m   3141\u001b[0m     renderer, \u001b[39mself\u001b[39;49m, artists, \u001b[39mself\u001b[39;49m\u001b[39m.\u001b[39;49msuppressComposite)\n\u001b[1;32m   3143\u001b[0m \u001b[39mfor\u001b[39;00m sfig \u001b[39min\u001b[39;00m \u001b[39mself\u001b[39m\u001b[39m.\u001b[39msubfigs:\n\u001b[1;32m   3144\u001b[0m     sfig\u001b[39m.\u001b[39mdraw(renderer)\n",
      "File \u001b[0;32m~/opt/anaconda3/envs/ox/lib/python3.11/site-packages/matplotlib/image.py:131\u001b[0m, in \u001b[0;36m_draw_list_compositing_images\u001b[0;34m(renderer, parent, artists, suppress_composite)\u001b[0m\n\u001b[1;32m    129\u001b[0m \u001b[39mif\u001b[39;00m not_composite \u001b[39mor\u001b[39;00m \u001b[39mnot\u001b[39;00m has_images:\n\u001b[1;32m    130\u001b[0m     \u001b[39mfor\u001b[39;00m a \u001b[39min\u001b[39;00m artists:\n\u001b[0;32m--> 131\u001b[0m         a\u001b[39m.\u001b[39;49mdraw(renderer)\n\u001b[1;32m    132\u001b[0m \u001b[39melse\u001b[39;00m:\n\u001b[1;32m    133\u001b[0m     \u001b[39m# Composite any adjacent images together\u001b[39;00m\n\u001b[1;32m    134\u001b[0m     image_group \u001b[39m=\u001b[39m []\n",
      "File \u001b[0;32m~/opt/anaconda3/envs/ox/lib/python3.11/site-packages/matplotlib/artist.py:72\u001b[0m, in \u001b[0;36mallow_rasterization.<locals>.draw_wrapper\u001b[0;34m(artist, renderer)\u001b[0m\n\u001b[1;32m     69\u001b[0m     \u001b[39mif\u001b[39;00m artist\u001b[39m.\u001b[39mget_agg_filter() \u001b[39mis\u001b[39;00m \u001b[39mnot\u001b[39;00m \u001b[39mNone\u001b[39;00m:\n\u001b[1;32m     70\u001b[0m         renderer\u001b[39m.\u001b[39mstart_filter()\n\u001b[0;32m---> 72\u001b[0m     \u001b[39mreturn\u001b[39;00m draw(artist, renderer)\n\u001b[1;32m     73\u001b[0m \u001b[39mfinally\u001b[39;00m:\n\u001b[1;32m     74\u001b[0m     \u001b[39mif\u001b[39;00m artist\u001b[39m.\u001b[39mget_agg_filter() \u001b[39mis\u001b[39;00m \u001b[39mnot\u001b[39;00m \u001b[39mNone\u001b[39;00m:\n",
      "File \u001b[0;32m~/opt/anaconda3/envs/ox/lib/python3.11/site-packages/matplotlib/axes/_base.py:3064\u001b[0m, in \u001b[0;36m_AxesBase.draw\u001b[0;34m(self, renderer)\u001b[0m\n\u001b[1;32m   3061\u001b[0m \u001b[39mif\u001b[39;00m artists_rasterized:\n\u001b[1;32m   3062\u001b[0m     _draw_rasterized(\u001b[39mself\u001b[39m\u001b[39m.\u001b[39mfigure, artists_rasterized, renderer)\n\u001b[0;32m-> 3064\u001b[0m mimage\u001b[39m.\u001b[39;49m_draw_list_compositing_images(\n\u001b[1;32m   3065\u001b[0m     renderer, \u001b[39mself\u001b[39;49m, artists, \u001b[39mself\u001b[39;49m\u001b[39m.\u001b[39;49mfigure\u001b[39m.\u001b[39;49msuppressComposite)\n\u001b[1;32m   3067\u001b[0m renderer\u001b[39m.\u001b[39mclose_group(\u001b[39m'\u001b[39m\u001b[39maxes\u001b[39m\u001b[39m'\u001b[39m)\n\u001b[1;32m   3068\u001b[0m \u001b[39mself\u001b[39m\u001b[39m.\u001b[39mstale \u001b[39m=\u001b[39m \u001b[39mFalse\u001b[39;00m\n",
      "File \u001b[0;32m~/opt/anaconda3/envs/ox/lib/python3.11/site-packages/matplotlib/image.py:131\u001b[0m, in \u001b[0;36m_draw_list_compositing_images\u001b[0;34m(renderer, parent, artists, suppress_composite)\u001b[0m\n\u001b[1;32m    129\u001b[0m \u001b[39mif\u001b[39;00m not_composite \u001b[39mor\u001b[39;00m \u001b[39mnot\u001b[39;00m has_images:\n\u001b[1;32m    130\u001b[0m     \u001b[39mfor\u001b[39;00m a \u001b[39min\u001b[39;00m artists:\n\u001b[0;32m--> 131\u001b[0m         a\u001b[39m.\u001b[39;49mdraw(renderer)\n\u001b[1;32m    132\u001b[0m \u001b[39melse\u001b[39;00m:\n\u001b[1;32m    133\u001b[0m     \u001b[39m# Composite any adjacent images together\u001b[39;00m\n\u001b[1;32m    134\u001b[0m     image_group \u001b[39m=\u001b[39m []\n",
      "File \u001b[0;32m~/opt/anaconda3/envs/ox/lib/python3.11/site-packages/matplotlib/artist.py:72\u001b[0m, in \u001b[0;36mallow_rasterization.<locals>.draw_wrapper\u001b[0;34m(artist, renderer)\u001b[0m\n\u001b[1;32m     69\u001b[0m     \u001b[39mif\u001b[39;00m artist\u001b[39m.\u001b[39mget_agg_filter() \u001b[39mis\u001b[39;00m \u001b[39mnot\u001b[39;00m \u001b[39mNone\u001b[39;00m:\n\u001b[1;32m     70\u001b[0m         renderer\u001b[39m.\u001b[39mstart_filter()\n\u001b[0;32m---> 72\u001b[0m     \u001b[39mreturn\u001b[39;00m draw(artist, renderer)\n\u001b[1;32m     73\u001b[0m \u001b[39mfinally\u001b[39;00m:\n\u001b[1;32m     74\u001b[0m     \u001b[39mif\u001b[39;00m artist\u001b[39m.\u001b[39mget_agg_filter() \u001b[39mis\u001b[39;00m \u001b[39mnot\u001b[39;00m \u001b[39mNone\u001b[39;00m:\n",
      "File \u001b[0;32m~/opt/anaconda3/envs/ox/lib/python3.11/site-packages/matplotlib/lines.py:864\u001b[0m, in \u001b[0;36mLine2D.draw\u001b[0;34m(self, renderer)\u001b[0m\n\u001b[1;32m    861\u001b[0m \u001b[39melse\u001b[39;00m:\n\u001b[1;32m    862\u001b[0m     \u001b[39m# Don't scale for pixels, and don't stroke them\u001b[39;00m\n\u001b[1;32m    863\u001b[0m     marker_trans \u001b[39m=\u001b[39m marker_trans\u001b[39m.\u001b[39mscale(w)\n\u001b[0;32m--> 864\u001b[0m renderer\u001b[39m.\u001b[39;49mdraw_markers(gc, marker_path, marker_trans,\n\u001b[1;32m    865\u001b[0m                       subsampled, affine\u001b[39m.\u001b[39;49mfrozen(),\n\u001b[1;32m    866\u001b[0m                       fc_rgba)\n\u001b[1;32m    868\u001b[0m alt_marker_path \u001b[39m=\u001b[39m marker\u001b[39m.\u001b[39mget_alt_path()\n\u001b[1;32m    869\u001b[0m \u001b[39mif\u001b[39;00m alt_marker_path:\n",
      "\u001b[0;31mKeyboardInterrupt\u001b[0m: "
     ]
    }
   ],
   "source": [
    "# Plot column 'average_busyness' against 'time_of_week'\n",
    "plt.figure(figsize=(15, 6))\n",
    "#plt.plot(df['time_of_day'], df['average_busyness'], 'o', markersize=3, color='red')\n",
    "#plt.plot(df['time_of_day'], df['bike_busyness'], 'o', markersize=3, color='blue')\n",
    "plt.plot(df['time_of_day'], df['taxi_busyness'], 'o', markersize=3, color='green')\n",
    "#plt.plot(df['time_of_day'], df['volume_busyness'], 'o', markersize=3, color='yellow')\n",
    "plt.xlabel('time_of_day')\n",
    "plt.ylabel('average_busyness')\n",
    "plt.title('Plot of busyness against time_of_day')\n",
    "plt.grid(True)\n",
    "plt.show()"
   ]
  },
  {
   "cell_type": "code",
   "execution_count": null,
   "metadata": {},
   "outputs": [
    {
     "data": {
      "image/png": "[encoded data removed]",
      "text/plain": [
       "<Figure size 1500x600 with 1 Axes>"
      ]
     },
     "metadata": {},
     "output_type": "display_data"
    }
   ],
   "source": [
    "# Filter the dataframe\n",
    "df_520 = df.loc[df['Taxi_Zone_ID'] == 161]\n",
    "\n",
    "# Plot column 'average_busyness' against 'time_of_week'\n",
    "plt.figure(figsize=(15, 6))\n",
    "plt.plot(df_520['time_of_week'], df_520['average_busyness'], 'o', markersize=1, color='red')\n",
    "plt.plot(df_520['time_of_week'], df_520['bike_busyness'], 'o', markersize=1, color='blue')\n",
    "plt.plot(df_520['time_of_week'], df_520['taxi_busyness'], 'o', markersize=1, color='green')\n",
    "plt.plot(df_520['time_of_week'], df_520['volume_busyness'], 'o', markersize=1, color='yellow')\n",
    "plt.xlabel('time_of_week')\n",
    "plt.ylabel('average_busyness')\n",
    "plt.title('Plot of average_busyness against time_of_week for station id 520')\n",
    "plt.grid(True)\n",
    "plt.show()"
   ]
  },
  {
   "cell_type": "code",
   "execution_count": null,
   "metadata": {},
   "outputs": [
    {
     "name": "stderr",
     "output_type": "stream",
     "text": [
      "/var/folders/ly/rt519r9j7sx5syy44_l85hz80000gn/T/ipykernel_2002/3517399917.py:3: SettingWithCopyWarning: \n",
      "A value is trying to be set on a copy of a slice from a DataFrame.\n",
      "Try using .loc[row_indexer,col_indexer] = value instead\n",
      "\n",
      "See the caveats in the documentation: https://pandas.pydata.org/pandas-docs/stable/user_guide/indexing.html#returning-a-view-versus-a-copy\n",
      "  df_520[\"taxi_busyness\"] = df_520[\"taxi_busyness\"] / 3.7799999999999994\n"
     ]
    }
   ],
   "source": [
    "df_520[\"taxi_busyness\"].max()\n",
    "\n",
    "df_520[\"taxi_busyness\"] = df_520[\"taxi_busyness\"] / 3.7799999999999994"
   ]
  },
  {
   "cell_type": "code",
   "execution_count": null,
   "metadata": {},
   "outputs": [
    {
     "data": {
      "text/plain": [
       "0.1051369057107938"
      ]
     },
     "execution_count": 12,
     "metadata": {},
     "output_type": "execute_result"
    }
   ],
   "source": [
    "df_520[\"taxi_busyness\"].max()"
   ]
  },
  {
   "attachments": {},
   "cell_type": "markdown",
   "metadata": {},
   "source": [
    "#### Dummy Data"
   ]
  },
  {
   "cell_type": "code",
   "execution_count": null,
   "metadata": {},
   "outputs": [
    {
     "data": {
      "text/html": [
       "<div>\n",
       "<style scoped>\n",
       "    .dataframe tbody tr th:only-of-type {\n",
       "        vertical-align: middle;\n",
       "    }\n",
       "\n",
       "    .dataframe tbody tr th {\n",
       "        vertical-align: top;\n",
       "    }\n",
       "\n",
       "    .dataframe thead th {\n",
       "        text-align: right;\n",
       "    }\n",
       "</style>\n",
       "<table border=\"1\" class=\"dataframe\">\n",
       "  <thead>\n",
       "    <tr style=\"text-align: right;\">\n",
       "      <th></th>\n",
       "      <th>datetime</th>\n",
       "      <th>station id</th>\n",
       "      <th>bike_busyness</th>\n",
       "      <th>Taxi_Zone_ID</th>\n",
       "      <th>taxi_busyness</th>\n",
       "      <th>SegmentID</th>\n",
       "      <th>volume_busyness</th>\n",
       "      <th>temp</th>\n",
       "      <th>humidity</th>\n",
       "      <th>snow</th>\n",
       "      <th>windspeed</th>\n",
       "      <th>cloudcover</th>\n",
       "      <th>solarenergy</th>\n",
       "    </tr>\n",
       "  </thead>\n",
       "  <tbody>\n",
       "    <tr>\n",
       "      <th>28696</th>\n",
       "      <td>2018-04-17 16:30:00</td>\n",
       "      <td>127</td>\n",
       "      <td>0.080292</td>\n",
       "      <td>158</td>\n",
       "      <td>0.340029</td>\n",
       "      <td>-32449</td>\n",
       "      <td>0.052526</td>\n",
       "      <td>8.2</td>\n",
       "      <td>33.95</td>\n",
       "      <td>0.0</td>\n",
       "      <td>11.5</td>\n",
       "      <td>50.6</td>\n",
       "      <td>0.9</td>\n",
       "    </tr>\n",
       "    <tr>\n",
       "      <th>28697</th>\n",
       "      <td>2018-04-17 16:30:00</td>\n",
       "      <td>127</td>\n",
       "      <td>0.080292</td>\n",
       "      <td>158</td>\n",
       "      <td>0.340029</td>\n",
       "      <td>31677</td>\n",
       "      <td>0.007523</td>\n",
       "      <td>8.2</td>\n",
       "      <td>33.95</td>\n",
       "      <td>0.0</td>\n",
       "      <td>11.5</td>\n",
       "      <td>50.6</td>\n",
       "      <td>0.9</td>\n",
       "    </tr>\n",
       "    <tr>\n",
       "      <th>28700</th>\n",
       "      <td>2018-04-17 16:30:00</td>\n",
       "      <td>358</td>\n",
       "      <td>0.029197</td>\n",
       "      <td>158</td>\n",
       "      <td>0.340029</td>\n",
       "      <td>-32449</td>\n",
       "      <td>0.052526</td>\n",
       "      <td>8.2</td>\n",
       "      <td>33.95</td>\n",
       "      <td>0.0</td>\n",
       "      <td>11.5</td>\n",
       "      <td>50.6</td>\n",
       "      <td>0.9</td>\n",
       "    </tr>\n",
       "    <tr>\n",
       "      <th>28701</th>\n",
       "      <td>2018-04-17 16:30:00</td>\n",
       "      <td>358</td>\n",
       "      <td>0.029197</td>\n",
       "      <td>158</td>\n",
       "      <td>0.340029</td>\n",
       "      <td>31677</td>\n",
       "      <td>0.007523</td>\n",
       "      <td>8.2</td>\n",
       "      <td>33.95</td>\n",
       "      <td>0.0</td>\n",
       "      <td>11.5</td>\n",
       "      <td>50.6</td>\n",
       "      <td>0.9</td>\n",
       "    </tr>\n",
       "    <tr>\n",
       "      <th>28704</th>\n",
       "      <td>2018-04-17 16:30:00</td>\n",
       "      <td>358</td>\n",
       "      <td>0.000000</td>\n",
       "      <td>158</td>\n",
       "      <td>0.340029</td>\n",
       "      <td>-32449</td>\n",
       "      <td>0.052526</td>\n",
       "      <td>8.2</td>\n",
       "      <td>33.95</td>\n",
       "      <td>0.0</td>\n",
       "      <td>11.5</td>\n",
       "      <td>50.6</td>\n",
       "      <td>0.9</td>\n",
       "    </tr>\n",
       "  </tbody>\n",
       "</table>\n",
       "</div>"
      ],
      "text/plain": [
       "                 datetime  station id  bike_busyness  Taxi_Zone_ID  \\\n",
       "28696 2018-04-17 16:30:00         127       0.080292           158   \n",
       "28697 2018-04-17 16:30:00         127       0.080292           158   \n",
       "28700 2018-04-17 16:30:00         358       0.029197           158   \n",
       "28701 2018-04-17 16:30:00         358       0.029197           158   \n",
       "28704 2018-04-17 16:30:00         358       0.000000           158   \n",
       "\n",
       "       taxi_busyness  SegmentID  volume_busyness  temp  humidity  snow  \\\n",
       "28696       0.340029     -32449         0.052526   8.2     33.95   0.0   \n",
       "28697       0.340029      31677         0.007523   8.2     33.95   0.0   \n",
       "28700       0.340029     -32449         0.052526   8.2     33.95   0.0   \n",
       "28701       0.340029      31677         0.007523   8.2     33.95   0.0   \n",
       "28704       0.340029     -32449         0.052526   8.2     33.95   0.0   \n",
       "\n",
       "       windspeed  cloudcover  solarenergy  \n",
       "28696       11.5        50.6          0.9  \n",
       "28697       11.5        50.6          0.9  \n",
       "28700       11.5        50.6          0.9  \n",
       "28701       11.5        50.6          0.9  \n",
       "28704       11.5        50.6          0.9  "
      ]
     },
     "execution_count": 13,
     "metadata": {},
     "output_type": "execute_result"
    }
   ],
   "source": [
    "df_contribution = pd.read_parquet(\"contribution_cal\")\n",
    "df_contribution.head()"
   ]
  },
  {
   "cell_type": "code",
   "execution_count": null,
   "metadata": {},
   "outputs": [
    {
     "data": {
      "text/html": [
       "<div>\n",
       "<style scoped>\n",
       "    .dataframe tbody tr th:only-of-type {\n",
       "        vertical-align: middle;\n",
       "    }\n",
       "\n",
       "    .dataframe tbody tr th {\n",
       "        vertical-align: top;\n",
       "    }\n",
       "\n",
       "    .dataframe thead th {\n",
       "        text-align: right;\n",
       "    }\n",
       "</style>\n",
       "<table border=\"1\" class=\"dataframe\">\n",
       "  <thead>\n",
       "    <tr style=\"text-align: right;\">\n",
       "      <th></th>\n",
       "      <th>datetime</th>\n",
       "      <th>station id</th>\n",
       "      <th>bike_busyness</th>\n",
       "      <th>Taxi_Zone_ID</th>\n",
       "      <th>taxi_busyness</th>\n",
       "      <th>SegmentID</th>\n",
       "      <th>volume_busyness</th>\n",
       "      <th>temp</th>\n",
       "      <th>humidity</th>\n",
       "      <th>snow</th>\n",
       "      <th>windspeed</th>\n",
       "      <th>cloudcover</th>\n",
       "      <th>solarenergy</th>\n",
       "      <th>weekday</th>\n",
       "      <th>month</th>\n",
       "      <th>time_of_day</th>\n",
       "      <th>time_of_week</th>\n",
       "    </tr>\n",
       "  </thead>\n",
       "  <tbody>\n",
       "    <tr>\n",
       "      <th>28696</th>\n",
       "      <td>2018-04-17 16:30:00</td>\n",
       "      <td>127</td>\n",
       "      <td>0.080292</td>\n",
       "      <td>158</td>\n",
       "      <td>0.340029</td>\n",
       "      <td>-32449</td>\n",
       "      <td>0.052526</td>\n",
       "      <td>8.2</td>\n",
       "      <td>33.95</td>\n",
       "      <td>0.0</td>\n",
       "      <td>11.5</td>\n",
       "      <td>50.6</td>\n",
       "      <td>0.9</td>\n",
       "      <td>1</td>\n",
       "      <td>4</td>\n",
       "      <td>66.0</td>\n",
       "      <td>162.0</td>\n",
       "    </tr>\n",
       "    <tr>\n",
       "      <th>28697</th>\n",
       "      <td>2018-04-17 16:30:00</td>\n",
       "      <td>127</td>\n",
       "      <td>0.080292</td>\n",
       "      <td>158</td>\n",
       "      <td>0.340029</td>\n",
       "      <td>31677</td>\n",
       "      <td>0.007523</td>\n",
       "      <td>8.2</td>\n",
       "      <td>33.95</td>\n",
       "      <td>0.0</td>\n",
       "      <td>11.5</td>\n",
       "      <td>50.6</td>\n",
       "      <td>0.9</td>\n",
       "      <td>1</td>\n",
       "      <td>4</td>\n",
       "      <td>66.0</td>\n",
       "      <td>162.0</td>\n",
       "    </tr>\n",
       "    <tr>\n",
       "      <th>28700</th>\n",
       "      <td>2018-04-17 16:30:00</td>\n",
       "      <td>358</td>\n",
       "      <td>0.029197</td>\n",
       "      <td>158</td>\n",
       "      <td>0.340029</td>\n",
       "      <td>-32449</td>\n",
       "      <td>0.052526</td>\n",
       "      <td>8.2</td>\n",
       "      <td>33.95</td>\n",
       "      <td>0.0</td>\n",
       "      <td>11.5</td>\n",
       "      <td>50.6</td>\n",
       "      <td>0.9</td>\n",
       "      <td>1</td>\n",
       "      <td>4</td>\n",
       "      <td>66.0</td>\n",
       "      <td>162.0</td>\n",
       "    </tr>\n",
       "    <tr>\n",
       "      <th>28701</th>\n",
       "      <td>2018-04-17 16:30:00</td>\n",
       "      <td>358</td>\n",
       "      <td>0.029197</td>\n",
       "      <td>158</td>\n",
       "      <td>0.340029</td>\n",
       "      <td>31677</td>\n",
       "      <td>0.007523</td>\n",
       "      <td>8.2</td>\n",
       "      <td>33.95</td>\n",
       "      <td>0.0</td>\n",
       "      <td>11.5</td>\n",
       "      <td>50.6</td>\n",
       "      <td>0.9</td>\n",
       "      <td>1</td>\n",
       "      <td>4</td>\n",
       "      <td>66.0</td>\n",
       "      <td>162.0</td>\n",
       "    </tr>\n",
       "    <tr>\n",
       "      <th>28704</th>\n",
       "      <td>2018-04-17 16:30:00</td>\n",
       "      <td>358</td>\n",
       "      <td>0.000000</td>\n",
       "      <td>158</td>\n",
       "      <td>0.340029</td>\n",
       "      <td>-32449</td>\n",
       "      <td>0.052526</td>\n",
       "      <td>8.2</td>\n",
       "      <td>33.95</td>\n",
       "      <td>0.0</td>\n",
       "      <td>11.5</td>\n",
       "      <td>50.6</td>\n",
       "      <td>0.9</td>\n",
       "      <td>1</td>\n",
       "      <td>4</td>\n",
       "      <td>66.0</td>\n",
       "      <td>162.0</td>\n",
       "    </tr>\n",
       "  </tbody>\n",
       "</table>\n",
       "</div>"
      ],
      "text/plain": [
       "                 datetime  station id  bike_busyness Taxi_Zone_ID  \\\n",
       "28696 2018-04-17 16:30:00         127       0.080292          158   \n",
       "28697 2018-04-17 16:30:00         127       0.080292          158   \n",
       "28700 2018-04-17 16:30:00         358       0.029197          158   \n",
       "28701 2018-04-17 16:30:00         358       0.029197          158   \n",
       "28704 2018-04-17 16:30:00         358       0.000000          158   \n",
       "\n",
       "       taxi_busyness  SegmentID  volume_busyness  temp  humidity  snow  \\\n",
       "28696       0.340029     -32449         0.052526   8.2     33.95   0.0   \n",
       "28697       0.340029      31677         0.007523   8.2     33.95   0.0   \n",
       "28700       0.340029     -32449         0.052526   8.2     33.95   0.0   \n",
       "28701       0.340029      31677         0.007523   8.2     33.95   0.0   \n",
       "28704       0.340029     -32449         0.052526   8.2     33.95   0.0   \n",
       "\n",
       "       windspeed  cloudcover  solarenergy  weekday  month  time_of_day  \\\n",
       "28696       11.5        50.6          0.9        1      4         66.0   \n",
       "28697       11.5        50.6          0.9        1      4         66.0   \n",
       "28700       11.5        50.6          0.9        1      4         66.0   \n",
       "28701       11.5        50.6          0.9        1      4         66.0   \n",
       "28704       11.5        50.6          0.9        1      4         66.0   \n",
       "\n",
       "       time_of_week  \n",
       "28696         162.0  \n",
       "28697         162.0  \n",
       "28700         162.0  \n",
       "28701         162.0  \n",
       "28704         162.0  "
      ]
     },
     "execution_count": 14,
     "metadata": {},
     "output_type": "execute_result"
    }
   ],
   "source": [
    "df_contribution = transform_datetime(df_contribution)\n",
    "df_contribution[\"Taxi_Zone_ID\"] = df_contribution[\"Taxi_Zone_ID\"].apply(str)\n",
    "df_contribution.head()"
   ]
  },
  {
   "cell_type": "code",
   "execution_count": null,
   "metadata": {},
   "outputs": [
    {
     "name": "stdout",
     "output_type": "stream",
     "text": [
      "datetime          -0.000161\n",
      "station id         0.519729\n",
      "bike_busyness      1.000000\n",
      "Taxi_Zone_ID            NaN\n",
      "taxi_busyness      0.002530\n",
      "SegmentID         -0.000095\n",
      "volume_busyness    0.001976\n",
      "temp               0.005153\n",
      "humidity          -0.001519\n",
      "snow              -0.010566\n",
      "windspeed          0.006099\n",
      "cloudcover         0.000965\n",
      "solarenergy       -0.004883\n",
      "weekday            0.005312\n",
      "month             -0.002191\n",
      "time_of_day        0.030248\n",
      "time_of_week       0.008438\n",
      "Name: bike_busyness, dtype: float64\n"
     ]
    }
   ],
   "source": [
    "df_zone = df_contribution.loc[df_contribution[\"Taxi_Zone_ID\"] == \"170\"]\n",
    "correlation = df_zone.corr()['bike_busyness']\n",
    "print(correlation)"
   ]
  },
  {
   "cell_type": "code",
   "execution_count": null,
   "metadata": {},
   "outputs": [],
   "source": [
    "dummy_df = pd.read_csv('dummy_data.csv')"
   ]
  },
  {
   "cell_type": "code",
   "execution_count": null,
   "metadata": {},
   "outputs": [
    {
     "name": "stdout",
     "output_type": "stream",
     "text": [
      "['158', '170', '232', '45', '246', '137', '48', '140', '50', '125', '261', '209']\n"
     ]
    }
   ],
   "source": [
    "taxi_zone = list(df_contribution[\"Taxi_Zone_ID\"].unique())\n",
    "#taxi_zone = [str(x) for x in taxi_zone] \n",
    "print(taxi_zone)"
   ]
  },
  {
   "cell_type": "code",
   "execution_count": null,
   "metadata": {},
   "outputs": [],
   "source": [
    "input_df = df_contribution\n",
    "\n",
    "taxi_zone = list(input_df[\"Taxi_Zone_ID\"].unique())\n",
    "prediction_models = {}\n",
    "\n",
    "for zone in taxi_zone:\n",
    "        df_zone = input_df.loc[df_contribution[\"Taxi_Zone_ID\"] == zone]\n",
    "        X = df_zone.drop(['Taxi_Zone_ID', 'taxi_busyness', 'bike_busyness', 'volume_busyness', 'datetime', 'time_of_week'],axis=1)\n",
    "        y_taxi = df_zone['taxi_busyness']\n",
    "        y_bike = df_zone['bike_busyness']\n",
    "        y_volume = df_zone['volume_busyness']\n",
    "        \n",
    "        regr_taxi = RandomForestRegressor(n_estimators = 10, random_state = 42)\n",
    "        regr_taxi.fit(X, y_taxi)\n",
    "\n",
    "        regr_bike = RandomForestRegressor(n_estimators = 10, random_state = 42)\n",
    "        regr_bike.fit(X, y_bike)\n",
    "\n",
    "        regr_volume = RandomForestRegressor(n_estimators = 10, random_state = 42)\n",
    "        regr_volume.fit(X, y_volume)\n",
    "\n",
    "        prediction_models[zone] = [regr_taxi.predict, regr_bike.predict, regr_volume.predict]"
   ]
  },
  {
   "cell_type": "code",
   "execution_count": null,
   "metadata": {},
   "outputs": [],
   "source": [
    "input_df = df_contribution\n",
    "\n",
    "taxi_zone = list(input_df[\"Taxi_Zone_ID\"].unique())\n",
    "prediction_models = {}\n",
    "\n",
    "for zone in taxi_zone:\n",
    "        df_zone = input_df.loc[df_contribution[\"Taxi_Zone_ID\"] == zone]\n",
    "        X = df_zone.drop(['Taxi_Zone_ID', 'taxi_busyness', 'bike_busyness', 'volume_busyness', 'datetime', 'time_of_week'],axis=1)\n",
    "        y = df_zone['taxi_busyness']\n",
    "        \n",
    "        regr = RandomForestRegressor(n_estimators = 10, random_state = 42)\n",
    "        regr.fit(X, y)\n",
    "\n",
    "        prediction_models[zone] = regr.predict"
   ]
  },
  {
   "attachments": {},
   "cell_type": "markdown",
   "metadata": {},
   "source": [
    "## Factor for street \"highway\""
   ]
  },
  {
   "cell_type": "code",
   "execution_count": 43,
   "metadata": {},
   "outputs": [],
   "source": [
    "def safe_loads(row):\n",
    "    try:\n",
    "        return wkt.loads(row)\n",
    "    except Exception:\n",
    "        print(f\"Error parsing row: {row}\")\n",
    "        return None  # or some other value"
   ]
  },
  {
   "cell_type": "code",
   "execution_count": 44,
   "metadata": {},
   "outputs": [],
   "source": [
    "street_zones = pd.read_parquet(\"street_zones.parquet\")"
   ]
  },
  {
   "cell_type": "code",
   "execution_count": 45,
   "metadata": {},
   "outputs": [],
   "source": [
    "street_zones['geometry'] = street_zones['geometry'].apply(safe_loads)\n",
    "street_zones['geometry'] = gpd.GeoSeries(street_zones['geometry'])"
   ]
  },
  {
   "cell_type": "code",
   "execution_count": 46,
   "metadata": {},
   "outputs": [
    {
     "data": {
      "text/plain": [
       "<geopandas.array.GeometryDtype at 0x1727ddb90>"
      ]
     },
     "execution_count": 46,
     "metadata": {},
     "output_type": "execute_result"
    }
   ],
   "source": [
    "street_zones['geometry'].dtype"
   ]
  },
  {
   "cell_type": "code",
   "execution_count": 47,
   "metadata": {},
   "outputs": [
    {
     "data": {
      "text/html": [
       "<div>\n",
       "<style scoped>\n",
       "    .dataframe tbody tr th:only-of-type {\n",
       "        vertical-align: middle;\n",
       "    }\n",
       "\n",
       "    .dataframe tbody tr th {\n",
       "        vertical-align: top;\n",
       "    }\n",
       "\n",
       "    .dataframe thead th {\n",
       "        text-align: right;\n",
       "    }\n",
       "</style>\n",
       "<table border=\"1\" class=\"dataframe\">\n",
       "  <thead>\n",
       "    <tr style=\"text-align: right;\">\n",
       "      <th></th>\n",
       "      <th></th>\n",
       "      <th></th>\n",
       "      <th>osmid</th>\n",
       "      <th>highway</th>\n",
       "      <th>geometry</th>\n",
       "      <th>index_right</th>\n",
       "      <th>Taxi_Zone_ID</th>\n",
       "    </tr>\n",
       "    <tr>\n",
       "      <th>u</th>\n",
       "      <th>v</th>\n",
       "      <th>key</th>\n",
       "      <th></th>\n",
       "      <th></th>\n",
       "      <th></th>\n",
       "      <th></th>\n",
       "      <th></th>\n",
       "    </tr>\n",
       "  </thead>\n",
       "  <tbody>\n",
       "    <tr>\n",
       "      <th rowspan=\"3\" valign=\"top\">30807314</th>\n",
       "      <th>2057103273</th>\n",
       "      <th>0</th>\n",
       "      <td>46613689</td>\n",
       "      <td>bridleway</td>\n",
       "      <td>LINESTRING (-73.96358 40.79072, -73.96360 40.7...</td>\n",
       "      <td>44.0</td>\n",
       "      <td>43.0</td>\n",
       "    </tr>\n",
       "    <tr>\n",
       "      <th>6579409036</th>\n",
       "      <th>0</th>\n",
       "      <td>46613689</td>\n",
       "      <td>bridleway</td>\n",
       "      <td>LINESTRING (-73.96358 40.79072, -73.96354 40.7...</td>\n",
       "      <td>44.0</td>\n",
       "      <td>43.0</td>\n",
       "    </tr>\n",
       "    <tr>\n",
       "      <th>1203806263</th>\n",
       "      <th>0</th>\n",
       "      <td>147089927</td>\n",
       "      <td>path</td>\n",
       "      <td>LINESTRING (-73.96358 40.79072, -73.96353 40.7...</td>\n",
       "      <td>44.0</td>\n",
       "      <td>43.0</td>\n",
       "    </tr>\n",
       "    <tr>\n",
       "      <th>30978752</th>\n",
       "      <th>1492282482</th>\n",
       "      <th>0</th>\n",
       "      <td>301283869</td>\n",
       "      <td>footway</td>\n",
       "      <td>LINESTRING (-73.97436 40.77478, -73.97418 40.7...</td>\n",
       "      <td>44.0</td>\n",
       "      <td>43.0</td>\n",
       "    </tr>\n",
       "    <tr>\n",
       "      <th>42421745</th>\n",
       "      <th>1061531654</th>\n",
       "      <th>0</th>\n",
       "      <td>195743200</td>\n",
       "      <td>secondary</td>\n",
       "      <td>LINESTRING (-73.96800 40.80140, -73.96776 40.8...</td>\n",
       "      <td>132.0</td>\n",
       "      <td>151.0</td>\n",
       "    </tr>\n",
       "  </tbody>\n",
       "</table>\n",
       "</div>"
      ],
      "text/plain": [
       "                             osmid    highway  \\\n",
       "u        v          key                         \n",
       "30807314 2057103273 0     46613689  bridleway   \n",
       "         6579409036 0     46613689  bridleway   \n",
       "         1203806263 0    147089927       path   \n",
       "30978752 1492282482 0    301283869    footway   \n",
       "42421745 1061531654 0    195743200  secondary   \n",
       "\n",
       "                                                                  geometry  \\\n",
       "u        v          key                                                      \n",
       "30807314 2057103273 0    LINESTRING (-73.96358 40.79072, -73.96360 40.7...   \n",
       "         6579409036 0    LINESTRING (-73.96358 40.79072, -73.96354 40.7...   \n",
       "         1203806263 0    LINESTRING (-73.96358 40.79072, -73.96353 40.7...   \n",
       "30978752 1492282482 0    LINESTRING (-73.97436 40.77478, -73.97418 40.7...   \n",
       "42421745 1061531654 0    LINESTRING (-73.96800 40.80140, -73.96776 40.8...   \n",
       "\n",
       "                         index_right  Taxi_Zone_ID  \n",
       "u        v          key                             \n",
       "30807314 2057103273 0           44.0          43.0  \n",
       "         6579409036 0           44.0          43.0  \n",
       "         1203806263 0           44.0          43.0  \n",
       "30978752 1492282482 0           44.0          43.0  \n",
       "42421745 1061531654 0          132.0         151.0  "
      ]
     },
     "execution_count": 47,
     "metadata": {},
     "output_type": "execute_result"
    }
   ],
   "source": [
    "street_zones.head()"
   ]
  },
  {
   "cell_type": "code",
   "execution_count": 48,
   "metadata": {},
   "outputs": [],
   "source": [
    "street_zones = street_zones.drop('index_right', axis=1)"
   ]
  },
  {
   "cell_type": "code",
   "execution_count": 49,
   "metadata": {},
   "outputs": [
    {
     "data": {
      "text/plain": [
       "array(['bridleway', 'path', 'footway', 'secondary', 'residential',\n",
       "       'tertiary', 'primary', 'service', \"['pedestrian', 'footway']\",\n",
       "       \"['primary', 'residential']\", 'trunk', 'unclassified',\n",
       "       \"['secondary', 'residential']\", 'tertiary_link', 'pedestrian',\n",
       "       'living_street', 'primary_link', \"['steps', 'residential']\",\n",
       "       \"['secondary', 'unclassified']\", \"['unclassified', 'secondary']\",\n",
       "       \"['steps', 'footway']\", 'trunk_link', 'secondary_link', 'steps',\n",
       "       \"['footway', 'service']\", \"['residential', 'tertiary']\", 'track',\n",
       "       \"['footway', 'path']\", \"['trunk', 'residential']\",\n",
       "       \"['secondary', 'primary']\", \"['footway', 'residential']\",\n",
       "       \"['unclassified', 'tertiary']\", \"['steps', 'path']\",\n",
       "       \"['steps', 'pedestrian', 'footway']\",\n",
       "       \"['steps', 'footway', 'pedestrian']\",\n",
       "       \"['service', 'secondary_link']\", \"['unclassified', 'residential']\",\n",
       "       \"['path', 'residential']\", \"['secondary', 'secondary_link']\",\n",
       "       \"['track', 'path']\", \"['steps', 'footway', 'path']\",\n",
       "       \"['primary', 'primary_link']\", \"['service', 'residential']\",\n",
       "       \"['unclassified', 'pedestrian']\", \"['steps', 'pedestrian']\",\n",
       "       \"['secondary', 'primary_link']\",\n",
       "       \"['secondary', 'secondary_link', 'tertiary']\",\n",
       "       \"['secondary', 'service']\", \"['pedestrian', 'residential']\",\n",
       "       \"['service', 'path']\", \"['footway', 'pedestrian']\",\n",
       "       \"['footway', 'corridor']\", \"['unclassified', 'service']\",\n",
       "       \"['pedestrian', 'service']\", \"['footway', 'elevator']\"],\n",
       "      dtype=object)"
      ]
     },
     "execution_count": 49,
     "metadata": {},
     "output_type": "execute_result"
    }
   ],
   "source": [
    "street_zones[\"highway\"].unique()"
   ]
  },
  {
   "cell_type": "code",
   "execution_count": 52,
   "metadata": {},
   "outputs": [],
   "source": [
    "# Factor based on path description (https://wiki.openstreetmap.org/wiki/Key:highway)\n",
    "highway_factor = {\n",
    "    'path': 0.6,\n",
    "    'bridleway': 0.4,\n",
    "    'footway': 0.6, \n",
    "    'secondary': 1, \n",
    "    'residential': 0.6, \n",
    "    'primary':1.3, \n",
    "    'tertiary':0.8, \n",
    "    'service':0.4, \n",
    "    'trunk':1.4, \n",
    "    'unclassified': 0.6, \n",
    "    'pedestrian': 0.6, \n",
    "    'tertiary_link': 0.8, \n",
    "    'living_street': 0.4, \n",
    "    'secondary_link':1, \n",
    "    'primary_link': 1.3, \n",
    "    'trunk_link': 1.4,\n",
    "    'steps': 0.4,\n",
    "    'track': 0.6,\n",
    "    'elevator': 0.6,\n",
    "    }"
   ]
  },
  {
   "cell_type": "code",
   "execution_count": 53,
   "metadata": {},
   "outputs": [],
   "source": [
    "highway_types = list(highway_factor.keys())"
   ]
  },
  {
   "cell_type": "code",
   "execution_count": 54,
   "metadata": {},
   "outputs": [
    {
     "name": "stdout",
     "output_type": "stream",
     "text": [
      "                             osmid    highway  \\\n",
      "u        v          key                         \n",
      "30807314 2057103273 0     46613689  bridleway   \n",
      "         6579409036 0     46613689  bridleway   \n",
      "         1203806263 0    147089927       path   \n",
      "30978752 1492282482 0    301283869    footway   \n",
      "42421745 1061531654 0    195743200  secondary   \n",
      "\n",
      "                                                                  geometry  \\\n",
      "u        v          key                                                      \n",
      "30807314 2057103273 0    LINESTRING (-73.96358 40.79072, -73.96360 40.7...   \n",
      "         6579409036 0    LINESTRING (-73.96358 40.79072, -73.96354 40.7...   \n",
      "         1203806263 0    LINESTRING (-73.96358 40.79072, -73.96353 40.7...   \n",
      "30978752 1492282482 0    LINESTRING (-73.97436 40.77478, -73.97418 40.7...   \n",
      "42421745 1061531654 0    LINESTRING (-73.96800 40.80140, -73.96776 40.8...   \n",
      "\n",
      "                         Taxi_Zone_ID  highway_factor  \n",
      "u        v          key                                \n",
      "30807314 2057103273 0            43.0             0.4  \n",
      "         6579409036 0            43.0             0.4  \n",
      "         1203806263 0            43.0             0.6  \n",
      "30978752 1492282482 0            43.0             0.6  \n",
      "42421745 1061531654 0           151.0             1.0  \n"
     ]
    }
   ],
   "source": [
    "def find_and_average(row):\n",
    "    highway_values = row['highway']\n",
    "    if highway_values.startswith('['):  # if the value is a list\n",
    "        highway_values = ast.literal_eval(highway_values)\n",
    "    else:  # if the value is a single string\n",
    "        highway_values = [highway_values]\n",
    "    vals = [highway_factor[k] for k in highway_values if k in highway_types]\n",
    "    return sum(vals) / len(vals) if vals else None\n",
    "\n",
    "street_zones['highway_factor'] = street_zones.apply(find_and_average, axis=1)\n",
    "\n",
    "print(street_zones.head())"
   ]
  },
  {
   "cell_type": "code",
   "execution_count": 55,
   "metadata": {},
   "outputs": [
    {
     "data": {
      "text/plain": [
       "array([0.4       , 0.6       , 1.        , 0.8       , 1.3       ,\n",
       "       0.95      , 1.4       , 0.5       , 0.7       , 1.15      ,\n",
       "       0.53333333, 0.93333333])"
      ]
     },
     "execution_count": 55,
     "metadata": {},
     "output_type": "execute_result"
    }
   ],
   "source": [
    "street_zones[\"highway_factor\"].unique()"
   ]
  },
  {
   "attachments": {},
   "cell_type": "markdown",
   "metadata": {},
   "source": []
  },
  {
   "cell_type": "code",
   "execution_count": 56,
   "metadata": {},
   "outputs": [
    {
     "data": {
      "text/html": [
       "<div>\n",
       "<style scoped>\n",
       "    .dataframe tbody tr th:only-of-type {\n",
       "        vertical-align: middle;\n",
       "    }\n",
       "\n",
       "    .dataframe tbody tr th {\n",
       "        vertical-align: top;\n",
       "    }\n",
       "\n",
       "    .dataframe thead th {\n",
       "        text-align: right;\n",
       "    }\n",
       "</style>\n",
       "<table border=\"1\" class=\"dataframe\">\n",
       "  <thead>\n",
       "    <tr style=\"text-align: right;\">\n",
       "      <th></th>\n",
       "      <th></th>\n",
       "      <th></th>\n",
       "      <th>osmid</th>\n",
       "      <th>highway</th>\n",
       "      <th>geometry</th>\n",
       "      <th>Taxi_Zone_ID</th>\n",
       "      <th>highway_factor</th>\n",
       "    </tr>\n",
       "    <tr>\n",
       "      <th>u</th>\n",
       "      <th>v</th>\n",
       "      <th>key</th>\n",
       "      <th></th>\n",
       "      <th></th>\n",
       "      <th></th>\n",
       "      <th></th>\n",
       "      <th></th>\n",
       "    </tr>\n",
       "  </thead>\n",
       "  <tbody>\n",
       "  </tbody>\n",
       "</table>\n",
       "</div>"
      ],
      "text/plain": [
       "Empty DataFrame\n",
       "Columns: [osmid, highway, geometry, Taxi_Zone_ID, highway_factor]\n",
       "Index: []"
      ]
     },
     "execution_count": 56,
     "metadata": {},
     "output_type": "execute_result"
    }
   ],
   "source": [
    "street_zones[street_zones['highway_factor'].isna()]"
   ]
  },
  {
   "cell_type": "code",
   "execution_count": 57,
   "metadata": {},
   "outputs": [],
   "source": [
    "street_zones['geometry'] = street_zones['geometry'].astype(str)\n",
    "street_zones.to_parquet('street_zones_factor.parquet', engine='pyarrow')"
   ]
  },
  {
   "attachments": {},
   "cell_type": "markdown",
   "metadata": {},
   "source": [
    "### Mapping\n",
    "\n",
    "A function that creates from prediction table a street edge table\n",
    "<br>\n",
    "<br>\n",
    "Input: table with [taxi_zone] and [busyness_index]<br>\n",
    "Output: table with street and adjusted busyness_index"
   ]
  },
  {
   "cell_type": "code",
   "execution_count": 59,
   "metadata": {},
   "outputs": [
    {
     "ename": "KeyError",
     "evalue": "\"['busyness'] not in index\"",
     "output_type": "error",
     "traceback": [
      "\u001b[0;31m---------------------------------------------------------------------------\u001b[0m",
      "\u001b[0;31mKeyError\u001b[0m                                  Traceback (most recent call last)",
      "Cell \u001b[0;32mIn[59], line 22\u001b[0m\n\u001b[1;32m     17\u001b[0m     \u001b[39mreturn\u001b[39;00m output_df\n\u001b[1;32m     20\u001b[0m street_zones \u001b[39m=\u001b[39m pd\u001b[39m.\u001b[39mread_parquet(\u001b[39m\"\u001b[39m\u001b[39mstreet_zones_factor.parquet\u001b[39m\u001b[39m\"\u001b[39m)\n\u001b[0;32m---> 22\u001b[0m new_result \u001b[39m=\u001b[39m get_streets(df, street_zones)\n",
      "Cell \u001b[0;32mIn[59], line 12\u001b[0m, in \u001b[0;36mget_streets\u001b[0;34m(df, street_zones)\u001b[0m\n\u001b[1;32m      2\u001b[0m \u001b[39m\u001b[39m\u001b[39m\"\"\"\u001b[39;00m\n\u001b[1;32m      3\u001b[0m \u001b[39mInput: table with [taxi_zone] and [busyness_index]\u001b[39;00m\n\u001b[1;32m      4\u001b[0m \u001b[39m    df = result of prediction\u001b[39;00m\n\u001b[0;32m   (...)\u001b[0m\n\u001b[1;32m      7\u001b[0m \u001b[39mOutput: table with street and adjusted busyness_index\u001b[39;00m\n\u001b[1;32m      8\u001b[0m \u001b[39m\"\"\"\u001b[39;00m\n\u001b[1;32m     11\u001b[0m \u001b[39m# Perform the join.\u001b[39;00m\n\u001b[0;32m---> 12\u001b[0m output_df \u001b[39m=\u001b[39m street_zones\u001b[39m.\u001b[39mmerge(df[[\u001b[39m'\u001b[39;49m\u001b[39mTaxi_Zone_ID\u001b[39;49m\u001b[39m'\u001b[39;49m, \u001b[39m'\u001b[39;49m\u001b[39mbusyness\u001b[39;49m\u001b[39m'\u001b[39;49m]], on\u001b[39m=\u001b[39m\u001b[39m'\u001b[39m\u001b[39mTaxi_Zone_ID\u001b[39m\u001b[39m'\u001b[39m, how\u001b[39m=\u001b[39m\u001b[39m'\u001b[39m\u001b[39mleft\u001b[39m\u001b[39m'\u001b[39m)\n\u001b[1;32m     14\u001b[0m \u001b[39m# Adjust busyness by the highway factor.\u001b[39;00m\n\u001b[1;32m     15\u001b[0m output_df[\u001b[39m'\u001b[39m\u001b[39mstreet_busyness\u001b[39m\u001b[39m'\u001b[39m] \u001b[39m=\u001b[39m \u001b[39m1\u001b[39m \u001b[39m-\u001b[39m (\u001b[39m1\u001b[39m \u001b[39m-\u001b[39m output_df[\u001b[39m'\u001b[39m\u001b[39mbusyness\u001b[39m\u001b[39m'\u001b[39m]) \u001b[39m*\u001b[39m output_df[\u001b[39m'\u001b[39m\u001b[39mhighway_factor\u001b[39m\u001b[39m'\u001b[39m]\n",
      "File \u001b[0;32m~/opt/anaconda3/envs/ox/lib/python3.11/site-packages/pandas/core/frame.py:3767\u001b[0m, in \u001b[0;36mDataFrame.__getitem__\u001b[0;34m(self, key)\u001b[0m\n\u001b[1;32m   3765\u001b[0m     \u001b[39mif\u001b[39;00m is_iterator(key):\n\u001b[1;32m   3766\u001b[0m         key \u001b[39m=\u001b[39m \u001b[39mlist\u001b[39m(key)\n\u001b[0;32m-> 3767\u001b[0m     indexer \u001b[39m=\u001b[39m \u001b[39mself\u001b[39;49m\u001b[39m.\u001b[39;49mcolumns\u001b[39m.\u001b[39;49m_get_indexer_strict(key, \u001b[39m\"\u001b[39;49m\u001b[39mcolumns\u001b[39;49m\u001b[39m\"\u001b[39;49m)[\u001b[39m1\u001b[39m]\n\u001b[1;32m   3769\u001b[0m \u001b[39m# take() does not accept boolean indexers\u001b[39;00m\n\u001b[1;32m   3770\u001b[0m \u001b[39mif\u001b[39;00m \u001b[39mgetattr\u001b[39m(indexer, \u001b[39m\"\u001b[39m\u001b[39mdtype\u001b[39m\u001b[39m\"\u001b[39m, \u001b[39mNone\u001b[39;00m) \u001b[39m==\u001b[39m \u001b[39mbool\u001b[39m:\n",
      "File \u001b[0;32m~/opt/anaconda3/envs/ox/lib/python3.11/site-packages/pandas/core/indexes/base.py:5876\u001b[0m, in \u001b[0;36mIndex._get_indexer_strict\u001b[0;34m(self, key, axis_name)\u001b[0m\n\u001b[1;32m   5873\u001b[0m \u001b[39melse\u001b[39;00m:\n\u001b[1;32m   5874\u001b[0m     keyarr, indexer, new_indexer \u001b[39m=\u001b[39m \u001b[39mself\u001b[39m\u001b[39m.\u001b[39m_reindex_non_unique(keyarr)\n\u001b[0;32m-> 5876\u001b[0m \u001b[39mself\u001b[39;49m\u001b[39m.\u001b[39;49m_raise_if_missing(keyarr, indexer, axis_name)\n\u001b[1;32m   5878\u001b[0m keyarr \u001b[39m=\u001b[39m \u001b[39mself\u001b[39m\u001b[39m.\u001b[39mtake(indexer)\n\u001b[1;32m   5879\u001b[0m \u001b[39mif\u001b[39;00m \u001b[39misinstance\u001b[39m(key, Index):\n\u001b[1;32m   5880\u001b[0m     \u001b[39m# GH 42790 - Preserve name from an Index\u001b[39;00m\n",
      "File \u001b[0;32m~/opt/anaconda3/envs/ox/lib/python3.11/site-packages/pandas/core/indexes/base.py:5938\u001b[0m, in \u001b[0;36mIndex._raise_if_missing\u001b[0;34m(self, key, indexer, axis_name)\u001b[0m\n\u001b[1;32m   5935\u001b[0m     \u001b[39mraise\u001b[39;00m \u001b[39mKeyError\u001b[39;00m(\u001b[39mf\u001b[39m\u001b[39m\"\u001b[39m\u001b[39mNone of [\u001b[39m\u001b[39m{\u001b[39;00mkey\u001b[39m}\u001b[39;00m\u001b[39m] are in the [\u001b[39m\u001b[39m{\u001b[39;00maxis_name\u001b[39m}\u001b[39;00m\u001b[39m]\u001b[39m\u001b[39m\"\u001b[39m)\n\u001b[1;32m   5937\u001b[0m not_found \u001b[39m=\u001b[39m \u001b[39mlist\u001b[39m(ensure_index(key)[missing_mask\u001b[39m.\u001b[39mnonzero()[\u001b[39m0\u001b[39m]]\u001b[39m.\u001b[39munique())\n\u001b[0;32m-> 5938\u001b[0m \u001b[39mraise\u001b[39;00m \u001b[39mKeyError\u001b[39;00m(\u001b[39mf\u001b[39m\u001b[39m\"\u001b[39m\u001b[39m{\u001b[39;00mnot_found\u001b[39m}\u001b[39;00m\u001b[39m not in index\u001b[39m\u001b[39m\"\u001b[39m)\n",
      "\u001b[0;31mKeyError\u001b[0m: \"['busyness'] not in index\""
     ]
    }
   ],
   "source": [
    "def get_streets(df, street_zones):\n",
    "    \"\"\"\n",
    "    Input: table with [taxi_zone] and [busyness_index]\n",
    "        df = result of prediction\n",
    "        street_zones = mapping table from \n",
    "\n",
    "    Output: table with street and adjusted busyness_index\n",
    "    \"\"\"\n",
    "\n",
    "\n",
    "    # Perform the join.\n",
    "    output_df = street_zones.merge(df[['Taxi_Zone_ID', 'busyness']], on='Taxi_Zone_ID', how='left')\n",
    "\n",
    "    # Adjust busyness by the highway factor.\n",
    "    output_df['street_busyness'] = 1 - (1 - output_df['busyness']) * output_df['highway_factor']\n",
    "\n",
    "    return output_df\n",
    "\n",
    "\n",
    "street_zones = pd.read_parquet(\"street_zones_factor.parquet\")\n",
    "\n",
    "new_result = get_streets(df, street_zones)"
   ]
  },
  {
   "cell_type": "code",
   "execution_count": null,
   "metadata": {},
   "outputs": [
    {
     "data": {
      "text/plain": [
       "(37914, 6)"
      ]
     },
     "execution_count": 3,
     "metadata": {},
     "output_type": "execute_result"
    }
   ],
   "source": [
    "simplified_predict = pd.read_csv(\"predict_test.csv\")\n",
    "simplified_predict.shape"
   ]
  }
 ],
 "metadata": {
  "kernelspec": {
   "display_name": "ox",
   "language": "python",
   "name": "python3"
  },
  "language_info": {
   "codemirror_mode": {
    "name": "ipython",
    "version": 3
   },
   "file_extension": ".py",
   "mimetype": "text/x-python",
   "name": "python",
   "nbconvert_exporter": "python",
   "pygments_lexer": "ipython3",
   "version": "3.11.4"
  },
  "orig_nbformat": 4
 },
 "nbformat": 4,
 "nbformat_minor": 2
}

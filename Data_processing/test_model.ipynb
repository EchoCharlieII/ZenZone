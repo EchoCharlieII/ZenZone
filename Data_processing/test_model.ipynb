{
 "cells": [
  {
   "attachments": {},
   "cell_type": "markdown",
   "metadata": {},
   "source": [
    "# Test Model"
   ]
  },
  {
   "cell_type": "code",
   "execution_count": 17,
   "metadata": {},
   "outputs": [],
   "source": [
    "import pandas as pd\n",
    "from pandas import read_parquet\n",
    "\n",
    "import geopandas as gpd\n",
    "from shapely import wkt\n",
    "\n",
    "from shapely.geometry import Point\n",
    "\n",
    "import matplotlib.pyplot as plt\n",
    "\n",
    "from sklearn.ensemble import RandomForestRegressor\n",
    "\n",
    "import ast"
   ]
  },
  {
   "cell_type": "code",
   "execution_count": 18,
   "metadata": {},
   "outputs": [],
   "source": [
    "df = pd.read_parquet(\"data_for_model\")"
   ]
  },
  {
   "cell_type": "code",
   "execution_count": 19,
   "metadata": {},
   "outputs": [
    {
     "data": {
      "text/html": [
       "<div>\n",
       "<style scoped>\n",
       "    .dataframe tbody tr th:only-of-type {\n",
       "        vertical-align: middle;\n",
       "    }\n",
       "\n",
       "    .dataframe tbody tr th {\n",
       "        vertical-align: top;\n",
       "    }\n",
       "\n",
       "    .dataframe thead th {\n",
       "        text-align: right;\n",
       "    }\n",
       "</style>\n",
       "<table border=\"1\" class=\"dataframe\">\n",
       "  <thead>\n",
       "    <tr style=\"text-align: right;\">\n",
       "      <th></th>\n",
       "      <th>datetime</th>\n",
       "      <th>station id</th>\n",
       "      <th>bike_busyness</th>\n",
       "      <th>Taxi_Zone_ID</th>\n",
       "      <th>taxi_busyness</th>\n",
       "      <th>SegmentID</th>\n",
       "      <th>volume_busyness</th>\n",
       "    </tr>\n",
       "  </thead>\n",
       "  <tbody>\n",
       "    <tr>\n",
       "      <th>0</th>\n",
       "      <td>2018-10-14 15:15:00</td>\n",
       "      <td>3472</td>\n",
       "      <td>0.182482</td>\n",
       "      <td>68</td>\n",
       "      <td>0.210904</td>\n",
       "      <td>24244</td>\n",
       "      <td>0.011254</td>\n",
       "    </tr>\n",
       "    <tr>\n",
       "      <th>1</th>\n",
       "      <td>2018-10-14 15:15:00</td>\n",
       "      <td>3472</td>\n",
       "      <td>0.182482</td>\n",
       "      <td>68</td>\n",
       "      <td>0.210904</td>\n",
       "      <td>-31883</td>\n",
       "      <td>0.009149</td>\n",
       "    </tr>\n",
       "    <tr>\n",
       "      <th>2</th>\n",
       "      <td>2018-10-14 15:15:00</td>\n",
       "      <td>3472</td>\n",
       "      <td>0.182482</td>\n",
       "      <td>68</td>\n",
       "      <td>0.210904</td>\n",
       "      <td>24244</td>\n",
       "      <td>0.011254</td>\n",
       "    </tr>\n",
       "    <tr>\n",
       "      <th>3</th>\n",
       "      <td>2018-10-14 15:15:00</td>\n",
       "      <td>3472</td>\n",
       "      <td>0.182482</td>\n",
       "      <td>68</td>\n",
       "      <td>0.210904</td>\n",
       "      <td>-31883</td>\n",
       "      <td>0.009149</td>\n",
       "    </tr>\n",
       "    <tr>\n",
       "      <th>4</th>\n",
       "      <td>2018-10-14 15:15:00</td>\n",
       "      <td>3472</td>\n",
       "      <td>0.182482</td>\n",
       "      <td>68</td>\n",
       "      <td>0.210904</td>\n",
       "      <td>24244</td>\n",
       "      <td>0.011254</td>\n",
       "    </tr>\n",
       "  </tbody>\n",
       "</table>\n",
       "</div>"
      ],
      "text/plain": [
       "             datetime  station id  bike_busyness  Taxi_Zone_ID  taxi_busyness  \\\n",
       "0 2018-10-14 15:15:00        3472       0.182482            68       0.210904   \n",
       "1 2018-10-14 15:15:00        3472       0.182482            68       0.210904   \n",
       "2 2018-10-14 15:15:00        3472       0.182482            68       0.210904   \n",
       "3 2018-10-14 15:15:00        3472       0.182482            68       0.210904   \n",
       "4 2018-10-14 15:15:00        3472       0.182482            68       0.210904   \n",
       "\n",
       "   SegmentID  volume_busyness  \n",
       "0      24244         0.011254  \n",
       "1     -31883         0.009149  \n",
       "2      24244         0.011254  \n",
       "3     -31883         0.009149  \n",
       "4      24244         0.011254  "
      ]
     },
     "execution_count": 19,
     "metadata": {},
     "output_type": "execute_result"
    }
   ],
   "source": [
    "df.head()"
   ]
  },
  {
   "cell_type": "code",
   "execution_count": 20,
   "metadata": {},
   "outputs": [
    {
     "data": {
      "text/plain": [
       "\"\\ndf = df.rename(columns={\\n    'busyness_x': 'bike_busyness',\\n    'busyness_y': 'taxi_busyness',\\n    'busyness': 'volume_busyness'\\n})\\n\""
      ]
     },
     "execution_count": 20,
     "metadata": {},
     "output_type": "execute_result"
    }
   ],
   "source": [
    "df['average_busyness'] = df[['bike_busyness', 'taxi_busyness', 'volume_busyness']].mean(axis=1)\n",
    "\n",
    "\"\"\"\n",
    "df = df.rename(columns={\n",
    "    'busyness_x': 'bike_busyness',\n",
    "    'busyness_y': 'taxi_busyness',\n",
    "    'busyness': 'volume_busyness'\n",
    "})\n",
    "\"\"\""
   ]
  },
  {
   "cell_type": "code",
   "execution_count": 21,
   "metadata": {},
   "outputs": [
    {
     "data": {
      "text/html": [
       "<div>\n",
       "<style scoped>\n",
       "    .dataframe tbody tr th:only-of-type {\n",
       "        vertical-align: middle;\n",
       "    }\n",
       "\n",
       "    .dataframe tbody tr th {\n",
       "        vertical-align: top;\n",
       "    }\n",
       "\n",
       "    .dataframe thead th {\n",
       "        text-align: right;\n",
       "    }\n",
       "</style>\n",
       "<table border=\"1\" class=\"dataframe\">\n",
       "  <thead>\n",
       "    <tr style=\"text-align: right;\">\n",
       "      <th></th>\n",
       "      <th>datetime</th>\n",
       "      <th>station id</th>\n",
       "      <th>bike_busyness</th>\n",
       "      <th>Taxi_Zone_ID</th>\n",
       "      <th>taxi_busyness</th>\n",
       "      <th>SegmentID</th>\n",
       "      <th>volume_busyness</th>\n",
       "      <th>average_busyness</th>\n",
       "      <th>weekday</th>\n",
       "      <th>month</th>\n",
       "      <th>time_of_day</th>\n",
       "      <th>time_of_week</th>\n",
       "    </tr>\n",
       "  </thead>\n",
       "  <tbody>\n",
       "    <tr>\n",
       "      <th>0</th>\n",
       "      <td>2018-10-14 15:15:00</td>\n",
       "      <td>3472</td>\n",
       "      <td>0.182482</td>\n",
       "      <td>68</td>\n",
       "      <td>0.210904</td>\n",
       "      <td>24244</td>\n",
       "      <td>0.011254</td>\n",
       "      <td>0.134880</td>\n",
       "      <td>6</td>\n",
       "      <td>10</td>\n",
       "      <td>61.0</td>\n",
       "      <td>637.0</td>\n",
       "    </tr>\n",
       "    <tr>\n",
       "      <th>1</th>\n",
       "      <td>2018-10-14 15:15:00</td>\n",
       "      <td>3472</td>\n",
       "      <td>0.182482</td>\n",
       "      <td>68</td>\n",
       "      <td>0.210904</td>\n",
       "      <td>-31883</td>\n",
       "      <td>0.009149</td>\n",
       "      <td>0.134178</td>\n",
       "      <td>6</td>\n",
       "      <td>10</td>\n",
       "      <td>61.0</td>\n",
       "      <td>637.0</td>\n",
       "    </tr>\n",
       "    <tr>\n",
       "      <th>2</th>\n",
       "      <td>2018-10-14 15:15:00</td>\n",
       "      <td>3472</td>\n",
       "      <td>0.182482</td>\n",
       "      <td>68</td>\n",
       "      <td>0.210904</td>\n",
       "      <td>24244</td>\n",
       "      <td>0.011254</td>\n",
       "      <td>0.134880</td>\n",
       "      <td>6</td>\n",
       "      <td>10</td>\n",
       "      <td>61.0</td>\n",
       "      <td>637.0</td>\n",
       "    </tr>\n",
       "    <tr>\n",
       "      <th>3</th>\n",
       "      <td>2018-10-14 15:15:00</td>\n",
       "      <td>3472</td>\n",
       "      <td>0.182482</td>\n",
       "      <td>68</td>\n",
       "      <td>0.210904</td>\n",
       "      <td>-31883</td>\n",
       "      <td>0.009149</td>\n",
       "      <td>0.134178</td>\n",
       "      <td>6</td>\n",
       "      <td>10</td>\n",
       "      <td>61.0</td>\n",
       "      <td>637.0</td>\n",
       "    </tr>\n",
       "    <tr>\n",
       "      <th>4</th>\n",
       "      <td>2018-10-14 15:15:00</td>\n",
       "      <td>3472</td>\n",
       "      <td>0.182482</td>\n",
       "      <td>68</td>\n",
       "      <td>0.210904</td>\n",
       "      <td>24244</td>\n",
       "      <td>0.011254</td>\n",
       "      <td>0.134880</td>\n",
       "      <td>6</td>\n",
       "      <td>10</td>\n",
       "      <td>61.0</td>\n",
       "      <td>637.0</td>\n",
       "    </tr>\n",
       "  </tbody>\n",
       "</table>\n",
       "</div>"
      ],
      "text/plain": [
       "             datetime  station id  bike_busyness  Taxi_Zone_ID  taxi_busyness  \\\n",
       "0 2018-10-14 15:15:00        3472       0.182482            68       0.210904   \n",
       "1 2018-10-14 15:15:00        3472       0.182482            68       0.210904   \n",
       "2 2018-10-14 15:15:00        3472       0.182482            68       0.210904   \n",
       "3 2018-10-14 15:15:00        3472       0.182482            68       0.210904   \n",
       "4 2018-10-14 15:15:00        3472       0.182482            68       0.210904   \n",
       "\n",
       "   SegmentID  volume_busyness  average_busyness  weekday  month  time_of_day  \\\n",
       "0      24244         0.011254          0.134880        6     10         61.0   \n",
       "1     -31883         0.009149          0.134178        6     10         61.0   \n",
       "2      24244         0.011254          0.134880        6     10         61.0   \n",
       "3     -31883         0.009149          0.134178        6     10         61.0   \n",
       "4      24244         0.011254          0.134880        6     10         61.0   \n",
       "\n",
       "   time_of_week  \n",
       "0         637.0  \n",
       "1         637.0  \n",
       "2         637.0  \n",
       "3         637.0  \n",
       "4         637.0  "
      ]
     },
     "execution_count": 21,
     "metadata": {},
     "output_type": "execute_result"
    }
   ],
   "source": [
    "# Trasnform datetime\n",
    "def transform_datetime(df):\n",
    "    df['datetime'] = pd.to_datetime(df['datetime'])\n",
    "\n",
    "    # Create a new column 'weekday' that is the day of the week (0=Monday, 6=Sunday)\n",
    "    df['weekday'] = df['datetime'].dt.weekday\n",
    "    df['month'] = df['datetime'].dt.month\n",
    "\n",
    "    # Create a new column 'minute_of_day' that is the minute of the day in steps of 15 min\n",
    "    df['time_of_day'] = (df['datetime'].dt.hour * 60 + df['datetime'].dt.minute) / 15\n",
    "\n",
    "    df['time_of_week'] = (df['datetime'].dt.hour * 60 + df['datetime'].dt.minute) / 15 + 96 * df['weekday']\n",
    "    return df\n",
    "\n",
    "df = transform_datetime(df)\n",
    "df.head()"
   ]
  },
  {
   "cell_type": "code",
   "execution_count": 22,
   "metadata": {},
   "outputs": [
    {
     "data": {
      "image/png": "[encoded data removed]",
      "text/plain": [
       "<Figure size 1500x600 with 1 Axes>"
      ]
     },
     "metadata": {},
     "output_type": "display_data"
    }
   ],
   "source": [
    "# Plot column 'average_busyness' against 'time_of_week'\n",
    "plt.figure(figsize=(15, 6))\n",
    "#plt.plot(df['time_of_day'], df['average_busyness'], 'o', markersize=3, color='red')\n",
    "#plt.plot(df['time_of_day'], df['bike_busyness'], 'o', markersize=3, color='blue')\n",
    "plt.plot(df['time_of_day'], df['taxi_busyness'], 'o', markersize=3, color='green')\n",
    "#plt.plot(df['time_of_day'], df['volume_busyness'], 'o', markersize=3, color='yellow')\n",
    "plt.xlabel('time_of_day')\n",
    "plt.ylabel('average_busyness')\n",
    "plt.title('Plot of busyness against time_of_day')\n",
    "plt.grid(True)\n",
    "plt.show()"
   ]
  },
  {
   "cell_type": "code",
   "execution_count": 24,
   "metadata": {},
   "outputs": [
    {
     "data": {
      "image/png": "[encoded data removed]",
      "text/plain": [
       "<Figure size 1500x600 with 1 Axes>"
      ]
     },
     "metadata": {},
     "output_type": "display_data"
    }
   ],
   "source": [
    "# Filter the dataframe\n",
    "df_520 = df.loc[df['Taxi_Zone_ID'] == 161]\n",
    "\n",
    "# Plot column 'average_busyness' against 'time_of_week'\n",
    "plt.figure(figsize=(15, 6))\n",
    "plt.plot(df_520['time_of_week'], df_520['average_busyness'], 'o', markersize=1, color='red')\n",
    "plt.plot(df_520['time_of_week'], df_520['bike_busyness'], 'o', markersize=1, color='blue')\n",
    "plt.plot(df_520['time_of_week'], df_520['taxi_busyness'], 'o', markersize=1, color='green')\n",
    "plt.plot(df_520['time_of_week'], df_520['volume_busyness'], 'o', markersize=1, color='yellow')\n",
    "plt.xlabel('time_of_week')\n",
    "plt.ylabel('average_busyness')\n",
    "plt.title('Plot of average_busyness against time_of_week for station id 520')\n",
    "plt.grid(True)\n",
    "plt.show()"
   ]
  },
  {
   "cell_type": "code",
   "execution_count": 25,
   "metadata": {},
   "outputs": [
    {
     "name": "stderr",
     "output_type": "stream",
     "text": [
      "/var/folders/ly/rt519r9j7sx5syy44_l85hz80000gn/T/ipykernel_92694/3517399917.py:3: SettingWithCopyWarning: \n",
      "A value is trying to be set on a copy of a slice from a DataFrame.\n",
      "Try using .loc[row_indexer,col_indexer] = value instead\n",
      "\n",
      "See the caveats in the documentation: https://pandas.pydata.org/pandas-docs/stable/user_guide/indexing.html#returning-a-view-versus-a-copy\n",
      "  df_520[\"taxi_busyness\"] = df_520[\"taxi_busyness\"] / 3.7799999999999994\n"
     ]
    }
   ],
   "source": [
    "df_520[\"taxi_busyness\"].max()\n",
    "\n",
    "df_520[\"taxi_busyness\"] = df_520[\"taxi_busyness\"] / 3.7799999999999994"
   ]
  },
  {
   "cell_type": "code",
   "execution_count": 26,
   "metadata": {},
   "outputs": [
    {
     "data": {
      "text/plain": [
       "0.1051369057107938"
      ]
     },
     "execution_count": 26,
     "metadata": {},
     "output_type": "execute_result"
    }
   ],
   "source": [
    "df_520[\"taxi_busyness\"].max()"
   ]
  },
  {
   "attachments": {},
   "cell_type": "markdown",
   "metadata": {},
   "source": [
    "#### Dummy Data"
   ]
  },
  {
   "cell_type": "code",
   "execution_count": 27,
   "metadata": {},
   "outputs": [
    {
     "data": {
      "text/html": [
       "<div>\n",
       "<style scoped>\n",
       "    .dataframe tbody tr th:only-of-type {\n",
       "        vertical-align: middle;\n",
       "    }\n",
       "\n",
       "    .dataframe tbody tr th {\n",
       "        vertical-align: top;\n",
       "    }\n",
       "\n",
       "    .dataframe thead th {\n",
       "        text-align: right;\n",
       "    }\n",
       "</style>\n",
       "<table border=\"1\" class=\"dataframe\">\n",
       "  <thead>\n",
       "    <tr style=\"text-align: right;\">\n",
       "      <th></th>\n",
       "      <th>datetime</th>\n",
       "      <th>station id</th>\n",
       "      <th>bike_busyness</th>\n",
       "      <th>Taxi_Zone_ID</th>\n",
       "      <th>taxi_busyness</th>\n",
       "      <th>SegmentID</th>\n",
       "      <th>volume_busyness</th>\n",
       "      <th>temp</th>\n",
       "      <th>humidity</th>\n",
       "      <th>snow</th>\n",
       "      <th>windspeed</th>\n",
       "      <th>cloudcover</th>\n",
       "      <th>solarenergy</th>\n",
       "    </tr>\n",
       "  </thead>\n",
       "  <tbody>\n",
       "    <tr>\n",
       "      <th>28696</th>\n",
       "      <td>2018-04-17 16:30:00</td>\n",
       "      <td>127</td>\n",
       "      <td>0.080292</td>\n",
       "      <td>158</td>\n",
       "      <td>0.340029</td>\n",
       "      <td>-32449</td>\n",
       "      <td>0.052526</td>\n",
       "      <td>8.2</td>\n",
       "      <td>33.95</td>\n",
       "      <td>0.0</td>\n",
       "      <td>11.5</td>\n",
       "      <td>50.6</td>\n",
       "      <td>0.9</td>\n",
       "    </tr>\n",
       "    <tr>\n",
       "      <th>28697</th>\n",
       "      <td>2018-04-17 16:30:00</td>\n",
       "      <td>127</td>\n",
       "      <td>0.080292</td>\n",
       "      <td>158</td>\n",
       "      <td>0.340029</td>\n",
       "      <td>31677</td>\n",
       "      <td>0.007523</td>\n",
       "      <td>8.2</td>\n",
       "      <td>33.95</td>\n",
       "      <td>0.0</td>\n",
       "      <td>11.5</td>\n",
       "      <td>50.6</td>\n",
       "      <td>0.9</td>\n",
       "    </tr>\n",
       "    <tr>\n",
       "      <th>28700</th>\n",
       "      <td>2018-04-17 16:30:00</td>\n",
       "      <td>358</td>\n",
       "      <td>0.029197</td>\n",
       "      <td>158</td>\n",
       "      <td>0.340029</td>\n",
       "      <td>-32449</td>\n",
       "      <td>0.052526</td>\n",
       "      <td>8.2</td>\n",
       "      <td>33.95</td>\n",
       "      <td>0.0</td>\n",
       "      <td>11.5</td>\n",
       "      <td>50.6</td>\n",
       "      <td>0.9</td>\n",
       "    </tr>\n",
       "    <tr>\n",
       "      <th>28701</th>\n",
       "      <td>2018-04-17 16:30:00</td>\n",
       "      <td>358</td>\n",
       "      <td>0.029197</td>\n",
       "      <td>158</td>\n",
       "      <td>0.340029</td>\n",
       "      <td>31677</td>\n",
       "      <td>0.007523</td>\n",
       "      <td>8.2</td>\n",
       "      <td>33.95</td>\n",
       "      <td>0.0</td>\n",
       "      <td>11.5</td>\n",
       "      <td>50.6</td>\n",
       "      <td>0.9</td>\n",
       "    </tr>\n",
       "    <tr>\n",
       "      <th>28704</th>\n",
       "      <td>2018-04-17 16:30:00</td>\n",
       "      <td>358</td>\n",
       "      <td>0.000000</td>\n",
       "      <td>158</td>\n",
       "      <td>0.340029</td>\n",
       "      <td>-32449</td>\n",
       "      <td>0.052526</td>\n",
       "      <td>8.2</td>\n",
       "      <td>33.95</td>\n",
       "      <td>0.0</td>\n",
       "      <td>11.5</td>\n",
       "      <td>50.6</td>\n",
       "      <td>0.9</td>\n",
       "    </tr>\n",
       "  </tbody>\n",
       "</table>\n",
       "</div>"
      ],
      "text/plain": [
       "                 datetime  station id  bike_busyness  Taxi_Zone_ID  \\\n",
       "28696 2018-04-17 16:30:00         127       0.080292           158   \n",
       "28697 2018-04-17 16:30:00         127       0.080292           158   \n",
       "28700 2018-04-17 16:30:00         358       0.029197           158   \n",
       "28701 2018-04-17 16:30:00         358       0.029197           158   \n",
       "28704 2018-04-17 16:30:00         358       0.000000           158   \n",
       "\n",
       "       taxi_busyness  SegmentID  volume_busyness  temp  humidity  snow  \\\n",
       "28696       0.340029     -32449         0.052526   8.2     33.95   0.0   \n",
       "28697       0.340029      31677         0.007523   8.2     33.95   0.0   \n",
       "28700       0.340029     -32449         0.052526   8.2     33.95   0.0   \n",
       "28701       0.340029      31677         0.007523   8.2     33.95   0.0   \n",
       "28704       0.340029     -32449         0.052526   8.2     33.95   0.0   \n",
       "\n",
       "       windspeed  cloudcover  solarenergy  \n",
       "28696       11.5        50.6          0.9  \n",
       "28697       11.5        50.6          0.9  \n",
       "28700       11.5        50.6          0.9  \n",
       "28701       11.5        50.6          0.9  \n",
       "28704       11.5        50.6          0.9  "
      ]
     },
     "execution_count": 27,
     "metadata": {},
     "output_type": "execute_result"
    }
   ],
   "source": [
    "df_contribution = pd.read_parquet(\"contribution_cal\")\n",
    "df_contribution.head()"
   ]
  },
  {
   "cell_type": "code",
   "execution_count": 28,
   "metadata": {},
   "outputs": [
    {
     "data": {
      "text/html": [
       "<div>\n",
       "<style scoped>\n",
       "    .dataframe tbody tr th:only-of-type {\n",
       "        vertical-align: middle;\n",
       "    }\n",
       "\n",
       "    .dataframe tbody tr th {\n",
       "        vertical-align: top;\n",
       "    }\n",
       "\n",
       "    .dataframe thead th {\n",
       "        text-align: right;\n",
       "    }\n",
       "</style>\n",
       "<table border=\"1\" class=\"dataframe\">\n",
       "  <thead>\n",
       "    <tr style=\"text-align: right;\">\n",
       "      <th></th>\n",
       "      <th>datetime</th>\n",
       "      <th>station id</th>\n",
       "      <th>bike_busyness</th>\n",
       "      <th>Taxi_Zone_ID</th>\n",
       "      <th>taxi_busyness</th>\n",
       "      <th>SegmentID</th>\n",
       "      <th>volume_busyness</th>\n",
       "      <th>temp</th>\n",
       "      <th>humidity</th>\n",
       "      <th>snow</th>\n",
       "      <th>windspeed</th>\n",
       "      <th>cloudcover</th>\n",
       "      <th>solarenergy</th>\n",
       "      <th>weekday</th>\n",
       "      <th>month</th>\n",
       "      <th>time_of_day</th>\n",
       "      <th>time_of_week</th>\n",
       "    </tr>\n",
       "  </thead>\n",
       "  <tbody>\n",
       "    <tr>\n",
       "      <th>28696</th>\n",
       "      <td>2018-04-17 16:30:00</td>\n",
       "      <td>127</td>\n",
       "      <td>0.080292</td>\n",
       "      <td>158</td>\n",
       "      <td>0.340029</td>\n",
       "      <td>-32449</td>\n",
       "      <td>0.052526</td>\n",
       "      <td>8.2</td>\n",
       "      <td>33.95</td>\n",
       "      <td>0.0</td>\n",
       "      <td>11.5</td>\n",
       "      <td>50.6</td>\n",
       "      <td>0.9</td>\n",
       "      <td>1</td>\n",
       "      <td>4</td>\n",
       "      <td>66.0</td>\n",
       "      <td>162.0</td>\n",
       "    </tr>\n",
       "    <tr>\n",
       "      <th>28697</th>\n",
       "      <td>2018-04-17 16:30:00</td>\n",
       "      <td>127</td>\n",
       "      <td>0.080292</td>\n",
       "      <td>158</td>\n",
       "      <td>0.340029</td>\n",
       "      <td>31677</td>\n",
       "      <td>0.007523</td>\n",
       "      <td>8.2</td>\n",
       "      <td>33.95</td>\n",
       "      <td>0.0</td>\n",
       "      <td>11.5</td>\n",
       "      <td>50.6</td>\n",
       "      <td>0.9</td>\n",
       "      <td>1</td>\n",
       "      <td>4</td>\n",
       "      <td>66.0</td>\n",
       "      <td>162.0</td>\n",
       "    </tr>\n",
       "    <tr>\n",
       "      <th>28700</th>\n",
       "      <td>2018-04-17 16:30:00</td>\n",
       "      <td>358</td>\n",
       "      <td>0.029197</td>\n",
       "      <td>158</td>\n",
       "      <td>0.340029</td>\n",
       "      <td>-32449</td>\n",
       "      <td>0.052526</td>\n",
       "      <td>8.2</td>\n",
       "      <td>33.95</td>\n",
       "      <td>0.0</td>\n",
       "      <td>11.5</td>\n",
       "      <td>50.6</td>\n",
       "      <td>0.9</td>\n",
       "      <td>1</td>\n",
       "      <td>4</td>\n",
       "      <td>66.0</td>\n",
       "      <td>162.0</td>\n",
       "    </tr>\n",
       "    <tr>\n",
       "      <th>28701</th>\n",
       "      <td>2018-04-17 16:30:00</td>\n",
       "      <td>358</td>\n",
       "      <td>0.029197</td>\n",
       "      <td>158</td>\n",
       "      <td>0.340029</td>\n",
       "      <td>31677</td>\n",
       "      <td>0.007523</td>\n",
       "      <td>8.2</td>\n",
       "      <td>33.95</td>\n",
       "      <td>0.0</td>\n",
       "      <td>11.5</td>\n",
       "      <td>50.6</td>\n",
       "      <td>0.9</td>\n",
       "      <td>1</td>\n",
       "      <td>4</td>\n",
       "      <td>66.0</td>\n",
       "      <td>162.0</td>\n",
       "    </tr>\n",
       "    <tr>\n",
       "      <th>28704</th>\n",
       "      <td>2018-04-17 16:30:00</td>\n",
       "      <td>358</td>\n",
       "      <td>0.000000</td>\n",
       "      <td>158</td>\n",
       "      <td>0.340029</td>\n",
       "      <td>-32449</td>\n",
       "      <td>0.052526</td>\n",
       "      <td>8.2</td>\n",
       "      <td>33.95</td>\n",
       "      <td>0.0</td>\n",
       "      <td>11.5</td>\n",
       "      <td>50.6</td>\n",
       "      <td>0.9</td>\n",
       "      <td>1</td>\n",
       "      <td>4</td>\n",
       "      <td>66.0</td>\n",
       "      <td>162.0</td>\n",
       "    </tr>\n",
       "  </tbody>\n",
       "</table>\n",
       "</div>"
      ],
      "text/plain": [
       "                 datetime  station id  bike_busyness Taxi_Zone_ID  \\\n",
       "28696 2018-04-17 16:30:00         127       0.080292          158   \n",
       "28697 2018-04-17 16:30:00         127       0.080292          158   \n",
       "28700 2018-04-17 16:30:00         358       0.029197          158   \n",
       "28701 2018-04-17 16:30:00         358       0.029197          158   \n",
       "28704 2018-04-17 16:30:00         358       0.000000          158   \n",
       "\n",
       "       taxi_busyness  SegmentID  volume_busyness  temp  humidity  snow  \\\n",
       "28696       0.340029     -32449         0.052526   8.2     33.95   0.0   \n",
       "28697       0.340029      31677         0.007523   8.2     33.95   0.0   \n",
       "28700       0.340029     -32449         0.052526   8.2     33.95   0.0   \n",
       "28701       0.340029      31677         0.007523   8.2     33.95   0.0   \n",
       "28704       0.340029     -32449         0.052526   8.2     33.95   0.0   \n",
       "\n",
       "       windspeed  cloudcover  solarenergy  weekday  month  time_of_day  \\\n",
       "28696       11.5        50.6          0.9        1      4         66.0   \n",
       "28697       11.5        50.6          0.9        1      4         66.0   \n",
       "28700       11.5        50.6          0.9        1      4         66.0   \n",
       "28701       11.5        50.6          0.9        1      4         66.0   \n",
       "28704       11.5        50.6          0.9        1      4         66.0   \n",
       "\n",
       "       time_of_week  \n",
       "28696         162.0  \n",
       "28697         162.0  \n",
       "28700         162.0  \n",
       "28701         162.0  \n",
       "28704         162.0  "
      ]
     },
     "execution_count": 28,
     "metadata": {},
     "output_type": "execute_result"
    }
   ],
   "source": [
    "df_contribution = transform_datetime(df_contribution)\n",
    "df_contribution[\"Taxi_Zone_ID\"] = df_contribution[\"Taxi_Zone_ID\"].apply(str)\n",
    "df_contribution.head()"
   ]
  },
  {
   "cell_type": "code",
   "execution_count": 29,
   "metadata": {},
   "outputs": [
    {
     "name": "stdout",
     "output_type": "stream",
     "text": [
      "datetime          -0.000161\n",
      "station id         0.519729\n",
      "bike_busyness      1.000000\n",
      "Taxi_Zone_ID            NaN\n",
      "taxi_busyness      0.002530\n",
      "SegmentID         -0.000095\n",
      "volume_busyness    0.001976\n",
      "temp               0.005153\n",
      "humidity          -0.001519\n",
      "snow              -0.010566\n",
      "windspeed          0.006099\n",
      "cloudcover         0.000965\n",
      "solarenergy       -0.004883\n",
      "weekday            0.005312\n",
      "month             -0.002191\n",
      "time_of_day        0.030248\n",
      "time_of_week       0.008438\n",
      "Name: bike_busyness, dtype: float64\n"
     ]
    }
   ],
   "source": [
    "df_zone = df_contribution.loc[df_contribution[\"Taxi_Zone_ID\"] == \"170\"]\n",
    "correlation = df_zone.corr()['bike_busyness']\n",
    "print(correlation)"
   ]
  },
  {
   "cell_type": "code",
   "execution_count": 30,
   "metadata": {},
   "outputs": [],
   "source": [
    "dummy_df = pd.read_csv('dummy_data.csv')"
   ]
  },
  {
   "cell_type": "code",
   "execution_count": 31,
   "metadata": {},
   "outputs": [
    {
     "name": "stdout",
     "output_type": "stream",
     "text": [
      "['158', '170', '232', '45', '246', '137', '48', '140', '50', '125', '261', '209']\n"
     ]
    }
   ],
   "source": [
    "taxi_zone = list(df_contribution[\"Taxi_Zone_ID\"].unique())\n",
    "#taxi_zone = [str(x) for x in taxi_zone] \n",
    "print(taxi_zone)"
   ]
  },
  {
   "cell_type": "code",
   "execution_count": 32,
   "metadata": {},
   "outputs": [],
   "source": [
    "input_df = df_contribution\n",
    "\n",
    "taxi_zone = list(input_df[\"Taxi_Zone_ID\"].unique())\n",
    "prediction_models = {}\n",
    "\n",
    "for zone in taxi_zone:\n",
    "        df_zone = input_df.loc[df_contribution[\"Taxi_Zone_ID\"] == zone]\n",
    "        X = df_zone.drop(['Taxi_Zone_ID', 'taxi_busyness', 'bike_busyness', 'volume_busyness', 'datetime', 'time_of_week'],axis=1)\n",
    "        y_taxi = df_zone['taxi_busyness']\n",
    "        y_bike = df_zone['bike_busyness']\n",
    "        y_volume = df_zone['volume_busyness']\n",
    "        \n",
    "        regr_taxi = RandomForestRegressor(n_estimators = 10, random_state = 42)\n",
    "        regr_taxi.fit(X, y_taxi)\n",
    "\n",
    "        regr_bike = RandomForestRegressor(n_estimators = 10, random_state = 42)\n",
    "        regr_bike.fit(X, y_bike)\n",
    "\n",
    "        regr_volume = RandomForestRegressor(n_estimators = 10, random_state = 42)\n",
    "        regr_volume.fit(X, y_volume)\n",
    "\n",
    "        prediction_models[zone] = [regr_taxi.predict, regr_bike.predict, regr_volume.predict]"
   ]
  },
  {
   "cell_type": "code",
   "execution_count": 33,
   "metadata": {},
   "outputs": [],
   "source": [
    "input_df = df_contribution\n",
    "\n",
    "taxi_zone = list(input_df[\"Taxi_Zone_ID\"].unique())\n",
    "prediction_models = {}\n",
    "\n",
    "for zone in taxi_zone:\n",
    "        df_zone = input_df.loc[df_contribution[\"Taxi_Zone_ID\"] == zone]\n",
    "        X = df_zone.drop(['Taxi_Zone_ID', 'taxi_busyness', 'bike_busyness', 'volume_busyness', 'datetime', 'time_of_week'],axis=1)\n",
    "        y = df_zone['taxi_busyness']\n",
    "        \n",
    "        regr = RandomForestRegressor(n_estimators = 10, random_state = 42)\n",
    "        regr.fit(X, y)\n",
    "\n",
    "        prediction_models[zone] = regr.predict"
   ]
  },
  {
   "attachments": {},
   "cell_type": "markdown",
   "metadata": {},
   "source": [
    "## Factor for street \"highway\""
   ]
  },
  {
   "cell_type": "code",
   "execution_count": 34,
   "metadata": {},
   "outputs": [],
   "source": [
    "def safe_loads(row):\n",
    "    try:\n",
    "        return wkt.loads(row)\n",
    "    except Exception:\n",
    "        print(f\"Error parsing row: {row}\")\n",
    "        return None  # or some other value"
   ]
  },
  {
   "cell_type": "code",
   "execution_count": 35,
   "metadata": {},
   "outputs": [],
   "source": [
    "street_zones = pd.read_parquet(\"street_zones.parquet\")"
   ]
  },
  {
   "cell_type": "code",
   "execution_count": 36,
   "metadata": {},
   "outputs": [],
   "source": [
    "street_zones['geometry'] = street_zones['geometry'].apply(safe_loads)\n",
    "street_zones['geometry'] = gpd.GeoSeries(street_zones['geometry'])"
   ]
  },
  {
   "cell_type": "code",
   "execution_count": 37,
   "metadata": {},
   "outputs": [
    {
     "data": {
      "text/plain": [
       "<geopandas.array.GeometryDtype at 0x171413110>"
      ]
     },
     "execution_count": 37,
     "metadata": {},
     "output_type": "execute_result"
    }
   ],
   "source": [
    "street_zones['geometry'].dtype"
   ]
  },
  {
   "cell_type": "code",
   "execution_count": 38,
   "metadata": {},
   "outputs": [
    {
     "data": {
      "text/html": [
       "<div>\n",
       "<style scoped>\n",
       "    .dataframe tbody tr th:only-of-type {\n",
       "        vertical-align: middle;\n",
       "    }\n",
       "\n",
       "    .dataframe tbody tr th {\n",
       "        vertical-align: top;\n",
       "    }\n",
       "\n",
       "    .dataframe thead th {\n",
       "        text-align: right;\n",
       "    }\n",
       "</style>\n",
       "<table border=\"1\" class=\"dataframe\">\n",
       "  <thead>\n",
       "    <tr style=\"text-align: right;\">\n",
       "      <th></th>\n",
       "      <th></th>\n",
       "      <th></th>\n",
       "      <th>osmid</th>\n",
       "      <th>highway</th>\n",
       "      <th>geometry</th>\n",
       "      <th>index_right</th>\n",
       "      <th>Taxi_Zone_ID</th>\n",
       "    </tr>\n",
       "    <tr>\n",
       "      <th>u</th>\n",
       "      <th>v</th>\n",
       "      <th>key</th>\n",
       "      <th></th>\n",
       "      <th></th>\n",
       "      <th></th>\n",
       "      <th></th>\n",
       "      <th></th>\n",
       "    </tr>\n",
       "  </thead>\n",
       "  <tbody>\n",
       "    <tr>\n",
       "      <th rowspan=\"4\" valign=\"top\">30807314</th>\n",
       "      <th>4332491202</th>\n",
       "      <th>0</th>\n",
       "      <td>147089927</td>\n",
       "      <td>path</td>\n",
       "      <td>LINESTRING (-73.96358 40.79072, -73.96368 40.7...</td>\n",
       "      <td>44.0</td>\n",
       "      <td>43.0</td>\n",
       "    </tr>\n",
       "    <tr>\n",
       "      <th>2057103273</th>\n",
       "      <th>0</th>\n",
       "      <td>46613689</td>\n",
       "      <td>bridleway</td>\n",
       "      <td>LINESTRING (-73.96358 40.79072, -73.96360 40.7...</td>\n",
       "      <td>44.0</td>\n",
       "      <td>43.0</td>\n",
       "    </tr>\n",
       "    <tr>\n",
       "      <th>6579409036</th>\n",
       "      <th>0</th>\n",
       "      <td>46613689</td>\n",
       "      <td>bridleway</td>\n",
       "      <td>LINESTRING (-73.96358 40.79072, -73.96354 40.7...</td>\n",
       "      <td>44.0</td>\n",
       "      <td>43.0</td>\n",
       "    </tr>\n",
       "    <tr>\n",
       "      <th>1203806263</th>\n",
       "      <th>0</th>\n",
       "      <td>147089927</td>\n",
       "      <td>path</td>\n",
       "      <td>LINESTRING (-73.96358 40.79072, -73.96353 40.7...</td>\n",
       "      <td>44.0</td>\n",
       "      <td>43.0</td>\n",
       "    </tr>\n",
       "    <tr>\n",
       "      <th>30978752</th>\n",
       "      <th>4257949514</th>\n",
       "      <th>0</th>\n",
       "      <td>426425334</td>\n",
       "      <td>footway</td>\n",
       "      <td>LINESTRING (-73.97436 40.77478, -73.97441 40.7...</td>\n",
       "      <td>44.0</td>\n",
       "      <td>43.0</td>\n",
       "    </tr>\n",
       "  </tbody>\n",
       "</table>\n",
       "</div>"
      ],
      "text/plain": [
       "                             osmid    highway  \\\n",
       "u        v          key                         \n",
       "30807314 4332491202 0    147089927       path   \n",
       "         2057103273 0     46613689  bridleway   \n",
       "         6579409036 0     46613689  bridleway   \n",
       "         1203806263 0    147089927       path   \n",
       "30978752 4257949514 0    426425334    footway   \n",
       "\n",
       "                                                                  geometry  \\\n",
       "u        v          key                                                      \n",
       "30807314 4332491202 0    LINESTRING (-73.96358 40.79072, -73.96368 40.7...   \n",
       "         2057103273 0    LINESTRING (-73.96358 40.79072, -73.96360 40.7...   \n",
       "         6579409036 0    LINESTRING (-73.96358 40.79072, -73.96354 40.7...   \n",
       "         1203806263 0    LINESTRING (-73.96358 40.79072, -73.96353 40.7...   \n",
       "30978752 4257949514 0    LINESTRING (-73.97436 40.77478, -73.97441 40.7...   \n",
       "\n",
       "                         index_right  Taxi_Zone_ID  \n",
       "u        v          key                             \n",
       "30807314 4332491202 0           44.0          43.0  \n",
       "         2057103273 0           44.0          43.0  \n",
       "         6579409036 0           44.0          43.0  \n",
       "         1203806263 0           44.0          43.0  \n",
       "30978752 4257949514 0           44.0          43.0  "
      ]
     },
     "execution_count": 38,
     "metadata": {},
     "output_type": "execute_result"
    }
   ],
   "source": [
    "street_zones.head()"
   ]
  },
  {
   "cell_type": "code",
   "execution_count": 39,
   "metadata": {},
   "outputs": [],
   "source": [
    "street_zones = street_zones.drop('index_right', axis=1)"
   ]
  },
  {
   "cell_type": "code",
   "execution_count": 40,
   "metadata": {},
   "outputs": [
    {
     "data": {
      "text/plain": [
       "array(['path', 'bridleway', 'footway', 'secondary', 'residential',\n",
       "       'primary', 'tertiary', \"['footway', 'steps']\", 'service', 'trunk',\n",
       "       'unclassified', \"['footway', 'pedestrian']\",\n",
       "       \"['primary', 'residential']\", \"['secondary', 'residential']\",\n",
       "       'pedestrian', 'tertiary_link', 'living_street', 'secondary_link',\n",
       "       'primary_link', 'steps', \"['residential', 'steps']\",\n",
       "       \"['unclassified', 'secondary']\", 'trunk_link',\n",
       "       \"['footway', 'service']\", \"['residential', 'tertiary']\", 'track',\n",
       "       \"['footway', 'path']\", \"['residential', 'trunk']\",\n",
       "       \"['primary', 'secondary']\", \"['residential', 'footway']\",\n",
       "       \"['unclassified', 'secondary_link']\",\n",
       "       \"['unclassified', 'tertiary']\", \"['steps', 'path']\",\n",
       "       \"['footway', 'steps', 'pedestrian']\",\n",
       "       \"['secondary_link', 'service']\", \"['unclassified', 'residential']\",\n",
       "       \"['residential', 'path']\", \"['secondary', 'secondary_link']\",\n",
       "       \"['service', 'secondary_link']\", \"['track', 'path']\",\n",
       "       \"['footway', 'steps', 'path']\", \"['primary', 'primary_link']\",\n",
       "       \"['residential', 'service']\", \"['unclassified', 'pedestrian']\",\n",
       "       \"['steps', 'pedestrian']\", \"['secondary', 'primary_link']\",\n",
       "       'elevator', \"['secondary', 'secondary_link', 'tertiary']\",\n",
       "       \"['secondary', 'service']\", \"['residential', 'pedestrian']\",\n",
       "       \"['service', 'steps']\", \"['steps', 'service']\",\n",
       "       \"['service', 'path']\", \"['corridor', 'footway']\",\n",
       "       \"['unclassified', 'service']\", \"['service', 'pedestrian']\",\n",
       "       \"['primary', 'service']\", \"['elevator', 'footway']\"], dtype=object)"
      ]
     },
     "execution_count": 40,
     "metadata": {},
     "output_type": "execute_result"
    }
   ],
   "source": [
    "street_zones[\"highway\"].unique()"
   ]
  },
  {
   "cell_type": "code",
   "execution_count": 41,
   "metadata": {},
   "outputs": [],
   "source": [
    "# Factor based on path description (https://wiki.openstreetmap.org/wiki/Key:highway)\n",
    "highway_factor = {\n",
    "    'path': 0.6,\n",
    "    'bridleway': 0.4,\n",
    "    'footway': 0.6, \n",
    "    'secondary': 1, \n",
    "    'residential': 0.6, \n",
    "    'primary':1.3, \n",
    "    'tertiary':0.8, \n",
    "    'service':0.4, \n",
    "    'trunk':1.4, \n",
    "    'unclassified': 0.6, \n",
    "    'pedestrian': 0.6, \n",
    "    'tertiary_link': 0.8, \n",
    "    'living_street': 0.4, \n",
    "    'secondary_link':1, \n",
    "    'primary_link': 1.3, \n",
    "    'trunk_link': 1.4,\n",
    "    'steps': 0.4,\n",
    "    'track': 0.6,\n",
    "    'elevator': 0.6,\n",
    "    }"
   ]
  },
  {
   "cell_type": "code",
   "execution_count": 42,
   "metadata": {},
   "outputs": [],
   "source": [
    "highway_types = list(highway_factor.keys())"
   ]
  },
  {
   "cell_type": "code",
   "execution_count": 43,
   "metadata": {},
   "outputs": [
    {
     "name": "stdout",
     "output_type": "stream",
     "text": [
      "                             osmid    highway  \\\n",
      "u        v          key                         \n",
      "30807314 4332491202 0    147089927       path   \n",
      "         2057103273 0     46613689  bridleway   \n",
      "         6579409036 0     46613689  bridleway   \n",
      "         1203806263 0    147089927       path   \n",
      "30978752 4257949514 0    426425334    footway   \n",
      "\n",
      "                                                                  geometry  \\\n",
      "u        v          key                                                      \n",
      "30807314 4332491202 0    LINESTRING (-73.96358 40.79072, -73.96368 40.7...   \n",
      "         2057103273 0    LINESTRING (-73.96358 40.79072, -73.96360 40.7...   \n",
      "         6579409036 0    LINESTRING (-73.96358 40.79072, -73.96354 40.7...   \n",
      "         1203806263 0    LINESTRING (-73.96358 40.79072, -73.96353 40.7...   \n",
      "30978752 4257949514 0    LINESTRING (-73.97436 40.77478, -73.97441 40.7...   \n",
      "\n",
      "                         Taxi_Zone_ID  highway_factor  \n",
      "u        v          key                                \n",
      "30807314 4332491202 0            43.0             0.6  \n",
      "         2057103273 0            43.0             0.4  \n",
      "         6579409036 0            43.0             0.4  \n",
      "         1203806263 0            43.0             0.6  \n",
      "30978752 4257949514 0            43.0             0.6  \n"
     ]
    }
   ],
   "source": [
    "def find_and_average(row):\n",
    "    highway_values = row['highway']\n",
    "    if highway_values.startswith('['):  # if the value is a list\n",
    "        highway_values = ast.literal_eval(highway_values)\n",
    "    else:  # if the value is a single string\n",
    "        highway_values = [highway_values]\n",
    "    vals = [highway_factor[k] for k in highway_values if k in highway_types]\n",
    "    return sum(vals) / len(vals) if vals else None\n",
    "\n",
    "street_zones['highway_factor'] = street_zones.apply(find_and_average, axis=1)\n",
    "\n",
    "print(street_zones.head())"
   ]
  },
  {
   "cell_type": "code",
   "execution_count": 44,
   "metadata": {},
   "outputs": [
    {
     "data": {
      "text/plain": [
       "array([0.6       , 0.4       , 1.        , 1.3       , 0.8       ,\n",
       "       0.5       , 1.4       , 0.95      , 0.7       , 1.15      ,\n",
       "       0.53333333, 0.93333333, 0.85      ])"
      ]
     },
     "execution_count": 44,
     "metadata": {},
     "output_type": "execute_result"
    }
   ],
   "source": [
    "street_zones[\"highway_factor\"].unique()"
   ]
  },
  {
   "cell_type": "code",
   "execution_count": 45,
   "metadata": {},
   "outputs": [
    {
     "data": {
      "text/html": [
       "<div>\n",
       "<style scoped>\n",
       "    .dataframe tbody tr th:only-of-type {\n",
       "        vertical-align: middle;\n",
       "    }\n",
       "\n",
       "    .dataframe tbody tr th {\n",
       "        vertical-align: top;\n",
       "    }\n",
       "\n",
       "    .dataframe thead th {\n",
       "        text-align: right;\n",
       "    }\n",
       "</style>\n",
       "<table border=\"1\" class=\"dataframe\">\n",
       "  <thead>\n",
       "    <tr style=\"text-align: right;\">\n",
       "      <th></th>\n",
       "      <th></th>\n",
       "      <th></th>\n",
       "      <th>osmid</th>\n",
       "      <th>highway</th>\n",
       "      <th>geometry</th>\n",
       "      <th>Taxi_Zone_ID</th>\n",
       "      <th>highway_factor</th>\n",
       "    </tr>\n",
       "    <tr>\n",
       "      <th>u</th>\n",
       "      <th>v</th>\n",
       "      <th>key</th>\n",
       "      <th></th>\n",
       "      <th></th>\n",
       "      <th></th>\n",
       "      <th></th>\n",
       "      <th></th>\n",
       "    </tr>\n",
       "  </thead>\n",
       "  <tbody>\n",
       "  </tbody>\n",
       "</table>\n",
       "</div>"
      ],
      "text/plain": [
       "Empty DataFrame\n",
       "Columns: [osmid, highway, geometry, Taxi_Zone_ID, highway_factor]\n",
       "Index: []"
      ]
     },
     "execution_count": 45,
     "metadata": {},
     "output_type": "execute_result"
    }
   ],
   "source": [
    "street_zones[street_zones['highway_factor'].isna()]"
   ]
  },
  {
   "cell_type": "code",
   "execution_count": 48,
   "metadata": {},
   "outputs": [],
   "source": [
    "street_zones['geometry'] = street_zones['geometry'].astype(str)\n",
    "street_zones.to_parquet('street_zones_factor.parquet', engine='pyarrow')"
   ]
  },
  {
   "attachments": {},
   "cell_type": "markdown",
   "metadata": {},
   "source": [
    "### Mapping\n",
    "\n",
    "A function that creates from prediction table a street edge table\n",
    "<br>\n",
    "<br>\n",
    "Input: table with [taxi_zone] and [busyness_index]<br>\n",
    "Output: table with street and adjusted busyness_index"
   ]
  },
  {
   "cell_type": "code",
   "execution_count": null,
   "metadata": {},
   "outputs": [],
   "source": [
    "def get_streets(df, street_zones):\n",
    "    \"\"\"\n",
    "    Input: table with [taxi_zone] and [busyness_index]\n",
    "        df = result of prediction\n",
    "        street_zones = mapping table from \n",
    "\n",
    "    Output: table with street and adjusted busyness_index\n",
    "    \"\"\"\n",
    "\n",
    "\n",
    "    # Perform the join.\n",
    "    output_df = street_zones.merge(df[['Taxi_Zone_ID', 'busyness']], on='Taxi_Zone_ID', how='left')\n",
    "\n",
    "    # Adjust busyness by the highway factor.\n",
    "    output_df['street_busyness'] = 1 - (1 - output_df['busyness']) * output_df['highway_factor']\n",
    "\n",
    "    return output_df\n",
    "\n",
    "\n",
    "street_zones = pd.read_parquet(\"street_zones_factor.parque\")\n",
    "\n",
    "new_result = get_streets(df, street_zones)"
   ]
  }
 ],
 "metadata": {
  "kernelspec": {
   "display_name": "ox",
   "language": "python",
   "name": "python3"
  },
  "language_info": {
   "codemirror_mode": {
    "name": "ipython",
    "version": 3
   },
   "file_extension": ".py",
   "mimetype": "text/x-python",
   "name": "python",
   "nbconvert_exporter": "python",
   "pygments_lexer": "ipython3",
   "version": "3.11.4"
  },
  "orig_nbformat": 4
 },
 "nbformat": 4,
 "nbformat_minor": 2
}

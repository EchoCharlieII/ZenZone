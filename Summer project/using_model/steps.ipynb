{
 "cells": [
  {
   "cell_type": "code",
   "execution_count": 1,
   "metadata": {},
   "outputs": [],
   "source": [
    "import pandas as pd\n",
    "import pyarrow as pa\n",
    "import pyarrow.parquet as pq\n",
    "from pandas import read_parquet\n",
    "import numpy as np\n",
    "from sklearn.ensemble import RandomForestRegressor\n",
    "from sklearn.model_selection import train_test_split\n",
    "from sklearn.metrics import mean_squared_error\n",
    "import pickle"
   ]
  },
  {
   "cell_type": "markdown",
   "metadata": {},
   "source": [
    "## Step 1: get predict results and save them into dataframe for each zones"
   ]
  },
  {
   "cell_type": "code",
   "execution_count": 3,
   "metadata": {},
   "outputs": [],
   "source": [
    "unique_values=[4, 12, 13, 24, 41, 42, 43, 45, 48, 50, 68, 74, 75, 79, 87, 88, 90, 100, 107, 113, 114, 116, 120, 125, 127, 128, 137, \n",
    "               140, 141, 142, 143, 144, 148, 151, 152, 153, 158, 161, 162, 163, 164, 166, 170, 186, 194, 202, 209, 211, 224, 229, 230, \n",
    "               231, 232, 233, 234, 236, 237, 238, 239, 243, 244, 246, 249, 261, 262, 263]"
   ]
  },
  {
   "cell_type": "code",
   "execution_count": 4,
   "metadata": {},
   "outputs": [],
   "source": [
    "# set an list for saving predict results\n",
    "predictions = []\n",
    "# input of the model, here just a sample\n",
    "X_input = pd.DataFrame(np.array([[-11.2, 1, 2]]), columns=['temp', 'month', 'time_of_week'])\n",
    "\n",
    "# loop all model \n",
    "for zone_id in unique_values:\n",
    "    # load model\n",
    "    filename = 'model-' + str(zone_id) + '.pkl'\n",
    "    with open(filename, 'rb') as f:\n",
    "        model = pickle.load(f)\n",
    "    \n",
    "    # predict\n",
    "    prediction = model.predict(X_input)[0]\n",
    "    # save reslut and zone ID into dictionary--prediction\n",
    "    predictions.append({'Taxi_Zone_ID': zone_id, 'calm rate': prediction})\n",
    "\n",
    "# transform dictionary into dataframe\n",
    "df_predictions = pd.DataFrame(predictions)"
   ]
  },
  {
   "cell_type": "code",
   "execution_count": 5,
   "metadata": {},
   "outputs": [
    {
     "data": {
      "text/html": [
       "<div>\n",
       "<style scoped>\n",
       "    .dataframe tbody tr th:only-of-type {\n",
       "        vertical-align: middle;\n",
       "    }\n",
       "\n",
       "    .dataframe tbody tr th {\n",
       "        vertical-align: top;\n",
       "    }\n",
       "\n",
       "    .dataframe thead th {\n",
       "        text-align: right;\n",
       "    }\n",
       "</style>\n",
       "<table border=\"1\" class=\"dataframe\">\n",
       "  <thead>\n",
       "    <tr style=\"text-align: right;\">\n",
       "      <th></th>\n",
       "      <th>Taxi_Zone_ID</th>\n",
       "      <th>calm rate</th>\n",
       "    </tr>\n",
       "  </thead>\n",
       "  <tbody>\n",
       "    <tr>\n",
       "      <th>0</th>\n",
       "      <td>4</td>\n",
       "      <td>0.401397</td>\n",
       "    </tr>\n",
       "    <tr>\n",
       "      <th>1</th>\n",
       "      <td>12</td>\n",
       "      <td>0.445275</td>\n",
       "    </tr>\n",
       "    <tr>\n",
       "      <th>2</th>\n",
       "      <td>13</td>\n",
       "      <td>0.265881</td>\n",
       "    </tr>\n",
       "    <tr>\n",
       "      <th>3</th>\n",
       "      <td>24</td>\n",
       "      <td>0.228572</td>\n",
       "    </tr>\n",
       "    <tr>\n",
       "      <th>4</th>\n",
       "      <td>41</td>\n",
       "      <td>0.088860</td>\n",
       "    </tr>\n",
       "  </tbody>\n",
       "</table>\n",
       "</div>"
      ],
      "text/plain": [
       "   Taxi_Zone_ID  calm rate\n",
       "0             4   0.401397\n",
       "1            12   0.445275\n",
       "2            13   0.265881\n",
       "3            24   0.228572\n",
       "4            41   0.088860"
      ]
     },
     "execution_count": 5,
     "metadata": {},
     "output_type": "execute_result"
    }
   ],
   "source": [
    "df_predictions.head(5)"
   ]
  },
  {
   "cell_type": "markdown",
   "metadata": {},
   "source": [
    "## Step 2: merge the results with street data"
   ]
  },
  {
   "cell_type": "code",
   "execution_count": 6,
   "metadata": {},
   "outputs": [],
   "source": [
    "df_street=pd.read_csv('new_street_busyness.csv')"
   ]
  },
  {
   "cell_type": "code",
   "execution_count": 7,
   "metadata": {},
   "outputs": [],
   "source": [
    "def get_streets(df, street_zones):\n",
    "    \"\"\"\n",
    "    Input: table with [taxi_zone] and [busyness_index]\n",
    "        df = result of prediction\n",
    "        street_zones = mapping table from \n",
    "\n",
    "    Output: table with street and adjusted busyness_index\n",
    "    \"\"\"\n",
    "\n",
    "\n",
    "    # Perform the join.\n",
    "    output_df =  pd.merge(df,street_zones,how='right',on='Taxi_Zone_ID')\n",
    "\n",
    "    # Adjust busyness by the highway factor.\n",
    "    output_df['street_calm_rate'] = 1 - (1 - output_df['calm rate']) * output_df['highway_factor']\n",
    "\n",
    "    return output_df\n",
    "\n",
    "new_result=get_streets(df_predictions,df_street)"
   ]
  },
  {
   "cell_type": "code",
   "execution_count": 9,
   "metadata": {},
   "outputs": [],
   "source": [
    "new_result=new_result.drop(columns='Unnamed: 0')"
   ]
  },
  {
   "cell_type": "code",
   "execution_count": 10,
   "metadata": {},
   "outputs": [
    {
     "data": {
      "text/html": [
       "<div>\n",
       "<style scoped>\n",
       "    .dataframe tbody tr th:only-of-type {\n",
       "        vertical-align: middle;\n",
       "    }\n",
       "\n",
       "    .dataframe tbody tr th {\n",
       "        vertical-align: top;\n",
       "    }\n",
       "\n",
       "    .dataframe thead th {\n",
       "        text-align: right;\n",
       "    }\n",
       "</style>\n",
       "<table border=\"1\" class=\"dataframe\">\n",
       "  <thead>\n",
       "    <tr style=\"text-align: right;\">\n",
       "      <th></th>\n",
       "      <th>Taxi_Zone_ID</th>\n",
       "      <th>calm rate</th>\n",
       "      <th>osmid</th>\n",
       "      <th>highway</th>\n",
       "      <th>geometry</th>\n",
       "      <th>highway_factor</th>\n",
       "      <th>street_calm_rate</th>\n",
       "    </tr>\n",
       "  </thead>\n",
       "  <tbody>\n",
       "    <tr>\n",
       "      <th>0</th>\n",
       "      <td>43.0</td>\n",
       "      <td>0.129196</td>\n",
       "      <td>147089927</td>\n",
       "      <td>path</td>\n",
       "      <td>LINESTRING (-73.963576 40.79072, -73.963526 40...</td>\n",
       "      <td>0.6</td>\n",
       "      <td>0.477517</td>\n",
       "    </tr>\n",
       "    <tr>\n",
       "      <th>1</th>\n",
       "      <td>43.0</td>\n",
       "      <td>0.129196</td>\n",
       "      <td>46613689</td>\n",
       "      <td>bridleway</td>\n",
       "      <td>LINESTRING (-73.963576 40.79072, -73.963602 40...</td>\n",
       "      <td>0.4</td>\n",
       "      <td>0.651678</td>\n",
       "    </tr>\n",
       "    <tr>\n",
       "      <th>2</th>\n",
       "      <td>43.0</td>\n",
       "      <td>0.129196</td>\n",
       "      <td>301283869</td>\n",
       "      <td>footway</td>\n",
       "      <td>LINESTRING (-73.97436 40.774776, -73.974179 40...</td>\n",
       "      <td>0.6</td>\n",
       "      <td>0.477517</td>\n",
       "    </tr>\n",
       "    <tr>\n",
       "      <th>3</th>\n",
       "      <td>43.0</td>\n",
       "      <td>0.129196</td>\n",
       "      <td>1081028223</td>\n",
       "      <td>footway</td>\n",
       "      <td>LINESTRING (-73.97436 40.774776, -73.974312 40...</td>\n",
       "      <td>0.6</td>\n",
       "      <td>0.477517</td>\n",
       "    </tr>\n",
       "    <tr>\n",
       "      <th>4</th>\n",
       "      <td>43.0</td>\n",
       "      <td>0.129196</td>\n",
       "      <td>426425334</td>\n",
       "      <td>footway</td>\n",
       "      <td>LINESTRING (-73.97436 40.774776, -73.974413 40...</td>\n",
       "      <td>0.6</td>\n",
       "      <td>0.477517</td>\n",
       "    </tr>\n",
       "  </tbody>\n",
       "</table>\n",
       "</div>"
      ],
      "text/plain": [
       "   Taxi_Zone_ID  calm rate       osmid    highway  \\\n",
       "0          43.0   0.129196   147089927       path   \n",
       "1          43.0   0.129196    46613689  bridleway   \n",
       "2          43.0   0.129196   301283869    footway   \n",
       "3          43.0   0.129196  1081028223    footway   \n",
       "4          43.0   0.129196   426425334    footway   \n",
       "\n",
       "                                            geometry  highway_factor  \\\n",
       "0  LINESTRING (-73.963576 40.79072, -73.963526 40...             0.6   \n",
       "1  LINESTRING (-73.963576 40.79072, -73.963602 40...             0.4   \n",
       "2  LINESTRING (-73.97436 40.774776, -73.974179 40...             0.6   \n",
       "3  LINESTRING (-73.97436 40.774776, -73.974312 40...             0.6   \n",
       "4  LINESTRING (-73.97436 40.774776, -73.974413 40...             0.6   \n",
       "\n",
       "   street_calm_rate  \n",
       "0          0.477517  \n",
       "1          0.651678  \n",
       "2          0.477517  \n",
       "3          0.477517  \n",
       "4          0.477517  "
      ]
     },
     "execution_count": 10,
     "metadata": {},
     "output_type": "execute_result"
    }
   ],
   "source": [
    "new_result.head(5)"
   ]
  },
  {
   "cell_type": "markdown",
   "metadata": {},
   "source": [
    "Description"
   ]
  },
  {
   "cell_type": "markdown",
   "metadata": {},
   "source": [
    "Taxi_Zone_ID: identifitier of each taxi zone\n",
    "\n",
    "calm rate: calm rate of each taxi zone, can be dropped if useless in visualising on map\n",
    "\n",
    "osmid: stands for \"open street map id\", identifiter of highway,can be drop if useless\n",
    "\n",
    "geometry: geolocation of each path\n",
    "\n",
    "highway_factor: factor for calculating street_calm_rate, can be drop if useless\n",
    "\n",
    "street_calm_rate: rate of each road"
   ]
  }
 ],
 "metadata": {
  "kernelspec": {
   "display_name": "Python 3 (ipykernel)",
   "language": "python",
   "name": "python3"
  },
  "language_info": {
   "codemirror_mode": {
    "name": "ipython",
    "version": 3
   },
   "file_extension": ".py",
   "mimetype": "text/x-python",
   "name": "python",
   "nbconvert_exporter": "python",
   "pygments_lexer": "ipython3",
   "version": "3.9.16"
  },
  "orig_nbformat": 4
 },
 "nbformat": 4,
 "nbformat_minor": 2
}

{
 "cells": [
  {
   "cell_type": "code",
   "execution_count": 1,
   "metadata": {},
   "outputs": [],
   "source": [
    "import pandas as pd\n",
    "import pyarrow as pa\n",
    "import pyarrow.parquet as pq\n",
    "from pandas import read_parquet"
   ]
  },
  {
   "cell_type": "code",
   "execution_count": 157,
   "metadata": {},
   "outputs": [],
   "source": [
    "df1=pd.read_parquet('bike-201801.parquet')\n",
    "df2=pd.read_parquet('bike-201802.parquet')\n",
    "df3=pd.read_parquet('bike-201803.parquet')\n",
    "df4=pd.read_parquet('bike-201804.parquet')\n",
    "df5=pd.read_parquet('bike-201805.parquet')\n",
    "df6=pd.read_parquet('bike-201806.parquet')\n",
    "df7=pd.read_parquet('bike-201807.parquet')\n",
    "df8=pd.read_parquet('bike-201808.parquet')\n",
    "df9=pd.read_parquet('bike-201809.parquet')\n",
    "df10=pd.read_parquet('bike-201810.parquet')\n",
    "df11=pd.read_parquet('bike-201811.parquet')\n",
    "df12=pd.read_parquet('bike-201812.parquet')\n"
   ]
  },
  {
   "cell_type": "code",
   "execution_count": 118,
   "metadata": {},
   "outputs": [
    {
     "data": {
      "text/plain": [
       "(718994, 15)"
      ]
     },
     "execution_count": 118,
     "metadata": {},
     "output_type": "execute_result"
    }
   ],
   "source": [
    "df1.shape"
   ]
  },
  {
   "cell_type": "code",
   "execution_count": 182,
   "metadata": {},
   "outputs": [
    {
     "data": {
      "text/plain": [
       "(508252, 15)"
      ]
     },
     "execution_count": 182,
     "metadata": {},
     "output_type": "execute_result"
    }
   ],
   "source": [
    "sample_size = int(len(df12) / 2)\n",
    "random_sample = df11.sample(n=sample_size)\n",
    "random_sample.shape"
   ]
  },
  {
   "cell_type": "code",
   "execution_count": 183,
   "metadata": {},
   "outputs": [],
   "source": [
    "random_sample.to_parquet('201812')"
   ]
  },
  {
   "cell_type": "code",
   "execution_count": 109,
   "metadata": {},
   "outputs": [
    {
     "data": {
      "text/plain": [
       "(718994, 15)"
      ]
     },
     "execution_count": 109,
     "metadata": {},
     "output_type": "execute_result"
    }
   ],
   "source": [
    "df1.shape"
   ]
  },
  {
   "cell_type": "code",
   "execution_count": 184,
   "metadata": {},
   "outputs": [],
   "source": [
    "df1=pd.read_parquet('201801')\n",
    "df2=pd.read_parquet('201802')\n",
    "df3=pd.read_parquet('201803')\n",
    "df4=pd.read_parquet('201804')\n",
    "df5=pd.read_parquet('201805')\n",
    "df6=pd.read_parquet('201806')\n",
    "df7=pd.read_parquet('201807')\n",
    "df8=pd.read_parquet('201808')\n",
    "df9=pd.read_parquet('201809')\n",
    "df10=pd.read_parquet('201810')\n",
    "df11=pd.read_parquet('201811')\n",
    "df12=pd.read_parquet('201812')"
   ]
  },
  {
   "cell_type": "code",
   "execution_count": 185,
   "metadata": {},
   "outputs": [],
   "source": [
    "merge_data=pd.concat([df1,df2,df3,df4,df5,df6,df7,df8,df9,df10,df11,df12],axis=0)"
   ]
  },
  {
   "cell_type": "code",
   "execution_count": 186,
   "metadata": {},
   "outputs": [],
   "source": [
    "merge_data.to_parquet('bike_data')"
   ]
  },
  {
   "cell_type": "code",
   "execution_count": 11,
   "metadata": {},
   "outputs": [
    {
     "data": {
      "text/plain": [
       "(8774166, 15)"
      ]
     },
     "execution_count": 11,
     "metadata": {},
     "output_type": "execute_result"
    }
   ],
   "source": [
    "df=pd.read_parquet('bike_data')\n",
    "df.shape"
   ]
  },
  {
   "cell_type": "code",
   "execution_count": 3,
   "metadata": {},
   "outputs": [
    {
     "data": {
      "text/html": [
       "<div>\n",
       "<style scoped>\n",
       "    .dataframe tbody tr th:only-of-type {\n",
       "        vertical-align: middle;\n",
       "    }\n",
       "\n",
       "    .dataframe tbody tr th {\n",
       "        vertical-align: top;\n",
       "    }\n",
       "\n",
       "    .dataframe thead th {\n",
       "        text-align: right;\n",
       "    }\n",
       "</style>\n",
       "<table border=\"1\" class=\"dataframe\">\n",
       "  <thead>\n",
       "    <tr style=\"text-align: right;\">\n",
       "      <th></th>\n",
       "      <th>tripduration</th>\n",
       "      <th>starttime</th>\n",
       "      <th>stoptime</th>\n",
       "      <th>start station id</th>\n",
       "      <th>start station name</th>\n",
       "      <th>start station latitude</th>\n",
       "      <th>start station longitude</th>\n",
       "      <th>end station id</th>\n",
       "      <th>end station name</th>\n",
       "      <th>end station latitude</th>\n",
       "      <th>end station longitude</th>\n",
       "      <th>bikeid</th>\n",
       "      <th>usertype</th>\n",
       "      <th>birth year</th>\n",
       "      <th>gender</th>\n",
       "    </tr>\n",
       "  </thead>\n",
       "  <tbody>\n",
       "    <tr>\n",
       "      <th>674060</th>\n",
       "      <td>189</td>\n",
       "      <td>2018-01-25 08:33:09.4370</td>\n",
       "      <td>2018-01-25 08:36:19.2520</td>\n",
       "      <td>3472.0</td>\n",
       "      <td>W 15 St &amp; 10 Ave</td>\n",
       "      <td>40.742754</td>\n",
       "      <td>-74.007474</td>\n",
       "      <td>482.0</td>\n",
       "      <td>W 15 St &amp; 7 Ave</td>\n",
       "      <td>40.739355</td>\n",
       "      <td>-73.999318</td>\n",
       "      <td>26337</td>\n",
       "      <td>Subscriber</td>\n",
       "      <td>1989</td>\n",
       "      <td>1</td>\n",
       "    </tr>\n",
       "    <tr>\n",
       "      <th>6387</th>\n",
       "      <td>193</td>\n",
       "      <td>2018-01-30 11:26:52.0600</td>\n",
       "      <td>2018-01-30 11:30:05.2500</td>\n",
       "      <td>127.0</td>\n",
       "      <td>Barrow St &amp; Hudson St</td>\n",
       "      <td>40.731724</td>\n",
       "      <td>-74.006744</td>\n",
       "      <td>346.0</td>\n",
       "      <td>Bank St &amp; Hudson St</td>\n",
       "      <td>40.736529</td>\n",
       "      <td>-74.006180</td>\n",
       "      <td>19854</td>\n",
       "      <td>Subscriber</td>\n",
       "      <td>1954</td>\n",
       "      <td>2</td>\n",
       "    </tr>\n",
       "  </tbody>\n",
       "</table>\n",
       "</div>"
      ],
      "text/plain": [
       "        tripduration                 starttime                  stoptime  \\\n",
       "674060           189  2018-01-25 08:33:09.4370  2018-01-25 08:36:19.2520   \n",
       "6387             193  2018-01-30 11:26:52.0600  2018-01-30 11:30:05.2500   \n",
       "\n",
       "        start station id     start station name  start station latitude  \\\n",
       "674060            3472.0       W 15 St & 10 Ave               40.742754   \n",
       "6387               127.0  Barrow St & Hudson St               40.731724   \n",
       "\n",
       "        start station longitude  end station id     end station name  \\\n",
       "674060               -74.007474           482.0      W 15 St & 7 Ave   \n",
       "6387                 -74.006744           346.0  Bank St & Hudson St   \n",
       "\n",
       "        end station latitude  end station longitude  bikeid    usertype  \\\n",
       "674060             40.739355             -73.999318   26337  Subscriber   \n",
       "6387               40.736529             -74.006180   19854  Subscriber   \n",
       "\n",
       "        birth year  gender  \n",
       "674060        1989       1  \n",
       "6387          1954       2  "
      ]
     },
     "execution_count": 3,
     "metadata": {},
     "output_type": "execute_result"
    }
   ],
   "source": [
    "df.head(2)"
   ]
  },
  {
   "cell_type": "code",
   "execution_count": 4,
   "metadata": {},
   "outputs": [],
   "source": [
    "start_column=['starttime','start station id','start station latitude','start station longitude']\n",
    "df[start_column].to_parquet('start_data')"
   ]
  },
  {
   "cell_type": "code",
   "execution_count": 6,
   "metadata": {},
   "outputs": [],
   "source": [
    "df=pd.read_parquet('start_data')\n",
    "df=df.rename(columns={'starttime':'datetime','start station id':'station id'})"
   ]
  },
  {
   "cell_type": "code",
   "execution_count": 8,
   "metadata": {},
   "outputs": [
    {
     "name": "stdout",
     "output_type": "stream",
     "text": [
      "                        datetime  station id  start station latitude  \\\n",
      "674060  2018-01-25 08:33:09.4370      3472.0               40.742754   \n",
      "6387    2018-01-30 11:26:52.0600       127.0               40.731724   \n",
      "\n",
      "        start station longitude                              GeoLocation  \n",
      "674060               -74.007474  (40.74275382865903, -74.00747358798981)  \n",
      "6387                 -74.006744              (40.73172428, -74.00674436)  \n"
     ]
    }
   ],
   "source": [
    "merged_column = [(x, y) for x, y in zip(df['start station latitude'], df['start station longitude'])]\n",
    "\n",
    "df['GeoLocation'] = merged_column\n",
    "\n",
    "print(df.head(2))\n"
   ]
  },
  {
   "cell_type": "code",
   "execution_count": 9,
   "metadata": {},
   "outputs": [],
   "source": [
    "df.to_parquet('clean_start_data')"
   ]
  },
  {
   "cell_type": "code",
   "execution_count": 12,
   "metadata": {},
   "outputs": [],
   "source": [
    "end_column=['stoptime','end station id','end station latitude','end station longitude']\n",
    "df[end_column].to_parquet('end_data')"
   ]
  },
  {
   "cell_type": "code",
   "execution_count": 14,
   "metadata": {},
   "outputs": [],
   "source": [
    "df=pd.read_parquet('end_data')\n",
    "df=df.rename(columns={'stoptime':'datetime','end station id':'station id'})"
   ]
  },
  {
   "cell_type": "code",
   "execution_count": 15,
   "metadata": {},
   "outputs": [
    {
     "name": "stdout",
     "output_type": "stream",
     "text": [
      "                        datetime  station id  end station latitude  \\\n",
      "674060  2018-01-25 08:36:19.2520       482.0             40.739355   \n",
      "6387    2018-01-30 11:30:05.2500       346.0             40.736529   \n",
      "\n",
      "        end station longitude                  GeoLocation  \n",
      "674060             -73.999318  (40.73935542, -73.99931783)  \n",
      "6387               -74.006180  (40.73652889, -74.00618026)  \n"
     ]
    }
   ],
   "source": [
    "merged_column = [(x, y) for x, y in zip(df['end station latitude'], df['end station longitude'])]\n",
    "\n",
    "df['GeoLocation'] = merged_column\n",
    "\n",
    "print(df.head(2))\n"
   ]
  },
  {
   "cell_type": "code",
   "execution_count": 16,
   "metadata": {},
   "outputs": [],
   "source": [
    "df.to_parquet('clean_end_data')"
   ]
  },
  {
   "cell_type": "code",
   "execution_count": 2,
   "metadata": {},
   "outputs": [],
   "source": [
    "df1=pd.read_parquet('clean_start_data')\n",
    "df2=pd.read_parquet('clean_end_data')"
   ]
  },
  {
   "cell_type": "code",
   "execution_count": 3,
   "metadata": {},
   "outputs": [
    {
     "data": {
      "text/html": [
       "<div>\n",
       "<style scoped>\n",
       "    .dataframe tbody tr th:only-of-type {\n",
       "        vertical-align: middle;\n",
       "    }\n",
       "\n",
       "    .dataframe tbody tr th {\n",
       "        vertical-align: top;\n",
       "    }\n",
       "\n",
       "    .dataframe thead th {\n",
       "        text-align: right;\n",
       "    }\n",
       "</style>\n",
       "<table border=\"1\" class=\"dataframe\">\n",
       "  <thead>\n",
       "    <tr style=\"text-align: right;\">\n",
       "      <th></th>\n",
       "      <th>datetime</th>\n",
       "      <th>station id</th>\n",
       "      <th>GeoLocation</th>\n",
       "      <th>action</th>\n",
       "    </tr>\n",
       "  </thead>\n",
       "  <tbody>\n",
       "    <tr>\n",
       "      <th>674060</th>\n",
       "      <td>2018-01-25 08:33:09.4370</td>\n",
       "      <td>3472.0</td>\n",
       "      <td>[40.74275382865903, -74.00747358798981]</td>\n",
       "      <td>0</td>\n",
       "    </tr>\n",
       "    <tr>\n",
       "      <th>6387</th>\n",
       "      <td>2018-01-30 11:26:52.0600</td>\n",
       "      <td>127.0</td>\n",
       "      <td>[40.73172428, -74.00674436]</td>\n",
       "      <td>0</td>\n",
       "    </tr>\n",
       "  </tbody>\n",
       "</table>\n",
       "</div>"
      ],
      "text/plain": [
       "                        datetime  station id  \\\n",
       "674060  2018-01-25 08:33:09.4370      3472.0   \n",
       "6387    2018-01-30 11:26:52.0600       127.0   \n",
       "\n",
       "                                    GeoLocation  action  \n",
       "674060  [40.74275382865903, -74.00747358798981]       0  \n",
       "6387                [40.73172428, -74.00674436]       0  "
      ]
     },
     "execution_count": 3,
     "metadata": {},
     "output_type": "execute_result"
    }
   ],
   "source": [
    "df1=df1.drop(['start station latitude','start station longitude'],axis=1)\n",
    "df1['action']=0\n",
    "df1.head(2)"
   ]
  },
  {
   "cell_type": "code",
   "execution_count": 4,
   "metadata": {},
   "outputs": [
    {
     "data": {
      "text/html": [
       "<div>\n",
       "<style scoped>\n",
       "    .dataframe tbody tr th:only-of-type {\n",
       "        vertical-align: middle;\n",
       "    }\n",
       "\n",
       "    .dataframe tbody tr th {\n",
       "        vertical-align: top;\n",
       "    }\n",
       "\n",
       "    .dataframe thead th {\n",
       "        text-align: right;\n",
       "    }\n",
       "</style>\n",
       "<table border=\"1\" class=\"dataframe\">\n",
       "  <thead>\n",
       "    <tr style=\"text-align: right;\">\n",
       "      <th></th>\n",
       "      <th>datetime</th>\n",
       "      <th>station id</th>\n",
       "      <th>GeoLocation</th>\n",
       "      <th>action</th>\n",
       "    </tr>\n",
       "  </thead>\n",
       "  <tbody>\n",
       "    <tr>\n",
       "      <th>674060</th>\n",
       "      <td>2018-01-25 08:36:19.2520</td>\n",
       "      <td>482.0</td>\n",
       "      <td>[40.73935542, -73.99931783]</td>\n",
       "      <td>1</td>\n",
       "    </tr>\n",
       "    <tr>\n",
       "      <th>6387</th>\n",
       "      <td>2018-01-30 11:30:05.2500</td>\n",
       "      <td>346.0</td>\n",
       "      <td>[40.73652889, -74.00618026]</td>\n",
       "      <td>1</td>\n",
       "    </tr>\n",
       "  </tbody>\n",
       "</table>\n",
       "</div>"
      ],
      "text/plain": [
       "                        datetime  station id                  GeoLocation  \\\n",
       "674060  2018-01-25 08:36:19.2520       482.0  [40.73935542, -73.99931783]   \n",
       "6387    2018-01-30 11:30:05.2500       346.0  [40.73652889, -74.00618026]   \n",
       "\n",
       "        action  \n",
       "674060       1  \n",
       "6387         1  "
      ]
     },
     "execution_count": 4,
     "metadata": {},
     "output_type": "execute_result"
    }
   ],
   "source": [
    "df2=df2.drop(['end station latitude','end station longitude'],axis=1)\n",
    "df2['action']=1\n",
    "df2.head(2)"
   ]
  },
  {
   "cell_type": "code",
   "execution_count": 26,
   "metadata": {},
   "outputs": [
    {
     "data": {
      "text/plain": [
       "(8774166, 4)"
      ]
     },
     "execution_count": 26,
     "metadata": {},
     "output_type": "execute_result"
    }
   ],
   "source": [
    "df2.shape"
   ]
  },
  {
   "cell_type": "code",
   "execution_count": 5,
   "metadata": {},
   "outputs": [],
   "source": [
    "merged_data=pd.concat([df1,df2],axis=0)\n",
    "\n",
    "merged_data.to_parquet('bike_merged_data')"
   ]
  },
  {
   "cell_type": "code",
   "execution_count": 2,
   "metadata": {},
   "outputs": [],
   "source": [
    "df_merged_data=pd.read_parquet('bike_merged_data')\n"
   ]
  },
  {
   "cell_type": "code",
   "execution_count": 7,
   "metadata": {},
   "outputs": [
    {
     "data": {
      "text/html": [
       "<div>\n",
       "<style scoped>\n",
       "    .dataframe tbody tr th:only-of-type {\n",
       "        vertical-align: middle;\n",
       "    }\n",
       "\n",
       "    .dataframe tbody tr th {\n",
       "        vertical-align: top;\n",
       "    }\n",
       "\n",
       "    .dataframe thead th {\n",
       "        text-align: right;\n",
       "    }\n",
       "</style>\n",
       "<table border=\"1\" class=\"dataframe\">\n",
       "  <thead>\n",
       "    <tr style=\"text-align: right;\">\n",
       "      <th></th>\n",
       "      <th>datetime</th>\n",
       "      <th>station id</th>\n",
       "      <th>GeoLocation</th>\n",
       "      <th>action</th>\n",
       "    </tr>\n",
       "  </thead>\n",
       "  <tbody>\n",
       "    <tr>\n",
       "      <th>674060</th>\n",
       "      <td>2018-01-25 08:33:09.4370</td>\n",
       "      <td>3472.0</td>\n",
       "      <td>[40.74275382865903, -74.00747358798981]</td>\n",
       "      <td>0</td>\n",
       "    </tr>\n",
       "    <tr>\n",
       "      <th>6387</th>\n",
       "      <td>2018-01-30 11:26:52.0600</td>\n",
       "      <td>127.0</td>\n",
       "      <td>[40.73172428, -74.00674436]</td>\n",
       "      <td>0</td>\n",
       "    </tr>\n",
       "  </tbody>\n",
       "</table>\n",
       "</div>"
      ],
      "text/plain": [
       "                        datetime  station id  \\\n",
       "674060  2018-01-25 08:33:09.4370      3472.0   \n",
       "6387    2018-01-30 11:26:52.0600       127.0   \n",
       "\n",
       "                                    GeoLocation  action  \n",
       "674060  [40.74275382865903, -74.00747358798981]       0  \n",
       "6387                [40.73172428, -74.00674436]       0  "
      ]
     },
     "execution_count": 7,
     "metadata": {},
     "output_type": "execute_result"
    }
   ],
   "source": [
    "df_merged_data.head(2)"
   ]
  },
  {
   "cell_type": "code",
   "execution_count": 4,
   "metadata": {},
   "outputs": [],
   "source": [
    "df_merged_data['datetime']=pd.to_datetime(df_merged_data['datetime'])"
   ]
  },
  {
   "cell_type": "code",
   "execution_count": 5,
   "metadata": {},
   "outputs": [
    {
     "data": {
      "text/plain": [
       "datetime       datetime64[ns]\n",
       "station id            float64\n",
       "GeoLocation            object\n",
       "action                  int64\n",
       "dtype: object"
      ]
     },
     "execution_count": 5,
     "metadata": {},
     "output_type": "execute_result"
    }
   ],
   "source": [
    "df_merged_data.dtypes"
   ]
  },
  {
   "cell_type": "code",
   "execution_count": 6,
   "metadata": {},
   "outputs": [],
   "source": [
    "df_merged_data['datetime_rounded'] = df_merged_data['datetime'].dt.floor('15min')"
   ]
  },
  {
   "cell_type": "code",
   "execution_count": 7,
   "metadata": {},
   "outputs": [],
   "source": [
    "df_merged_data['interval'] = df_merged_data['datetime_rounded'].dt.strftime('%M')\n"
   ]
  },
  {
   "cell_type": "code",
   "execution_count": 8,
   "metadata": {},
   "outputs": [],
   "source": [
    "df_merged_data['interval'] = df_merged_data['interval'].replace('60', '00')"
   ]
  },
  {
   "cell_type": "code",
   "execution_count": 9,
   "metadata": {},
   "outputs": [
    {
     "data": {
      "text/html": [
       "<div>\n",
       "<style scoped>\n",
       "    .dataframe tbody tr th:only-of-type {\n",
       "        vertical-align: middle;\n",
       "    }\n",
       "\n",
       "    .dataframe tbody tr th {\n",
       "        vertical-align: top;\n",
       "    }\n",
       "\n",
       "    .dataframe thead th {\n",
       "        text-align: right;\n",
       "    }\n",
       "</style>\n",
       "<table border=\"1\" class=\"dataframe\">\n",
       "  <thead>\n",
       "    <tr style=\"text-align: right;\">\n",
       "      <th></th>\n",
       "      <th>datetime</th>\n",
       "      <th>station id</th>\n",
       "      <th>GeoLocation</th>\n",
       "      <th>action</th>\n",
       "      <th>datetime_rounded</th>\n",
       "      <th>interval</th>\n",
       "    </tr>\n",
       "  </thead>\n",
       "  <tbody>\n",
       "    <tr>\n",
       "      <th>674060</th>\n",
       "      <td>2018-01-25 08:33:09.437</td>\n",
       "      <td>3472.0</td>\n",
       "      <td>[40.74275382865903, -74.00747358798981]</td>\n",
       "      <td>0</td>\n",
       "      <td>2018-01-25 08:30:00</td>\n",
       "      <td>30</td>\n",
       "    </tr>\n",
       "    <tr>\n",
       "      <th>6387</th>\n",
       "      <td>2018-01-30 11:26:52.060</td>\n",
       "      <td>127.0</td>\n",
       "      <td>[40.73172428, -74.00674436]</td>\n",
       "      <td>0</td>\n",
       "      <td>2018-01-30 11:15:00</td>\n",
       "      <td>15</td>\n",
       "    </tr>\n",
       "    <tr>\n",
       "      <th>75008</th>\n",
       "      <td>2018-01-13 16:10:07.262</td>\n",
       "      <td>280.0</td>\n",
       "      <td>[40.73331967, -73.99510132]</td>\n",
       "      <td>0</td>\n",
       "      <td>2018-01-13 16:00:00</td>\n",
       "      <td>00</td>\n",
       "    </tr>\n",
       "    <tr>\n",
       "      <th>439913</th>\n",
       "      <td>2018-01-11 19:07:06.734</td>\n",
       "      <td>540.0</td>\n",
       "      <td>[40.74311555376486, -73.98215353488922]</td>\n",
       "      <td>0</td>\n",
       "      <td>2018-01-11 19:00:00</td>\n",
       "      <td>00</td>\n",
       "    </tr>\n",
       "    <tr>\n",
       "      <th>523068</th>\n",
       "      <td>2018-01-11 09:02:35.600</td>\n",
       "      <td>3159.0</td>\n",
       "      <td>[40.77492513, -73.98266566]</td>\n",
       "      <td>0</td>\n",
       "      <td>2018-01-11 09:00:00</td>\n",
       "      <td>00</td>\n",
       "    </tr>\n",
       "    <tr>\n",
       "      <th>109920</th>\n",
       "      <td>2018-01-05 16:03:56.810</td>\n",
       "      <td>310.0</td>\n",
       "      <td>[40.68926942, -73.98912867]</td>\n",
       "      <td>0</td>\n",
       "      <td>2018-01-05 16:00:00</td>\n",
       "      <td>00</td>\n",
       "    </tr>\n",
       "    <tr>\n",
       "      <th>471080</th>\n",
       "      <td>2018-01-03 21:41:24.760</td>\n",
       "      <td>3064.0</td>\n",
       "      <td>[40.69681963, -73.93756926]</td>\n",
       "      <td>0</td>\n",
       "      <td>2018-01-03 21:30:00</td>\n",
       "      <td>30</td>\n",
       "    </tr>\n",
       "    <tr>\n",
       "      <th>425593</th>\n",
       "      <td>2018-01-10 11:06:20.837</td>\n",
       "      <td>530.0</td>\n",
       "      <td>[40.771522, -73.990541]</td>\n",
       "      <td>0</td>\n",
       "      <td>2018-01-10 11:00:00</td>\n",
       "      <td>00</td>\n",
       "    </tr>\n",
       "    <tr>\n",
       "      <th>641105</th>\n",
       "      <td>2018-01-15 02:39:31.385</td>\n",
       "      <td>3417.0</td>\n",
       "      <td>[40.6795766, -73.97854971]</td>\n",
       "      <td>0</td>\n",
       "      <td>2018-01-15 02:30:00</td>\n",
       "      <td>30</td>\n",
       "    </tr>\n",
       "    <tr>\n",
       "      <th>70876</th>\n",
       "      <td>2018-01-22 17:16:52.227</td>\n",
       "      <td>270.0</td>\n",
       "      <td>[40.69308257, -73.97178913]</td>\n",
       "      <td>0</td>\n",
       "      <td>2018-01-22 17:15:00</td>\n",
       "      <td>15</td>\n",
       "    </tr>\n",
       "  </tbody>\n",
       "</table>\n",
       "</div>"
      ],
      "text/plain": [
       "                      datetime  station id  \\\n",
       "674060 2018-01-25 08:33:09.437      3472.0   \n",
       "6387   2018-01-30 11:26:52.060       127.0   \n",
       "75008  2018-01-13 16:10:07.262       280.0   \n",
       "439913 2018-01-11 19:07:06.734       540.0   \n",
       "523068 2018-01-11 09:02:35.600      3159.0   \n",
       "109920 2018-01-05 16:03:56.810       310.0   \n",
       "471080 2018-01-03 21:41:24.760      3064.0   \n",
       "425593 2018-01-10 11:06:20.837       530.0   \n",
       "641105 2018-01-15 02:39:31.385      3417.0   \n",
       "70876  2018-01-22 17:16:52.227       270.0   \n",
       "\n",
       "                                    GeoLocation  action    datetime_rounded  \\\n",
       "674060  [40.74275382865903, -74.00747358798981]       0 2018-01-25 08:30:00   \n",
       "6387                [40.73172428, -74.00674436]       0 2018-01-30 11:15:00   \n",
       "75008               [40.73331967, -73.99510132]       0 2018-01-13 16:00:00   \n",
       "439913  [40.74311555376486, -73.98215353488922]       0 2018-01-11 19:00:00   \n",
       "523068              [40.77492513, -73.98266566]       0 2018-01-11 09:00:00   \n",
       "109920              [40.68926942, -73.98912867]       0 2018-01-05 16:00:00   \n",
       "471080              [40.69681963, -73.93756926]       0 2018-01-03 21:30:00   \n",
       "425593                  [40.771522, -73.990541]       0 2018-01-10 11:00:00   \n",
       "641105               [40.6795766, -73.97854971]       0 2018-01-15 02:30:00   \n",
       "70876               [40.69308257, -73.97178913]       0 2018-01-22 17:15:00   \n",
       "\n",
       "       interval  \n",
       "674060       30  \n",
       "6387         15  \n",
       "75008        00  \n",
       "439913       00  \n",
       "523068       00  \n",
       "109920       00  \n",
       "471080       30  \n",
       "425593       00  \n",
       "641105       30  \n",
       "70876        15  "
      ]
     },
     "execution_count": 9,
     "metadata": {},
     "output_type": "execute_result"
    }
   ],
   "source": [
    "df_merged_data.head(10)"
   ]
  },
  {
   "cell_type": "code",
   "execution_count": 10,
   "metadata": {},
   "outputs": [],
   "source": [
    "select_column=['datetime_rounded','action','GeoLocation','station id']\n",
    "df_merged_data[select_column].to_parquet('bike_merged_data')"
   ]
  },
  {
   "cell_type": "code",
   "execution_count": 2,
   "metadata": {},
   "outputs": [],
   "source": [
    "df=pd.read_parquet('bike_merged_data')"
   ]
  },
  {
   "cell_type": "code",
   "execution_count": 4,
   "metadata": {},
   "outputs": [
    {
     "name": "stdout",
     "output_type": "stream",
     "text": [
      "datetime_rounded    839\n",
      "action              839\n",
      "GeoLocation         839\n",
      "station id          838\n",
      "dtype: int64\n"
     ]
    }
   ],
   "source": [
    "unique_rows = df.drop_duplicates(subset=['station id'])\n",
    "print(unique_rows.count())\n"
   ]
  },
  {
   "cell_type": "code",
   "execution_count": 5,
   "metadata": {},
   "outputs": [
    {
     "name": "stdout",
     "output_type": "stream",
     "text": [
      "                                    GeoLocation  station id\n",
      "674060  [40.74275382865903, -74.00747358798981]      3472.0\n",
      "6387                [40.73172428, -74.00674436]       127.0\n"
     ]
    }
   ],
   "source": [
    "selected_columns = ['GeoLocation', 'station id']  # 自定义需要保留的列名\n",
    "filtered_rows = unique_rows.loc[:, selected_columns]\n",
    "\n",
    "print(filtered_rows.head(2))\n"
   ]
  },
  {
   "cell_type": "code",
   "execution_count": 7,
   "metadata": {},
   "outputs": [],
   "source": [
    "filtered_rows.to_csv('stationID_geoloaction.csv')"
   ]
  }
 ],
 "metadata": {
  "kernelspec": {
   "display_name": "Python 3 (ipykernel)",
   "language": "python",
   "name": "python3"
  },
  "language_info": {
   "codemirror_mode": {
    "name": "ipython",
    "version": 3
   },
   "file_extension": ".py",
   "mimetype": "text/x-python",
   "name": "python",
   "nbconvert_exporter": "python",
   "pygments_lexer": "ipython3",
   "version": "3.9.16"
  },
  "orig_nbformat": 4
 },
 "nbformat": 4,
 "nbformat_minor": 2
}

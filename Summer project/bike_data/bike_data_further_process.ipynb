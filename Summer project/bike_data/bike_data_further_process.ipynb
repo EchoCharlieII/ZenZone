{
 "cells": [
  {
   "cell_type": "code",
   "execution_count": 1,
   "metadata": {},
   "outputs": [],
   "source": [
    "import pandas as pd\n",
    "import pyarrow as pa\n",
    "import pyarrow.parquet as pq\n",
    "from pandas import read_parquet"
   ]
  },
  {
   "cell_type": "code",
   "execution_count": 2,
   "metadata": {},
   "outputs": [],
   "source": [
    "df=pd.read_parquet('bike_merged_data')"
   ]
  },
  {
   "cell_type": "code",
   "execution_count": 4,
   "metadata": {},
   "outputs": [],
   "source": [
    "value_counts=df['station id'].value_counts()"
   ]
  },
  {
   "cell_type": "code",
   "execution_count": 6,
   "metadata": {},
   "outputs": [
    {
     "name": "stdout",
     "output_type": "stream",
     "text": [
      "519.0    150412\n",
      "497.0    111142\n",
      "435.0    107806\n",
      "402.0    107320\n",
      "Name: station id, dtype: int64\n"
     ]
    }
   ],
   "source": [
    "filtered_value_counts = value_counts[value_counts > 100000]\n",
    "count = len(filtered_value_counts)\n",
    "print(filtered_value_counts)\n"
   ]
  },
  {
   "cell_type": "code",
   "execution_count": 35,
   "metadata": {},
   "outputs": [
    {
     "name": "stdout",
     "output_type": "stream",
     "text": [
      "426.0     97434\n",
      "285.0     93670\n",
      "477.0     87973\n",
      "490.0     85945\n",
      "514.0     84682\n",
      "          ...  \n",
      "3165.0    50995\n",
      "438.0     50506\n",
      "3443.0    50358\n",
      "537.0     50337\n",
      "403.0     50318\n",
      "Name: station id, Length: 82, dtype: int64\n",
      "82\n"
     ]
    }
   ],
   "source": [
    "filter_data_1=value_counts[(value_counts <100000)&(50000<value_counts)]\n",
    "print(filter_data_1)\n",
    "print(len(filter_data_1))"
   ]
  },
  {
   "cell_type": "code",
   "execution_count": 38,
   "metadata": {},
   "outputs": [
    {
     "name": "stdout",
     "output_type": "stream",
     "text": [
      "2008.0    49653\n",
      "461.0     49536\n",
      "380.0     49095\n",
      "531.0     49085\n",
      "383.0     48585\n",
      "          ...  \n",
      "441.0     30510\n",
      "2000.0    30377\n",
      "3431.0    30292\n",
      "3112.0    30138\n",
      "3459.0    30053\n",
      "Name: station id, Length: 131, dtype: int64\n",
      "131\n"
     ]
    }
   ],
   "source": [
    "filter_data_2=value_counts[(value_counts <50000)&(30000<value_counts)]\n",
    "print(filter_data_2)\n",
    "print(len(filter_data_2))"
   ]
  },
  {
   "cell_type": "code",
   "execution_count": 40,
   "metadata": {},
   "outputs": [
    {
     "name": "stdout",
     "output_type": "stream",
     "text": [
      "164.0     29834\n",
      "455.0     29445\n",
      "513.0     29382\n",
      "146.0     29307\n",
      "150.0     29238\n",
      "          ...  \n",
      "3110.0    20389\n",
      "411.0     20313\n",
      "340.0     20312\n",
      "3285.0    20171\n",
      "349.0     20060\n",
      "Name: station id, Length: 99, dtype: int64\n",
      "99\n"
     ]
    }
   ],
   "source": [
    "filter_data_3=value_counts[(value_counts <30000)&(20000<value_counts)]\n",
    "print(filter_data_3)\n",
    "print(len(filter_data_3))"
   ]
  },
  {
   "cell_type": "code",
   "execution_count": 44,
   "metadata": {},
   "outputs": [
    {
     "name": "stdout",
     "output_type": "stream",
     "text": [
      "414.0     19957\n",
      "157.0     19808\n",
      "342.0     19674\n",
      "3350.0    19662\n",
      "2023.0    19536\n",
      "          ...  \n",
      "3361.0    12419\n",
      "242.0     12203\n",
      "248.0     12090\n",
      "3294.0    12062\n",
      "3341.0    12024\n",
      "Name: station id, Length: 131, dtype: int64\n",
      "131\n"
     ]
    }
   ],
   "source": [
    "filter_data_4=value_counts[(value_counts <20000)&(12000<value_counts)]\n",
    "print(filter_data_4)\n",
    "print(len(filter_data_4))"
   ]
  },
  {
   "cell_type": "code",
   "execution_count": 53,
   "metadata": {},
   "outputs": [
    {
     "name": "stdout",
     "output_type": "stream",
     "text": [
      "3117.0    11979\n",
      "3701.0    11923\n",
      "3398.0    11909\n",
      "353.0     11867\n",
      "493.0     11854\n",
      "          ...  \n",
      "3583.0     8251\n",
      "3569.0     8214\n",
      "3613.0     8159\n",
      "3509.0     8145\n",
      "3628.0     8110\n",
      "Name: station id, Length: 109, dtype: int64\n",
      "109\n"
     ]
    }
   ],
   "source": [
    "filter_data_5=value_counts[(value_counts <12000)&(8000<value_counts)]\n",
    "print(filter_data_5)\n",
    "print(len(filter_data_5))"
   ]
  },
  {
   "cell_type": "code",
   "execution_count": 57,
   "metadata": {},
   "outputs": [
    {
     "name": "stdout",
     "output_type": "stream",
     "text": [
      "3574.0    7991\n",
      "419.0     7893\n",
      "3254.0    7892\n",
      "3344.0    7855\n",
      "3182.0    7844\n",
      "          ... \n",
      "3504.0    5143\n",
      "3617.0    5121\n",
      "3060.0    5081\n",
      "3618.0    5042\n",
      "3616.0    5031\n",
      "Name: station id, Length: 113, dtype: int64\n",
      "113\n"
     ]
    }
   ],
   "source": [
    "filter_data_10=value_counts[(value_counts <8000)&(5000<value_counts)]\n",
    "print(filter_data_10)\n",
    "print(len(filter_data_10))"
   ]
  },
  {
   "cell_type": "code",
   "execution_count": 58,
   "metadata": {},
   "outputs": [
    {
     "name": "stdout",
     "output_type": "stream",
     "text": [
      "3493.0    4998\n",
      "3046.0    4976\n",
      "3070.0    4970\n",
      "3322.0    4952\n",
      "3619.0    4930\n",
      "          ... \n",
      "3567.0    1174\n",
      "3325.0    1151\n",
      "3620.0    1133\n",
      "3333.0    1125\n",
      "3512.0    1100\n",
      "Name: station id, Length: 123, dtype: int64\n",
      "123\n"
     ]
    }
   ],
   "source": [
    "filter_data_6=value_counts[(value_counts <5000)&(1000<value_counts)]\n",
    "print(filter_data_6)\n",
    "print(len(filter_data_6))"
   ]
  },
  {
   "cell_type": "code",
   "execution_count": 51,
   "metadata": {},
   "outputs": [
    {
     "name": "stdout",
     "output_type": "stream",
     "text": [
      "3238.0    703\n",
      "3714.0    521\n",
      "3245.0    417\n",
      "3468.0    379\n",
      "3642.0    287\n",
      "3704.0    207\n",
      "3239.0    164\n",
      "3395.0    163\n",
      "Name: station id, dtype: int64\n",
      "8\n"
     ]
    }
   ],
   "source": [
    "filter_data_7=value_counts[(value_counts <1000)&(100<value_counts)]\n",
    "print(filter_data_7)\n",
    "print(len(filter_data_7))"
   ]
  },
  {
   "cell_type": "code",
   "execution_count": 52,
   "metadata": {},
   "outputs": [
    {
     "name": "stdout",
     "output_type": "stream",
     "text": [
      "3683.0    93\n",
      "3240.0    80\n",
      "3650.0    80\n",
      "3685.0    75\n",
      "3716.0    63\n",
      "3485.0    49\n",
      "3487.0    15\n",
      "3040.0    11\n",
      "Name: station id, dtype: int64\n",
      "8\n"
     ]
    }
   ],
   "source": [
    "filter_data_8=value_counts[(value_counts <100)&(10<value_counts)]\n",
    "print(filter_data_8)\n",
    "print(len(filter_data_8))"
   ]
  },
  {
   "cell_type": "code",
   "execution_count": 34,
   "metadata": {},
   "outputs": [
    {
     "name": "stdout",
     "output_type": "stream",
     "text": [
      "3192.0    8\n",
      "3184.0    7\n",
      "3594.0    6\n",
      "3183.0    6\n",
      "3672.0    6\n",
      "3276.0    6\n",
      "3199.0    5\n",
      "3639.0    4\n",
      "3267.0    4\n",
      "3191.0    3\n",
      "3198.0    3\n",
      "3036.0    3\n",
      "3186.0    3\n",
      "3250.0    3\n",
      "3488.0    3\n",
      "3213.0    2\n",
      "3652.0    2\n",
      "3638.0    2\n",
      "428.0     2\n",
      "3645.0    1\n",
      "3203.0    1\n",
      "3651.0    1\n",
      "3268.0    1\n",
      "3481.0    1\n",
      "3681.0    1\n",
      "3196.0    1\n",
      "3426.0    1\n",
      "3187.0    1\n",
      "3279.0    1\n",
      "Name: station id, dtype: int64\n",
      "29\n"
     ]
    }
   ],
   "source": [
    "filter_data_9=value_counts[(value_counts <10)]\n",
    "print(filter_data_9)\n",
    "print(len(filter_data_9))"
   ]
  }
 ],
 "metadata": {
  "kernelspec": {
   "display_name": "Python 3 (ipykernel)",
   "language": "python",
   "name": "python3"
  },
  "language_info": {
   "codemirror_mode": {
    "name": "ipython",
    "version": 3
   },
   "file_extension": ".py",
   "mimetype": "text/x-python",
   "name": "python",
   "nbconvert_exporter": "python",
   "pygments_lexer": "ipython3",
   "version": "3.9.16"
  },
  "orig_nbformat": 4
 },
 "nbformat": 4,
 "nbformat_minor": 2
}

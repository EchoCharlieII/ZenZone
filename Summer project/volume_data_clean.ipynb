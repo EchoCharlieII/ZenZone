{
 "cells": [
  {
   "cell_type": "code",
   "execution_count": 3,
   "metadata": {},
   "outputs": [],
   "source": [
    "import pandas as pd\n",
    "import pyarrow as pa\n",
    "import pyarrow.parquet as pq\n",
    "from pandas import read_parquet"
   ]
  },
  {
   "cell_type": "code",
   "execution_count": 4,
   "metadata": {},
   "outputs": [],
   "source": [
    "df=pd.read_csv('Automated_Traffic_Volume_Counts.csv')\n"
   ]
  },
  {
   "cell_type": "code",
   "execution_count": 5,
   "metadata": {},
   "outputs": [
    {
     "data": {
      "text/html": [
       "<div>\n",
       "<style scoped>\n",
       "    .dataframe tbody tr th:only-of-type {\n",
       "        vertical-align: middle;\n",
       "    }\n",
       "\n",
       "    .dataframe tbody tr th {\n",
       "        vertical-align: top;\n",
       "    }\n",
       "\n",
       "    .dataframe thead th {\n",
       "        text-align: right;\n",
       "    }\n",
       "</style>\n",
       "<table border=\"1\" class=\"dataframe\">\n",
       "  <thead>\n",
       "    <tr style=\"text-align: right;\">\n",
       "      <th></th>\n",
       "      <th>RequestID</th>\n",
       "      <th>Boro</th>\n",
       "      <th>Yr</th>\n",
       "      <th>M</th>\n",
       "      <th>D</th>\n",
       "      <th>HH</th>\n",
       "      <th>MM</th>\n",
       "      <th>Vol</th>\n",
       "      <th>SegmentID</th>\n",
       "      <th>WktGeom</th>\n",
       "      <th>street</th>\n",
       "      <th>fromSt</th>\n",
       "      <th>toSt</th>\n",
       "      <th>Direction</th>\n",
       "    </tr>\n",
       "  </thead>\n",
       "  <tbody>\n",
       "    <tr>\n",
       "      <th>0</th>\n",
       "      <td>26511</td>\n",
       "      <td>Manhattan</td>\n",
       "      <td>2018</td>\n",
       "      <td>3</td>\n",
       "      <td>3</td>\n",
       "      <td>0</td>\n",
       "      <td>0</td>\n",
       "      <td>5</td>\n",
       "      <td>70896</td>\n",
       "      <td>POINT (1001087.029976143 245331.74467825014)</td>\n",
       "      <td>WEST 167 STREET</td>\n",
       "      <td>Audubon Avenue</td>\n",
       "      <td>8 Avenue Line</td>\n",
       "      <td>WB</td>\n",
       "    </tr>\n",
       "    <tr>\n",
       "      <th>1</th>\n",
       "      <td>26511</td>\n",
       "      <td>Manhattan</td>\n",
       "      <td>2018</td>\n",
       "      <td>3</td>\n",
       "      <td>3</td>\n",
       "      <td>0</td>\n",
       "      <td>15</td>\n",
       "      <td>5</td>\n",
       "      <td>70896</td>\n",
       "      <td>POINT (1001087.029976143 245331.74467825014)</td>\n",
       "      <td>WEST 167 STREET</td>\n",
       "      <td>Audubon Avenue</td>\n",
       "      <td>8 Avenue Line</td>\n",
       "      <td>WB</td>\n",
       "    </tr>\n",
       "    <tr>\n",
       "      <th>2</th>\n",
       "      <td>26511</td>\n",
       "      <td>Manhattan</td>\n",
       "      <td>2018</td>\n",
       "      <td>3</td>\n",
       "      <td>3</td>\n",
       "      <td>0</td>\n",
       "      <td>30</td>\n",
       "      <td>6</td>\n",
       "      <td>70896</td>\n",
       "      <td>POINT (1001087.029976143 245331.74467825014)</td>\n",
       "      <td>WEST 167 STREET</td>\n",
       "      <td>Audubon Avenue</td>\n",
       "      <td>8 Avenue Line</td>\n",
       "      <td>WB</td>\n",
       "    </tr>\n",
       "    <tr>\n",
       "      <th>3</th>\n",
       "      <td>26511</td>\n",
       "      <td>Manhattan</td>\n",
       "      <td>2018</td>\n",
       "      <td>3</td>\n",
       "      <td>3</td>\n",
       "      <td>0</td>\n",
       "      <td>45</td>\n",
       "      <td>10</td>\n",
       "      <td>70896</td>\n",
       "      <td>POINT (1001087.029976143 245331.74467825014)</td>\n",
       "      <td>WEST 167 STREET</td>\n",
       "      <td>Audubon Avenue</td>\n",
       "      <td>8 Avenue Line</td>\n",
       "      <td>WB</td>\n",
       "    </tr>\n",
       "    <tr>\n",
       "      <th>4</th>\n",
       "      <td>26511</td>\n",
       "      <td>Manhattan</td>\n",
       "      <td>2018</td>\n",
       "      <td>3</td>\n",
       "      <td>3</td>\n",
       "      <td>1</td>\n",
       "      <td>0</td>\n",
       "      <td>2</td>\n",
       "      <td>70896</td>\n",
       "      <td>POINT (1001087.029976143 245331.74467825014)</td>\n",
       "      <td>WEST 167 STREET</td>\n",
       "      <td>Audubon Avenue</td>\n",
       "      <td>8 Avenue Line</td>\n",
       "      <td>WB</td>\n",
       "    </tr>\n",
       "  </tbody>\n",
       "</table>\n",
       "</div>"
      ],
      "text/plain": [
       "   RequestID       Boro    Yr  M  D  HH  MM  Vol  SegmentID  \\\n",
       "0      26511  Manhattan  2018  3  3   0   0    5      70896   \n",
       "1      26511  Manhattan  2018  3  3   0  15    5      70896   \n",
       "2      26511  Manhattan  2018  3  3   0  30    6      70896   \n",
       "3      26511  Manhattan  2018  3  3   0  45   10      70896   \n",
       "4      26511  Manhattan  2018  3  3   1   0    2      70896   \n",
       "\n",
       "                                        WktGeom           street  \\\n",
       "0  POINT (1001087.029976143 245331.74467825014)  WEST 167 STREET   \n",
       "1  POINT (1001087.029976143 245331.74467825014)  WEST 167 STREET   \n",
       "2  POINT (1001087.029976143 245331.74467825014)  WEST 167 STREET   \n",
       "3  POINT (1001087.029976143 245331.74467825014)  WEST 167 STREET   \n",
       "4  POINT (1001087.029976143 245331.74467825014)  WEST 167 STREET   \n",
       "\n",
       "           fromSt           toSt Direction  \n",
       "0  Audubon Avenue  8 Avenue Line        WB  \n",
       "1  Audubon Avenue  8 Avenue Line        WB  \n",
       "2  Audubon Avenue  8 Avenue Line        WB  \n",
       "3  Audubon Avenue  8 Avenue Line        WB  \n",
       "4  Audubon Avenue  8 Avenue Line        WB  "
      ]
     },
     "execution_count": 5,
     "metadata": {},
     "output_type": "execute_result"
    }
   ],
   "source": [
    "df.head(5)"
   ]
  },
  {
   "cell_type": "code",
   "execution_count": 14,
   "metadata": {},
   "outputs": [
    {
     "name": "stdout",
     "output_type": "stream",
     "text": [
      "371\n"
     ]
    }
   ],
   "source": [
    "unique_column=df['SegmentID'].nunique()\n",
    "print(unique_column)"
   ]
  },
  {
   "cell_type": "code",
   "execution_count": 6,
   "metadata": {},
   "outputs": [],
   "source": [
    "select_column=['Yr','M','D','HH','MM','Vol','SegmentID','Direction']\n",
    "df[select_column].to_parquet('volume_data')"
   ]
  },
  {
   "cell_type": "code",
   "execution_count": 11,
   "metadata": {},
   "outputs": [
    {
     "name": "stdout",
     "output_type": "stream",
     "text": [
      "0   2018-03-03 00:00:00\n",
      "1   2018-03-03 00:15:00\n",
      "Name: datetime, dtype: datetime64[ns]\n"
     ]
    }
   ],
   "source": [
    "df=pd.read_parquet('volume_data')\n",
    "\n",
    "datetime_format = \"%d %m %Y %H %M\"\n",
    "\n",
    "\n",
    "df['datetime'] = pd.to_datetime(df[['D', 'M', 'Yr', 'HH', 'MM']].astype(str).apply(' '.join, axis=1), format=datetime_format)\n",
    "\n",
    "\n",
    "print(df['datetime'].head(2))\n"
   ]
  },
  {
   "cell_type": "code",
   "execution_count": 13,
   "metadata": {},
   "outputs": [],
   "source": [
    "drop_column=['D', 'M', 'Yr', 'HH', 'MM']\n",
    "df=df.drop(drop_column,axis=1)\n",
    "df.to_parquet('volume_data')"
   ]
  },
  {
   "cell_type": "code",
   "execution_count": 189,
   "metadata": {},
   "outputs": [
    {
     "data": {
      "text/html": [
       "<div>\n",
       "<style scoped>\n",
       "    .dataframe tbody tr th:only-of-type {\n",
       "        vertical-align: middle;\n",
       "    }\n",
       "\n",
       "    .dataframe tbody tr th {\n",
       "        vertical-align: top;\n",
       "    }\n",
       "\n",
       "    .dataframe thead th {\n",
       "        text-align: right;\n",
       "    }\n",
       "</style>\n",
       "<table border=\"1\" class=\"dataframe\">\n",
       "  <thead>\n",
       "    <tr style=\"text-align: right;\">\n",
       "      <th></th>\n",
       "      <th>Vol</th>\n",
       "      <th>SegmentID</th>\n",
       "      <th>Direction</th>\n",
       "      <th>datetime</th>\n",
       "    </tr>\n",
       "  </thead>\n",
       "  <tbody>\n",
       "    <tr>\n",
       "      <th>0</th>\n",
       "      <td>5</td>\n",
       "      <td>70896</td>\n",
       "      <td>WB</td>\n",
       "      <td>2018-03-03 00:00:00</td>\n",
       "    </tr>\n",
       "    <tr>\n",
       "      <th>1</th>\n",
       "      <td>5</td>\n",
       "      <td>70896</td>\n",
       "      <td>WB</td>\n",
       "      <td>2018-03-03 00:15:00</td>\n",
       "    </tr>\n",
       "    <tr>\n",
       "      <th>2</th>\n",
       "      <td>6</td>\n",
       "      <td>70896</td>\n",
       "      <td>WB</td>\n",
       "      <td>2018-03-03 00:30:00</td>\n",
       "    </tr>\n",
       "    <tr>\n",
       "      <th>3</th>\n",
       "      <td>10</td>\n",
       "      <td>70896</td>\n",
       "      <td>WB</td>\n",
       "      <td>2018-03-03 00:45:00</td>\n",
       "    </tr>\n",
       "    <tr>\n",
       "      <th>4</th>\n",
       "      <td>2</td>\n",
       "      <td>70896</td>\n",
       "      <td>WB</td>\n",
       "      <td>2018-03-03 01:00:00</td>\n",
       "    </tr>\n",
       "  </tbody>\n",
       "</table>\n",
       "</div>"
      ],
      "text/plain": [
       "   Vol  SegmentID Direction            datetime\n",
       "0    5      70896        WB 2018-03-03 00:00:00\n",
       "1    5      70896        WB 2018-03-03 00:15:00\n",
       "2    6      70896        WB 2018-03-03 00:30:00\n",
       "3   10      70896        WB 2018-03-03 00:45:00\n",
       "4    2      70896        WB 2018-03-03 01:00:00"
      ]
     },
     "execution_count": 189,
     "metadata": {},
     "output_type": "execute_result"
    }
   ],
   "source": [
    "df=pd.read_parquet('volume_data')\n",
    "df.head(5)"
   ]
  },
  {
   "cell_type": "code",
   "execution_count": 15,
   "metadata": {},
   "outputs": [
    {
     "name": "stdout",
     "output_type": "stream",
     "text": [
      "Vol          0\n",
      "SegmentID    0\n",
      "Direction    0\n",
      "datetime     0\n",
      "dtype: int64\n"
     ]
    }
   ],
   "source": [
    "null_values = df.isnull().sum()\n",
    "print(null_values)"
   ]
  },
  {
   "cell_type": "code",
   "execution_count": 191,
   "metadata": {},
   "outputs": [
    {
     "data": {
      "text/plain": [
       "(497668, 4)"
      ]
     },
     "execution_count": 191,
     "metadata": {},
     "output_type": "execute_result"
    }
   ],
   "source": [
    "df.shape"
   ]
  },
  {
   "cell_type": "code",
   "execution_count": 24,
   "metadata": {},
   "outputs": [
    {
     "name": "stdout",
     "output_type": "stream",
     "text": [
      "        SegmentID                                       WktGeom\n",
      "0           70896  POINT (1001087.029976143 245331.74467825014)\n",
      "1248        33615   POINT (985031.393485933 217039.22504542628)\n",
      "1249        33411  POINT (982877.3474610402 213144.49845334244)\n",
      "1250        33968    POINT (987795.1707192899 216449.397035686)\n",
      "1251        33850  POINT (986902.8082711459 216696.10890837928)\n",
      "...           ...                                           ...\n",
      "483948      38363    POINT (995544.6304203826 233563.592012279)\n",
      "483949      38802   POINT (998686.8133056197 239356.0580135274)\n",
      "483950      38689    POINT (997828.5077050285 238642.142675619)\n",
      "496038     146126  POINT (993050.8054429016 212926.56866003707)\n",
      "497483     194467  POINT (992165.1300347954 210393.60518822112)\n",
      "\n",
      "[371 rows x 2 columns]\n"
     ]
    }
   ],
   "source": [
    "unique_rows = df.drop_duplicates(subset='SegmentID', keep='first')\n",
    "# print(unique_rows.count())\n",
    "\n",
    "select_column=['SegmentID','WktGeom']\n",
    "print(unique_rows[select_column])"
   ]
  },
  {
   "cell_type": "code",
   "execution_count": 28,
   "metadata": {},
   "outputs": [
    {
     "name": "stdout",
     "output_type": "stream",
     "text": [
      "0          (40.84003811194584, -73.93915023590672)\n",
      "1248        (40.762398908462565, -73.997179301792)\n",
      "1249       (40.75170880559713, -74.00495424814217)\n",
      "1250      (40.760779305883766, -73.98720284497887)\n",
      "1251      (40.761456779413706, -73.99042394665165)\n",
      "                            ...                   \n",
      "483948     (40.80774670346572, -73.95920051630279)\n",
      "483949     (40.82364082223198, -73.94783758212786)\n",
      "483950    (40.821682688209705, -73.95094021573594)\n",
      "496038     (40.75110637030952, -73.96823596692832)\n",
      "497483     (40.74415485986301, -73.97143554419223)\n",
      "Name: Coordinates, Length: 371, dtype: object\n"
     ]
    },
    {
     "name": "stderr",
     "output_type": "stream",
     "text": [
      "C:\\Users\\xuhuian\\AppData\\Local\\Temp\\ipykernel_6076\\525333213.py:31: SettingWithCopyWarning: \n",
      "A value is trying to be set on a copy of a slice from a DataFrame.\n",
      "Try using .loc[row_indexer,col_indexer] = value instead\n",
      "\n",
      "See the caveats in the documentation: https://pandas.pydata.org/pandas-docs/stable/user_guide/indexing.html#returning-a-view-versus-a-copy\n",
      "  unique_rows['Coordinates'] = coordinates\n"
     ]
    }
   ],
   "source": [
    "from shapely.wkt import loads\n",
    "from pyproj import CRS, Transformer\n",
    "\n",
    "# 定义源坐标系（EPSG 代码或 Proj4 字符串）\n",
    "source_crs = CRS('EPSG:2263')  # 示例：NAD83 / New York Long Island (ftUS)\n",
    "\n",
    "# 定义目标坐标系（EPSG 代码或 Proj4 字符串）\n",
    "target_crs = CRS('EPSG:4326')  # 示例：WGS84 经纬度坐标系\n",
    "\n",
    "# 创建坐标转换器\n",
    "transformer = Transformer.from_crs(source_crs, target_crs, always_xy=True)\n",
    "\n",
    "# 创建空的数组来存储转换后的坐标\n",
    "coordinates = []\n",
    "\n",
    "# 遍历 unique_rows 中的每个几何数据\n",
    "for geom_str in unique_rows['WktGeom']:\n",
    "    # 从 WKT 格式加载几何对象\n",
    "    geom = loads(geom_str)\n",
    "\n",
    "    # 提取点的坐标\n",
    "    x, y = geom.x, geom.y\n",
    "\n",
    "    # 进行坐标转换\n",
    "    lon, lat = transformer.transform(x, y)\n",
    "\n",
    "    # 将转换后的坐标作为元组添加到数组中\n",
    "    coordinates.append((lat, lon))\n",
    "\n",
    "# 将转换后的坐标数组赋值给 unique_rows 的新列 Coordinates\n",
    "unique_rows['Coordinates'] = coordinates\n",
    "\n",
    "# 打印包含转换后坐标的 unique_rows\n",
    "print(unique_rows['Coordinates'])\n"
   ]
  },
  {
   "cell_type": "code",
   "execution_count": 29,
   "metadata": {},
   "outputs": [
    {
     "data": {
      "text/html": [
       "<div>\n",
       "<style scoped>\n",
       "    .dataframe tbody tr th:only-of-type {\n",
       "        vertical-align: middle;\n",
       "    }\n",
       "\n",
       "    .dataframe tbody tr th {\n",
       "        vertical-align: top;\n",
       "    }\n",
       "\n",
       "    .dataframe thead th {\n",
       "        text-align: right;\n",
       "    }\n",
       "</style>\n",
       "<table border=\"1\" class=\"dataframe\">\n",
       "  <thead>\n",
       "    <tr style=\"text-align: right;\">\n",
       "      <th></th>\n",
       "      <th>RequestID</th>\n",
       "      <th>Boro</th>\n",
       "      <th>Yr</th>\n",
       "      <th>M</th>\n",
       "      <th>D</th>\n",
       "      <th>HH</th>\n",
       "      <th>MM</th>\n",
       "      <th>Vol</th>\n",
       "      <th>SegmentID</th>\n",
       "      <th>WktGeom</th>\n",
       "      <th>street</th>\n",
       "      <th>fromSt</th>\n",
       "      <th>toSt</th>\n",
       "      <th>Direction</th>\n",
       "      <th>Coordinates</th>\n",
       "    </tr>\n",
       "  </thead>\n",
       "  <tbody>\n",
       "    <tr>\n",
       "      <th>0</th>\n",
       "      <td>26511</td>\n",
       "      <td>Manhattan</td>\n",
       "      <td>2018</td>\n",
       "      <td>3</td>\n",
       "      <td>3</td>\n",
       "      <td>0</td>\n",
       "      <td>0</td>\n",
       "      <td>5</td>\n",
       "      <td>70896</td>\n",
       "      <td>POINT (1001087.029976143 245331.74467825014)</td>\n",
       "      <td>WEST 167 STREET</td>\n",
       "      <td>Audubon Avenue</td>\n",
       "      <td>8 Avenue Line</td>\n",
       "      <td>WB</td>\n",
       "      <td>(40.84003811194584, -73.93915023590672)</td>\n",
       "    </tr>\n",
       "    <tr>\n",
       "      <th>1248</th>\n",
       "      <td>26515</td>\n",
       "      <td>Manhattan</td>\n",
       "      <td>2018</td>\n",
       "      <td>3</td>\n",
       "      <td>3</td>\n",
       "      <td>0</td>\n",
       "      <td>0</td>\n",
       "      <td>4</td>\n",
       "      <td>33615</td>\n",
       "      <td>POINT (985031.393485933 217039.22504542628)</td>\n",
       "      <td>11 AVENUE</td>\n",
       "      <td>West 44 Street</td>\n",
       "      <td>West 45 Street</td>\n",
       "      <td>NB</td>\n",
       "      <td>(40.762398908462565, -73.997179301792)</td>\n",
       "    </tr>\n",
       "  </tbody>\n",
       "</table>\n",
       "</div>"
      ],
      "text/plain": [
       "      RequestID       Boro    Yr  M  D  HH  MM  Vol  SegmentID  \\\n",
       "0         26511  Manhattan  2018  3  3   0   0    5      70896   \n",
       "1248      26515  Manhattan  2018  3  3   0   0    4      33615   \n",
       "\n",
       "                                           WktGeom           street  \\\n",
       "0     POINT (1001087.029976143 245331.74467825014)  WEST 167 STREET   \n",
       "1248   POINT (985031.393485933 217039.22504542628)        11 AVENUE   \n",
       "\n",
       "              fromSt            toSt Direction  \\\n",
       "0     Audubon Avenue   8 Avenue Line        WB   \n",
       "1248  West 44 Street  West 45 Street        NB   \n",
       "\n",
       "                                  Coordinates  \n",
       "0     (40.84003811194584, -73.93915023590672)  \n",
       "1248   (40.762398908462565, -73.997179301792)  "
      ]
     },
     "execution_count": 29,
     "metadata": {},
     "output_type": "execute_result"
    }
   ],
   "source": [
    "unique_rows.head(2)"
   ]
  },
  {
   "cell_type": "code",
   "execution_count": 30,
   "metadata": {},
   "outputs": [],
   "source": [
    "select_column=['SegmentID','Coordinates']\n",
    "unique_rows[select_column].to_csv('volume_SegmentID-Geolocation')"
   ]
  },
  {
   "cell_type": "code",
   "execution_count": 42,
   "metadata": {},
   "outputs": [
    {
     "data": {
      "text/plain": [
       "(371, 4)"
      ]
     },
     "execution_count": 42,
     "metadata": {},
     "output_type": "execute_result"
    }
   ],
   "source": [
    "df_new=pd.read_csv('volume_SegmentID-Geolocation.csv')\n",
    "df_new.shape"
   ]
  },
  {
   "cell_type": "code",
   "execution_count": 43,
   "metadata": {},
   "outputs": [
    {
     "data": {
      "text/plain": [
       "Unnamed: 0.1     int64\n",
       "Unnamed: 0       int64\n",
       "SegmentID        int64\n",
       "Coordinates     object\n",
       "dtype: object"
      ]
     },
     "execution_count": 43,
     "metadata": {},
     "output_type": "execute_result"
    }
   ],
   "source": [
    "df_new.dtypes"
   ]
  },
  {
   "cell_type": "code",
   "execution_count": 47,
   "metadata": {},
   "outputs": [],
   "source": [
    "df_new=df_new.drop('Unnamed: 0.1',axis=1)"
   ]
  },
  {
   "cell_type": "code",
   "execution_count": 48,
   "metadata": {},
   "outputs": [],
   "source": [
    "df_new=df_new.drop('Unnamed: 0',axis=1)"
   ]
  },
  {
   "cell_type": "code",
   "execution_count": 49,
   "metadata": {},
   "outputs": [
    {
     "data": {
      "text/html": [
       "<div>\n",
       "<style scoped>\n",
       "    .dataframe tbody tr th:only-of-type {\n",
       "        vertical-align: middle;\n",
       "    }\n",
       "\n",
       "    .dataframe tbody tr th {\n",
       "        vertical-align: top;\n",
       "    }\n",
       "\n",
       "    .dataframe thead th {\n",
       "        text-align: right;\n",
       "    }\n",
       "</style>\n",
       "<table border=\"1\" class=\"dataframe\">\n",
       "  <thead>\n",
       "    <tr style=\"text-align: right;\">\n",
       "      <th></th>\n",
       "      <th>SegmentID</th>\n",
       "      <th>Coordinates</th>\n",
       "    </tr>\n",
       "  </thead>\n",
       "  <tbody>\n",
       "    <tr>\n",
       "      <th>0</th>\n",
       "      <td>70896</td>\n",
       "      <td>(40.84003811194584, -73.93915023590672)</td>\n",
       "    </tr>\n",
       "    <tr>\n",
       "      <th>1</th>\n",
       "      <td>33615</td>\n",
       "      <td>(40.762398908462565, -73.997179301792)</td>\n",
       "    </tr>\n",
       "  </tbody>\n",
       "</table>\n",
       "</div>"
      ],
      "text/plain": [
       "   SegmentID                              Coordinates\n",
       "0      70896  (40.84003811194584, -73.93915023590672)\n",
       "1      33615   (40.762398908462565, -73.997179301792)"
      ]
     },
     "execution_count": 49,
     "metadata": {},
     "output_type": "execute_result"
    }
   ],
   "source": [
    "df_new.head(2)"
   ]
  },
  {
   "cell_type": "code",
   "execution_count": 50,
   "metadata": {},
   "outputs": [],
   "source": [
    "df_new.to_csv('volume_SegmentID-Geolocation.csv')"
   ]
  },
  {
   "cell_type": "code",
   "execution_count": 51,
   "metadata": {},
   "outputs": [],
   "source": [
    "df_swap=pd.read_csv('volume_SegmentID-Geolocation.csv')"
   ]
  },
  {
   "cell_type": "code",
   "execution_count": 56,
   "metadata": {},
   "outputs": [
    {
     "name": "stdout",
     "output_type": "stream",
     "text": [
      "     Unnamed: 0  SegmentID                               Coordinates\n",
      "0             0      70896   (-73.93915023590672, 40.84003811194584)\n",
      "1             1      33615    (-73.997179301792, 40.762398908462565)\n",
      "2             2      33411   (-74.00495424814217, 40.75170880559713)\n",
      "3             3      33968  (-73.98720284497887, 40.760779305883766)\n",
      "4             4      33850  (-73.99042394665165, 40.761456779413706)\n",
      "..          ...        ...                                       ...\n",
      "366         366      38363   (-73.95920051630279, 40.80774670346572)\n",
      "367         367      38802   (-73.94783758212786, 40.82364082223198)\n",
      "368         368      38689  (-73.95094021573594, 40.821682688209705)\n",
      "369         369     146126   (-73.96823596692832, 40.75110637030952)\n",
      "370         370     194467   (-73.97143554419223, 40.74415485986301)\n",
      "\n",
      "[371 rows x 3 columns]\n"
     ]
    }
   ],
   "source": [
    "# 定义交换坐标顺序的函数\n",
    "def swap_coordinates(coordinates_str):\n",
    "    lat, lon = coordinates_str.strip('()').split(', ')\n",
    "    return f'({lon}, {lat})'\n",
    "\n",
    "# 在DataFrame中应用交换坐标顺序的函数\n",
    "df_swap['Coordinates'] = df_swap['Coordinates'].apply(lambda x: swap_coordinates(x) if pd.notnull(x) else x)\n",
    "\n",
    "# 打印交换后的DataFrame\n",
    "print(df_swap)\n"
   ]
  },
  {
   "cell_type": "code",
   "execution_count": 57,
   "metadata": {},
   "outputs": [],
   "source": [
    "df_swap=df_swap.drop('Unnamed: 0',axis=1)"
   ]
  },
  {
   "cell_type": "code",
   "execution_count": 58,
   "metadata": {},
   "outputs": [
    {
     "data": {
      "text/html": [
       "<div>\n",
       "<style scoped>\n",
       "    .dataframe tbody tr th:only-of-type {\n",
       "        vertical-align: middle;\n",
       "    }\n",
       "\n",
       "    .dataframe tbody tr th {\n",
       "        vertical-align: top;\n",
       "    }\n",
       "\n",
       "    .dataframe thead th {\n",
       "        text-align: right;\n",
       "    }\n",
       "</style>\n",
       "<table border=\"1\" class=\"dataframe\">\n",
       "  <thead>\n",
       "    <tr style=\"text-align: right;\">\n",
       "      <th></th>\n",
       "      <th>SegmentID</th>\n",
       "      <th>Coordinates</th>\n",
       "    </tr>\n",
       "  </thead>\n",
       "  <tbody>\n",
       "    <tr>\n",
       "      <th>0</th>\n",
       "      <td>70896</td>\n",
       "      <td>(-73.93915023590672, 40.84003811194584)</td>\n",
       "    </tr>\n",
       "    <tr>\n",
       "      <th>1</th>\n",
       "      <td>33615</td>\n",
       "      <td>(-73.997179301792, 40.762398908462565)</td>\n",
       "    </tr>\n",
       "  </tbody>\n",
       "</table>\n",
       "</div>"
      ],
      "text/plain": [
       "   SegmentID                              Coordinates\n",
       "0      70896  (-73.93915023590672, 40.84003811194584)\n",
       "1      33615   (-73.997179301792, 40.762398908462565)"
      ]
     },
     "execution_count": 58,
     "metadata": {},
     "output_type": "execute_result"
    }
   ],
   "source": [
    "df_swap.head(2)"
   ]
  },
  {
   "cell_type": "code",
   "execution_count": 59,
   "metadata": {},
   "outputs": [],
   "source": [
    "df_swap.to_csv('volume_SegmentID-Geolocation.csv')"
   ]
  }
 ],
 "metadata": {
  "kernelspec": {
   "display_name": "Python 3 (ipykernel)",
   "language": "python",
   "name": "python3"
  },
  "language_info": {
   "codemirror_mode": {
    "name": "ipython",
    "version": 3
   },
   "file_extension": ".py",
   "mimetype": "text/x-python",
   "name": "python",
   "nbconvert_exporter": "python",
   "pygments_lexer": "ipython3",
   "version": "3.9.16"
  },
  "orig_nbformat": 4
 },
 "nbformat": 4,
 "nbformat_minor": 2
}
